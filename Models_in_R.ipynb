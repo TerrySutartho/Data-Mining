{
  "nbformat": 4,
  "nbformat_minor": 0,
  "metadata": {
    "colab": {
      "provenance": []
    },
    "kernelspec": {
      "name": "ir",
      "display_name": "R"
    },
    "language_info": {
      "name": "R"
    }
  },
  "cells": [
    {
      "cell_type": "code",
      "execution_count": null,
      "metadata": {
        "colab": {
          "base_uri": "https://localhost:8080/"
        },
        "id": "A9jfzeLwn74A",
        "outputId": "73020fc0-dcb9-4a82-9d05-c712e6a89227"
      },
      "outputs": [
        {
          "output_type": "stream",
          "name": "stderr",
          "text": [
            "Installing package into ‘/usr/local/lib/R/site-library’\n",
            "(as ‘lib’ is unspecified)\n",
            "\n",
            "also installing the dependencies ‘listenv’, ‘parallelly’, ‘future’, ‘globals’, ‘shape’, ‘future.apply’, ‘numDeriv’, ‘progressr’, ‘SQUAREM’, ‘diagram’, ‘lava’, ‘prodlim’, ‘proxy’, ‘iterators’, ‘Rcpp’, ‘clock’, ‘gower’, ‘hardhat’, ‘ipred’, ‘timeDate’, ‘e1071’, ‘foreach’, ‘ModelMetrics’, ‘plyr’, ‘pROC’, ‘recipes’, ‘reshape2’\n",
            "\n",
            "\n",
            "Installing package into ‘/usr/local/lib/R/site-library’\n",
            "(as ‘lib’ is unspecified)\n",
            "\n",
            "Installing package into ‘/usr/local/lib/R/site-library’\n",
            "(as ‘lib’ is unspecified)\n",
            "\n"
          ]
        }
      ],
      "source": [
        "install.packages(\"caret\")\n",
        "install.packages(\"tree\")\n",
        "install.packages(\"randomForest\")\n",
        "install.packages(\"ROCR\")"
      ]
    },
    {
      "cell_type": "code",
      "source": [
        "# @title Prepocessing\n",
        "library(rpart)\n",
        "library(caret)\n",
        "library(tree)\n",
        "library(randomForest)\n",
        "library(e1071)\n",
        "library(ROCR)\n",
        "data <- read.csv(\"/creditworthiness.csv\")"
      ],
      "metadata": {
        "colab": {
          "base_uri": "https://localhost:8080/"
        },
        "id": "cUKKaUCmoC73",
        "outputId": "54b85849-2682-4733-f699-5bd2c50924c6"
      },
      "execution_count": null,
      "outputs": [
        {
          "output_type": "stream",
          "name": "stderr",
          "text": [
            "Loading required package: ggplot2\n",
            "\n",
            "Loading required package: lattice\n",
            "\n",
            "randomForest 4.7-1.1\n",
            "\n",
            "Type rfNews() to see new features/changes/bug fixes.\n",
            "\n",
            "\n",
            "Attaching package: ‘randomForest’\n",
            "\n",
            "\n",
            "The following object is masked from ‘package:ggplot2’:\n",
            "\n",
            "    margin\n",
            "\n",
            "\n"
          ]
        }
      ]
    },
    {
      "cell_type": "code",
      "source": [
        "cdata = subset(data, data[,46] > 0)\n",
        "unknownData = subset(data, data[,46] == 0)"
      ],
      "metadata": {
        "id": "lVss0aOT39g-"
      },
      "execution_count": null,
      "outputs": []
    },
    {
      "cell_type": "code",
      "source": [
        "cw.k <- cdata"
      ],
      "metadata": {
        "id": "3y2F_JiBo__u"
      },
      "execution_count": null,
      "outputs": []
    },
    {
      "cell_type": "code",
      "source": [
        "\n",
        "cw.train <- cw.k[1:(nrow(cw.k)/2), ]\n",
        "cw.test <- cw.k[-(1:(nrow(cw.k)/2)), ]"
      ],
      "metadata": {
        "id": "fQ1kcdcHoKGB"
      },
      "execution_count": null,
      "outputs": []
    },
    {
      "cell_type": "code",
      "source": [
        "cat(\"Dimensions of Training Set (cw.train):\", dim(cw.train), \"\\n\")\n",
        "cat(\"Dimensions of Test Set (cw.test):\", dim(cw.test), \"\\n\")"
      ],
      "metadata": {
        "colab": {
          "base_uri": "https://localhost:8080/"
        },
        "id": "-Bdc2hIlprbF",
        "outputId": "0daed38d-c9e8-4ccb-937c-daf9dc30bda2"
      },
      "execution_count": null,
      "outputs": [
        {
          "output_type": "stream",
          "name": "stdout",
          "text": [
            "Dimensions of Training Set (cw.train): 981 46 \n",
            "Dimensions of Test Set (cw.test): 981 46 \n"
          ]
        }
      ]
    },
    {
      "cell_type": "code",
      "source": [
        "\n",
        "tree_model <- rpart(factor(credit.rating)~ ., data=cw.train)\n",
        "print(tree_model)"
      ],
      "metadata": {
        "colab": {
          "base_uri": "https://localhost:8080/"
        },
        "id": "xnkMExALIy3x",
        "outputId": "fd001fed-f52e-499f-9610-dbcddb95c937"
      },
      "execution_count": null,
      "outputs": [
        {
          "output_type": "stream",
          "name": "stdout",
          "text": [
            "n= 981 \n",
            "\n",
            "node), split, n, loss, yval, (yprob)\n",
            "      * denotes terminal node\n",
            "\n",
            " 1) root 981 478 2 (0.23037717 0.51274210 0.25688073)  \n",
            "   2) functionary>=0.5 272 142 1 (0.47794118 0.34926471 0.17279412)  \n",
            "     4) re.balanced..paid.back..a.recently.overdrawn.current.acount>=0.5 261 131 1 (0.49808429 0.35249042 0.14942529)  \n",
            "       8) FI3O.credit.score>=0.5 252 122 1 (0.51587302 0.35714286 0.12698413) *\n",
            "       9) FI3O.credit.score< 0.5 9   2 3 (0.00000000 0.22222222 0.77777778) *\n",
            "     5) re.balanced..paid.back..a.recently.overdrawn.current.acount< 0.5 11   3 3 (0.00000000 0.27272727 0.72727273) *\n",
            "   3) functionary< 0.5 709 301 2 (0.13540197 0.57545839 0.28913963)  \n",
            "     6) FI3O.credit.score>=0.5 651 256 2 (0.14746544 0.60675883 0.24577573)  \n",
            "      12) re.balanced..paid.back..a.recently.overdrawn.current.acount>=0.5 594 218 2 (0.15488215 0.63299663 0.21212121) *\n",
            "      13) re.balanced..paid.back..a.recently.overdrawn.current.acount< 0.5 57  23 3 (0.07017544 0.33333333 0.59649123) *\n",
            "     7) FI3O.credit.score< 0.5 58  13 3 (0.00000000 0.22413793 0.77586207) *\n"
          ]
        }
      ]
    },
    {
      "cell_type": "code",
      "source": [
        "\n",
        "median_customer <- data.frame(\n",
        "  functionary = 0,\n",
        "  re.balanced..paid.back..a.recently.overdrawn.current.acount = 1,\n",
        "  FI3O.credit.score = 1,\n",
        "  gender = 0,\n",
        "  X0..accounts.at.other.banks = 3,\n",
        "  credit.refused.in.past. = 0,\n",
        "  years.employed = 3,\n",
        "  savings.on.other.accounts = 3,\n",
        "  self.employed. = 0,\n",
        "  max..account.balance.12.months.ago = 3,\n",
        "  min..account.balance.12.months.ago = 3,\n",
        "  avrg..account.balance.12.months.ago = 3,\n",
        "  max..account.balance.11.months.ago = 3,\n",
        "  min..account.balance.11.months.ago = 3,\n",
        "  avrg..account.balance.11.months.ago = 3,\n",
        "  max..account.balance.10.months.ago = 3,\n",
        "  min..account.balance.10.months.ago = 3,\n",
        "  avrg..account.balance.10.months.ago = 3,\n",
        "  max..account.balance.9.months.ago = 3,\n",
        "  min..account.balance.9.months.ago = 3,\n",
        "  avrg..account.balance.9.months.ago = 3,\n",
        "  max..account.balance.8.months.ago = 3,\n",
        "  min..account.balance.8.months.ago = 3,\n",
        "  avrg..account.balance.8.months.ago = 3,\n",
        "  max..account.balance.7.months.ago = 3,\n",
        "  min..account.balance.7.months.ago = 3,\n",
        "  avrg..account.balance.7.months.ago = 3,\n",
        "  max..account.balance.6.months.ago = 3,\n",
        "  min..account.balance.6.months.ago = 3,\n",
        "  avrg..account.balance.6.months.ago = 3,\n",
        "  max..account.balance.5.months.ago = 3,\n",
        "  min..account.balance.5.months.ago = 3,\n",
        "  avrg..account.balance.5.months.ago = 3,\n",
        "  max..account.balance.4.months.ago = 3,\n",
        "  min..account.balance.4.months.ago = 3,\n",
        "  avrg..account.balance.4.months.ago = 3,\n",
        "  max..account.balance.3.months.ago = 3,\n",
        "  min..account.balance.3.months.ago = 3,\n",
        "  avrg..account.balance.3.months.ago = 3,\n",
        "  max..account.balance.2.months.ago = 3,\n",
        "  min..account.balance.2.months.ago = 3,\n",
        "  avrg..account.balance.2.months.ago = 3,\n",
        "  max..account.balance.1.months.ago = 3,\n",
        "  min..account.balance.1.months.ago = 3,\n",
        "  avrg..account.balance.1.months.ago = 3\n",
        ")\n",
        "\n",
        "# Predict the credit rating of the median customer\n",
        "predicted_rating <- predict(tree_model, newdata=median_customer,type=\"class\")\n",
        "\n",
        "# Print the predicted credit rating\n",
        "print(predicted_rating)"
      ],
      "metadata": {
        "colab": {
          "base_uri": "https://localhost:8080/"
        },
        "id": "-Fcj4EM7rw1d",
        "outputId": "ec489d1f-c4ed-4e9a-88dd-405457d770c2"
      },
      "execution_count": null,
      "outputs": [
        {
          "output_type": "stream",
          "name": "stdout",
          "text": [
            "1 \n",
            "2 \n",
            "Levels: 1 2 3\n"
          ]
        }
      ]
    },
    {
      "cell_type": "code",
      "source": [
        "# Determine the majority class prediction\n",
        "temp <- names(sort(table(predicted_rating), decreasing = TRUE))[1]\n",
        "\n",
        "# Print the majority class prediction\n",
        "print(temp)"
      ],
      "metadata": {
        "colab": {
          "base_uri": "https://localhost:8080/"
        },
        "id": "0X3wjsNIzyJx",
        "outputId": "80065d7a-7ca5-4fb5-9b45-00e5b3870e28"
      },
      "execution_count": null,
      "outputs": [
        {
          "output_type": "stream",
          "name": "stdout",
          "text": [
            "[1] \"2\"\n"
          ]
        }
      ]
    },
    {
      "cell_type": "code",
      "source": [
        "\n",
        "predicted_ratings <- predict(tree_model, cw.test,type = \"class\")\n",
        "\n",
        "# Create the confusion matrix\n",
        "conf_matrix <- table(predicted_ratings, cw.test$credit.rating)\n",
        "\n",
        "# Print the confusion matrix\n",
        "print(conf_matrix)\n",
        "\n",
        "# Calculate overall accuracy rate\n",
        "overall_accuracy <- sum(diag(conf_matrix)) / sum(conf_matrix)\n",
        "print(paste(\"Overall Accuracy Rate:\", overall_accuracy))"
      ],
      "metadata": {
        "colab": {
          "base_uri": "https://localhost:8080/"
        },
        "id": "I5iomq_v2vSx",
        "outputId": "6c425a1c-9d1f-4e1c-d661-b5ca77978c26"
      },
      "execution_count": null,
      "outputs": [
        {
          "output_type": "stream",
          "name": "stdout",
          "text": [
            "                 \n",
            "predicted_ratings   1   2   3\n",
            "                1 162  85  37\n",
            "                2  90 361 143\n",
            "                3   5  21  77\n",
            "[1] \"Overall Accuracy Rate: 0.611620795107034\"\n"
          ]
        }
      ]
    },
    {
      "cell_type": "code",
      "source": [
        "\n",
        "# get the count of all classes in credit.rating using the table() function\n",
        "beforeCountFreq = table(cw.train$credit.rating)\n",
        "#find the probability of each class\n",
        "beforeClassProb = beforeCountFreq/sum(beforeCountFreq)\n",
        "#calculate entropy (before split)\n",
        "beforeEntropy = -sum(beforeClassProb * log2(beforeClassProb))\n",
        "print(beforeEntropy)"
      ],
      "metadata": {
        "colab": {
          "base_uri": "https://localhost:8080/"
        },
        "id": "QLLnQEQpP1_g",
        "outputId": "e0796db8-7f1a-40a8-ae2a-ef7ce2c39552"
      },
      "execution_count": null,
      "outputs": [
        {
          "output_type": "stream",
          "name": "stdout",
          "text": [
            "[1] 1.485749\n"
          ]
        }
      ]
    },
    {
      "cell_type": "code",
      "source": [
        "# functionary == 0\n",
        "countFreq0 = table(cw.train$credit.rating[cw.train$functionary == 0])\n",
        "classProb0 = countFreq0/sum(countFreq0)\n",
        "functionaryEnt0 = -sum(classProb0 * log2(classProb0))\n",
        "print(functionaryEnt0)"
      ],
      "metadata": {
        "colab": {
          "base_uri": "https://localhost:8080/"
        },
        "id": "2LW2FSeCRYcd",
        "outputId": "bb961fa8-6192-4d39-841e-510000b8d8fe"
      },
      "execution_count": null,
      "outputs": [
        {
          "output_type": "stream",
          "name": "stdout",
          "text": [
            "[1] 1.366963\n"
          ]
        }
      ]
    },
    {
      "cell_type": "code",
      "source": [
        "# functionary == 1\n",
        "countFreq1 = table(cw.train$credit.rating[cw.train$functionary == 1])\n",
        "classProb1 = countFreq1/sum(countFreq1)\n",
        "functionaryEnt1 = -sum(classProb1 * log2(classProb1))\n",
        "print(functionaryEnt1)"
      ],
      "metadata": {
        "colab": {
          "base_uri": "https://localhost:8080/"
        },
        "id": "4w7P_10QRrZl",
        "outputId": "c08dcdd2-315d-424e-cb71-eb15ebcc819f"
      },
      "execution_count": null,
      "outputs": [
        {
          "output_type": "stream",
          "name": "stdout",
          "text": [
            "[1] 1.476765\n"
          ]
        }
      ]
    },
    {
      "cell_type": "code",
      "source": [
        "ent = (beforeEntropy - (functionaryEnt0 * sum(countFreq0) +\n",
        "functionaryEnt1 * sum(countFreq1)) /\n",
        "sum(sum(countFreq0) + sum(countFreq1)))\n",
        "print(ent)"
      ],
      "metadata": {
        "colab": {
          "base_uri": "https://localhost:8080/"
        },
        "id": "PNUSm5pbRwfY",
        "outputId": "f0127aaa-ac4e-46cb-86f9-1d61fecb6cd9"
      },
      "execution_count": null,
      "outputs": [
        {
          "output_type": "stream",
          "name": "stdout",
          "text": [
            "[1] 0.0883414\n"
          ]
        }
      ]
    },
    {
      "cell_type": "code",
      "source": [
        "# Define the probabilities for each class at the root node\n",
        "p_root <- c(0.23037717, 0.51274210, 0.25688073)\n",
        "\n",
        "# Define the probabilities for each class at the child nodes\n",
        "p_child_left <- c(0.47794118, 0.34926471, 0.17279412)\n",
        "p_child_right <- c(0.13540197, 0.57545839, 0.28913963)\n",
        "\n",
        "# Calculate the entropy at the root node\n",
        "entropy_root <- -sum(p_root * log2(p_root))\n",
        "\n",
        "# Calculate the entropy at the child nodes\n",
        "entropy_child_left <- -sum(p_child_left * log2(p_child_left))\n",
        "entropy_child_right <- -sum(p_child_right * log2(p_child_right))\n",
        "\n",
        "# Calculate the weighted average entropy of the child nodes\n",
        "weighted_entropy_children <- (entropy_child_left * 272 + entropy_child_right * 709) / 981\n",
        "\n",
        "# Calculate the gain in entropy\n",
        "gain_entropy <- entropy_root - weighted_entropy_children\n",
        "\n",
        "# Print the gain in entropy\n",
        "print(paste(\"Gain in Entropy:\", gain_entropy))"
      ],
      "metadata": {
        "colab": {
          "base_uri": "https://localhost:8080/"
        },
        "id": "JFNG7IeiSCjE",
        "outputId": "35d3da26-c15b-4b0a-8da4-9d3324c029d7"
      },
      "execution_count": null,
      "outputs": [
        {
          "output_type": "stream",
          "name": "stdout",
          "text": [
            "[1] \"Gain in Entropy: 0.0883414087879082\"\n"
          ]
        }
      ]
    },
    {
      "cell_type": "code",
      "source": [
        "\n",
        "rf_model <- randomForest(factor(credit.rating)~., data = cw.train)\n",
        "print(rf_model)"
      ],
      "metadata": {
        "colab": {
          "base_uri": "https://localhost:8080/"
        },
        "id": "uYUNQQm7SRDv",
        "outputId": "d42a5191-2bf3-41df-a961-94d0ae4080d3"
      },
      "execution_count": null,
      "outputs": [
        {
          "output_type": "stream",
          "name": "stdout",
          "text": [
            "\n",
            "Call:\n",
            " randomForest(formula = factor(credit.rating) ~ ., data = cw.train) \n",
            "               Type of random forest: classification\n",
            "                     Number of trees: 500\n",
            "No. of variables tried at each split: 6\n",
            "\n",
            "        OOB estimate of  error rate: 44.14%\n",
            "Confusion matrix:\n",
            "   1   2  3 class.error\n",
            "1 54 172  0   0.7610619\n",
            "2 37 441 25   0.1232604\n",
            "3 10 189 53   0.7896825\n"
          ]
        }
      ]
    },
    {
      "cell_type": "markdown",
      "source": [
        "Error rate is 42.1% higher than decision tree"
      ],
      "metadata": {
        "id": "JyPT53LpVsdN"
      }
    },
    {
      "cell_type": "code",
      "source": [
        "\n",
        "rf_pred <- predict(rf_model, cw.test)\n",
        "\n",
        "# Create the confusion matrix\n",
        "confRF <- table(rf_pred, cw.test$credit.rating)\n",
        "\n",
        "# Print the confusion matrix\n",
        "print(confRF)\n",
        "\n",
        "# Calculate overall accuracy rate\n",
        "RF_accuracy <- sum(diag(confRF)) / sum(confRF)\n",
        "print(paste(\"Overall Accuracy Rate:\", RF_accuracy))"
      ],
      "metadata": {
        "colab": {
          "base_uri": "https://localhost:8080/"
        },
        "id": "vi6si0MiSznn",
        "outputId": "5d3e78b0-55db-4026-8c2d-e9f0cc382179"
      },
      "execution_count": null,
      "outputs": [
        {
          "output_type": "stream",
          "name": "stdout",
          "text": [
            "       \n",
            "rf_pred   1   2   3\n",
            "      1  55  40  12\n",
            "      2 200 415 191\n",
            "      3   2  12  54\n",
            "[1] \"Overall Accuracy Rate: 0.534148827726809\"\n"
          ]
        }
      ]
    },
    {
      "cell_type": "code",
      "source": [
        "tune_rf_model <- randomForest(factor(credit.rating)~., data = cw.train, mtry\n",
        "= 12, ntree=500, stepFactor=2, improve=0.2)\n",
        "tune_rf_pred <- predict(tune_rf_model, cw.test)\n",
        "\n",
        "tune_confRF <- table(tune_rf_pred, cw.test$credit.rating)\n",
        "\n",
        "# Print the confusion matrix\n",
        "print(tune_confRF)\n",
        "\n",
        "# Calculate overall accuracy rate\n",
        "tune_RF_accuracy <- sum(diag(tune_confRF)) / sum(tune_confRF)\n",
        "print(paste(\"Overall Accuracy Rate:\", tune_RF_accuracy))"
      ],
      "metadata": {
        "colab": {
          "base_uri": "https://localhost:8080/"
        },
        "id": "XuO49A_cUuap",
        "outputId": "5f5820c1-c7d6-4b6e-f434-38b6a789805d"
      },
      "execution_count": null,
      "outputs": [
        {
          "output_type": "stream",
          "name": "stdout",
          "text": [
            "            \n",
            "tune_rf_pred   1   2   3\n",
            "           1 112  58  25\n",
            "           2 142 391 166\n",
            "           3   3  18  66\n",
            "[1] \"Overall Accuracy Rate: 0.580020387359837\"\n"
          ]
        }
      ]
    },
    {
      "cell_type": "markdown",
      "source": [
        "Overall Random Forest Accuracy before and after tuning is lower than decision tree accruracy. Before tuning Accuracy is53.4%, After tuning 58.0%"
      ],
      "metadata": {
        "id": "qVtvEuGkVGLW"
      }
    },
    {
      "cell_type": "code",
      "source": [
        "\n",
        "# Fit a support vector machine\n",
        "svm_model <- svm(factor(credit.rating) ~ ., data = cw.train, kernel = \"radial\")\n",
        "\n",
        "# Print the SVM model\n",
        "print(svm_model)"
      ],
      "metadata": {
        "colab": {
          "base_uri": "https://localhost:8080/"
        },
        "id": "0TM7n80RVVyH",
        "outputId": "8c5fd85c-d062-4653-d10c-bad4367fe1de"
      },
      "execution_count": null,
      "outputs": [
        {
          "output_type": "stream",
          "name": "stdout",
          "text": [
            "\n",
            "Call:\n",
            "svm(formula = factor(credit.rating) ~ ., data = cw.train, kernel = \"radial\")\n",
            "\n",
            "\n",
            "Parameters:\n",
            "   SVM-Type:  C-classification \n",
            " SVM-Kernel:  radial \n",
            "       cost:  1 \n",
            "\n",
            "Number of Support Vectors:  937\n",
            "\n"
          ]
        }
      ]
    },
    {
      "cell_type": "code",
      "source": [
        "\n",
        "# Predict the credit rating of the median customer\n",
        "svm_med_pred <- predict(svm_model, newdata=median_customer, decision.values = TRUE)\n",
        "# Print the predicted credit rating\n",
        "print(svm_med_pred)"
      ],
      "metadata": {
        "colab": {
          "base_uri": "https://localhost:8080/"
        },
        "id": "cHo8iM_yYZPo",
        "outputId": "8f440757-274b-4803-be6d-581ec0551772"
      },
      "execution_count": null,
      "outputs": [
        {
          "output_type": "stream",
          "name": "stdout",
          "text": [
            "1 \n",
            "2 \n",
            "attr(,\"decision.values\")\n",
            "       2/1      2/3         1/3\n",
            "1 1.021296 1.511396 -0.04938262\n",
            "Levels: 1 2 3\n"
          ]
        }
      ]
    },
    {
      "cell_type": "code",
      "source": [
        "# Determine the majority class prediction\n",
        "temp <- names(sort(table(svm_med_pred), decreasing = TRUE))[1]\n",
        "\n",
        "# Print the majority class prediction\n",
        "print(temp)"
      ],
      "metadata": {
        "colab": {
          "base_uri": "https://localhost:8080/"
        },
        "id": "tg0Da7cV0DmD",
        "outputId": "7c4b20be-7a21-426a-a769-20aee82db2f4"
      },
      "execution_count": null,
      "outputs": [
        {
          "output_type": "stream",
          "name": "stdout",
          "text": [
            "[1] \"2\"\n"
          ]
        }
      ]
    },
    {
      "cell_type": "code",
      "source": [
        "\n",
        "# Predict the credit ratings for the test set using the SVM model\n",
        "svm_pred <- predict(svm_model, newdata = cw.test)\n",
        "\n",
        "confSVM <- table(svm_pred, cw.test$credit.rating)\n",
        "\n",
        "# Print the confusion matrix\n",
        "print(confSVM)\n",
        "\n",
        "# Calculate overall accuracy rate\n",
        "SVM_accuracy <- sum(diag(confSVM)) / sum(confSVM)\n",
        "print(paste(\"Overall Accuracy Rate:\", SVM_accuracy))"
      ],
      "metadata": {
        "colab": {
          "base_uri": "https://localhost:8080/"
        },
        "id": "Ff0Fwcmwlth3",
        "outputId": "4d5128d8-e8f3-4e22-9ce7-ba657bda3557"
      },
      "execution_count": null,
      "outputs": [
        {
          "output_type": "stream",
          "name": "stdout",
          "text": [
            "        \n",
            "svm_pred   1   2   3\n",
            "       1 109  56  22\n",
            "       2 143 393 162\n",
            "       3   5  18  73\n",
            "[1] \"Overall Accuracy Rate: 0.586136595310907\"\n"
          ]
        }
      ]
    },
    {
      "cell_type": "code",
      "source": [
        "\n",
        "summary(tune.svm(factor(credit.rating) ~ ., data = cw.train,\n",
        "kernel = \"radial\",cost = 10^c(0:2), gamma = 10^c(-4:-1)))\n",
        "# Fit a model using SVM\n",
        "svmTuned = svm(factor(credit.rating) ~ ., data = cw.train, kernel = \"radial\",\n",
        "cost=100,\n",
        "gamma = 0.0001)\n",
        "# Predict the values on test set\n",
        "svmTuned_pred <- predict(svmTuned, cw.test)\n",
        "# Produce confusion matrix\n",
        "confTunedSVM <- table(svmTuned_pred, cw.test$credit.rating)\n",
        "\n",
        "# Print the confusion matrix\n",
        "print(confTunedSVM)\n",
        "\n",
        "# Overall accuracy rate\n",
        "svm_tuned_accuracy = sum(diag(confTunedSVM))/sum(confTunedSVM)\n",
        "print(svm_tuned_accuracy)"
      ],
      "metadata": {
        "colab": {
          "base_uri": "https://localhost:8080/",
          "height": 555
        },
        "id": "mqS4L4V6mNaY",
        "outputId": "c49b177c-4024-46ae-eba4-48ef667ef99f"
      },
      "execution_count": null,
      "outputs": [
        {
          "output_type": "display_data",
          "data": {
            "text/plain": [
              "\n",
              "Parameter tuning of ‘svm’:\n",
              "\n",
              "- sampling method: 10-fold cross validation \n",
              "\n",
              "- best parameters:\n",
              " gamma cost\n",
              " 0.001   10\n",
              "\n",
              "- best performance: 0.3936199 \n",
              "\n",
              "- Detailed performance results:\n",
              "   gamma cost     error dispersion\n",
              "1  1e-04    1 0.4873634 0.06301757\n",
              "2  1e-03    1 0.4741084 0.06593086\n",
              "3  1e-02    1 0.4048444 0.07433211\n",
              "4  1e-01    1 0.4873634 0.06301757\n",
              "5  1e-04   10 0.4567821 0.06184884\n",
              "6  1e-03   10 0.3936199 0.06209939\n",
              "7  1e-02   10 0.4740878 0.05573965\n",
              "8  1e-01   10 0.4873634 0.06301757\n",
              "9  1e-04  100 0.3956504 0.05973096\n",
              "10 1e-03  100 0.3976706 0.05952811\n",
              "11 1e-02  100 0.4801690 0.04546022\n",
              "12 1e-01  100 0.4873634 0.06301757\n"
            ]
          },
          "metadata": {}
        },
        {
          "output_type": "stream",
          "name": "stdout",
          "text": [
            "             \n",
            "svmTuned_pred   1   2   3\n",
            "            1 159  87  39\n",
            "            2  93 361 146\n",
            "            3   5  19  72\n",
            "[1] 0.6034659\n"
          ]
        }
      ]
    },
    {
      "cell_type": "markdown",
      "source": [
        "*   Before: 0.58613\n",
        "*   After : 0.60346"
      ],
      "metadata": {
        "id": "a29i3g06ojVi"
      }
    },
    {
      "cell_type": "code",
      "source": [
        "\n",
        "nb_model <- naiveBayes(factor(credit.rating) ~ ., data = cw.train)"
      ],
      "metadata": {
        "id": "PChI7uErot-A"
      },
      "execution_count": null,
      "outputs": []
    },
    {
      "cell_type": "code",
      "source": [
        "\n",
        "# Predict the credit rating of the median customer\n",
        "nb_med_pred <- predict(nb_model, median_customer)\n",
        "# Print the predicted credit rating\n",
        "print(nb_med_pred)"
      ],
      "metadata": {
        "colab": {
          "base_uri": "https://localhost:8080/"
        },
        "id": "d18iNlKUpokr",
        "outputId": "bf1f226a-b8f1-44cd-9699-c813aa6ed181"
      },
      "execution_count": null,
      "outputs": [
        {
          "output_type": "stream",
          "name": "stdout",
          "text": [
            "[1] 1\n",
            "Levels: 1 2 3\n"
          ]
        }
      ]
    },
    {
      "cell_type": "code",
      "source": [
        "# Determine the majority class prediction\n",
        "temp <- names(sort(table(nb_med_pred), decreasing = TRUE))[1]\n",
        "\n",
        "# Print the majority class prediction\n",
        "print(temp)"
      ],
      "metadata": {
        "colab": {
          "base_uri": "https://localhost:8080/"
        },
        "id": "m6P589L00It_",
        "outputId": "65d569db-0085-4c37-98e2-61a8d8e41ba6"
      },
      "execution_count": null,
      "outputs": [
        {
          "output_type": "stream",
          "name": "stdout",
          "text": [
            "[1] \"1\"\n"
          ]
        }
      ]
    },
    {
      "cell_type": "code",
      "source": [
        "nb_med_pred_r <- predict(nb_model, median_customer, type='raw')\n",
        "print(nb_med_pred_r)"
      ],
      "metadata": {
        "colab": {
          "base_uri": "https://localhost:8080/"
        },
        "id": "PsZhFIq90cjO",
        "outputId": "dc97b7e9-b73f-45d5-e32f-c0b999f53d15"
      },
      "execution_count": null,
      "outputs": [
        {
          "output_type": "stream",
          "name": "stdout",
          "text": [
            "             1          2            3\n",
            "[1,] 0.9850729 0.01393277 0.0009942948\n"
          ]
        }
      ]
    },
    {
      "cell_type": "code",
      "source": [
        "\n",
        "print(nb_model)"
      ],
      "metadata": {
        "colab": {
          "base_uri": "https://localhost:8080/"
        },
        "id": "CNgU0MtitOwP",
        "outputId": "14c8aae1-5f1a-42af-c294-c00631234e10"
      },
      "execution_count": null,
      "outputs": [
        {
          "output_type": "stream",
          "name": "stdout",
          "text": [
            "\n",
            "Naive Bayes Classifier for Discrete Predictors\n",
            "\n",
            "Call:\n",
            "naiveBayes.default(x = X, y = Y, laplace = laplace)\n",
            "\n",
            "A-priori probabilities:\n",
            "Y\n",
            "        1         2         3 \n",
            "0.2303772 0.5127421 0.2568807 \n",
            "\n",
            "Conditional probabilities:\n",
            "   functionary\n",
            "Y        [,1]      [,2]\n",
            "  1 0.5752212 0.4954066\n",
            "  2 0.1888668 0.3917924\n",
            "  3 0.1865079 0.3902912\n",
            "\n",
            "   re.balanced..paid.back..a.recently.overdrawn.current.acount\n",
            "Y        [,1]      [,2]\n",
            "  1 0.9823009 0.1321481\n",
            "  2 0.9542744 0.2090974\n",
            "  3 0.8095238 0.3934582\n",
            "\n",
            "   FI3O.credit.score\n",
            "Y        [,1]      [,2]\n",
            "  1 1.0000000 0.0000000\n",
            "  2 0.9701789 0.1702628\n",
            "  3 0.7936508 0.4054894\n",
            "\n",
            "   gender\n",
            "Y        [,1]      [,2]\n",
            "  1 0.5265487 0.5004030\n",
            "  2 0.4015905 0.4907079\n",
            "  3 0.3531746 0.4789075\n",
            "\n",
            "   X0..accounts.at.other.banks\n",
            "Y       [,1]     [,2]\n",
            "  1 2.898230 1.370579\n",
            "  2 3.079523 1.410560\n",
            "  3 3.047619 1.433004\n",
            "\n",
            "   credit.refused.in.past.\n",
            "Y         [,1]      [,2]\n",
            "  1 0.05752212 0.2333544\n",
            "  2 0.09940358 0.2995010\n",
            "  3 0.21428571 0.4111425\n",
            "\n",
            "   years.employed\n",
            "Y       [,1]     [,2]\n",
            "  1 3.013274 1.409429\n",
            "  2 2.972167 1.412530\n",
            "  3 3.039683 1.314345\n",
            "\n",
            "   savings.on.other.accounts\n",
            "Y       [,1]     [,2]\n",
            "  1 3.442478 1.854427\n",
            "  2 3.626243 1.802905\n",
            "  3 3.420635 1.748548\n",
            "\n",
            "   self.employed.\n",
            "Y        [,1]      [,2]\n",
            "  1 0.1637168 0.3708398\n",
            "  2 0.2206759 0.4151152\n",
            "  3 0.2142857 0.4111425\n",
            "\n",
            "   max..account.balance.12.months.ago\n",
            "Y       [,1]     [,2]\n",
            "  1 2.955752 1.453819\n",
            "  2 2.978131 1.425968\n",
            "  3 2.940476 1.408719\n",
            "\n",
            "   min..account.balance.12.months.ago\n",
            "Y       [,1]     [,2]\n",
            "  1 2.973451 1.391787\n",
            "  2 2.956262 1.412126\n",
            "  3 3.115079 1.393872\n",
            "\n",
            "   avrg..account.balance.12.months.ago\n",
            "Y       [,1]     [,2]\n",
            "  1 3.225664 1.450657\n",
            "  2 2.982107 1.366094\n",
            "  3 3.015873 1.414124\n",
            "\n",
            "   max..account.balance.11.months.ago\n",
            "Y       [,1]     [,2]\n",
            "  1 2.884956 1.390458\n",
            "  2 2.992048 1.412782\n",
            "  3 3.059524 1.436723\n",
            "\n",
            "   min..account.balance.11.months.ago\n",
            "Y       [,1]     [,2]\n",
            "  1 2.827434 1.442636\n",
            "  2 2.990060 1.370543\n",
            "  3 2.984127 1.405647\n",
            "\n",
            "   avrg..account.balance.11.months.ago\n",
            "Y       [,1]     [,2]\n",
            "  1 3.017699 1.391928\n",
            "  2 2.978131 1.361654\n",
            "  3 2.996032 1.407147\n",
            "\n",
            "   max..account.balance.10.months.ago\n",
            "Y       [,1]     [,2]\n",
            "  1 3.026549 1.454252\n",
            "  2 3.001988 1.445558\n",
            "  3 2.968254 1.413856\n",
            "\n",
            "   min..account.balance.10.months.ago\n",
            "Y       [,1]     [,2]\n",
            "  1 2.792035 1.419273\n",
            "  2 3.031809 1.434833\n",
            "  3 2.904762 1.416626\n",
            "\n",
            "   avrg..account.balance.10.months.ago\n",
            "Y       [,1]     [,2]\n",
            "  1 2.946903 1.325582\n",
            "  2 2.998012 1.410686\n",
            "  3 3.027778 1.470569\n",
            "\n",
            "   max..account.balance.9.months.ago\n",
            "Y       [,1]     [,2]\n",
            "  1 3.110619 1.467022\n",
            "  2 2.912525 1.414320\n",
            "  3 2.980159 1.440591\n",
            "\n",
            "   min..account.balance.9.months.ago\n",
            "Y       [,1]     [,2]\n",
            "  1 2.920354 1.363926\n",
            "  2 2.914513 1.419362\n",
            "  3 3.067460 1.385545\n",
            "\n",
            "   avrg..account.balance.9.months.ago\n",
            "Y       [,1]     [,2]\n",
            "  1 2.915929 1.432019\n",
            "  2 2.926441 1.446440\n",
            "  3 3.158730 1.370798\n",
            "\n",
            "   max..account.balance.8.months.ago\n",
            "Y       [,1]     [,2]\n",
            "  1 2.955752 1.410370\n",
            "  2 3.103380 1.421676\n",
            "  3 3.027778 1.437691\n",
            "\n",
            "   min..account.balance.8.months.ago\n",
            "Y       [,1]     [,2]\n",
            "  1 2.973451 1.435797\n",
            "  2 2.978131 1.407690\n",
            "  3 3.027778 1.406878\n",
            "\n",
            "   avrg..account.balance.8.months.ago\n",
            "Y       [,1]     [,2]\n",
            "  1 2.871681 1.425605\n",
            "  2 3.103380 1.424476\n",
            "  3 2.996032 1.429618\n",
            "\n",
            "   max..account.balance.7.months.ago\n",
            "Y       [,1]     [,2]\n",
            "  1 2.964602 1.375527\n",
            "  2 3.007952 1.454467\n",
            "  3 2.948413 1.377580\n",
            "\n",
            "   min..account.balance.7.months.ago\n",
            "Y       [,1]     [,2]\n",
            "  1 2.858407 1.410231\n",
            "  2 3.019881 1.398492\n",
            "  3 3.000000 1.408568\n",
            "\n",
            "   avrg..account.balance.7.months.ago\n",
            "Y       [,1]     [,2]\n",
            "  1 2.960177 1.440126\n",
            "  2 3.101392 1.450257\n",
            "  3 3.138889 1.417223\n",
            "\n",
            "   max..account.balance.6.months.ago\n",
            "Y       [,1]     [,2]\n",
            "  1 3.097345 1.385414\n",
            "  2 3.023857 1.437762\n",
            "  3 2.984127 1.391403\n",
            "\n",
            "   min..account.balance.6.months.ago\n",
            "Y       [,1]     [,2]\n",
            "  1 3.035398 1.369050\n",
            "  2 3.000000 1.435187\n",
            "  3 3.087302 1.512339\n",
            "\n",
            "   avrg..account.balance.6.months.ago\n",
            "Y       [,1]     [,2]\n",
            "  1 3.053097 1.489762\n",
            "  2 3.214712 1.417598\n",
            "  3 2.892857 1.368553\n",
            "\n",
            "   max..account.balance.5.months.ago\n",
            "Y       [,1]     [,2]\n",
            "  1 2.973451 1.484499\n",
            "  2 3.041750 1.397296\n",
            "  3 2.940476 1.417179\n",
            "\n",
            "   min..account.balance.5.months.ago\n",
            "Y       [,1]     [,2]\n",
            "  1 2.831858 1.419876\n",
            "  2 2.990060 1.407826\n",
            "  3 2.873016 1.414124\n",
            "\n",
            "   avrg..account.balance.5.months.ago\n",
            "Y       [,1]     [,2]\n",
            "  1 2.836283 1.387151\n",
            "  2 2.984095 1.459870\n",
            "  3 3.023810 1.374000\n",
            "\n",
            "   max..account.balance.4.months.ago\n",
            "Y       [,1]     [,2]\n",
            "  1 3.199115 1.426791\n",
            "  2 3.075547 1.403701\n",
            "  3 3.023810 1.444673\n",
            "\n",
            "   min..account.balance.4.months.ago\n",
            "Y       [,1]     [,2]\n",
            "  1 2.946903 1.358697\n",
            "  2 3.015905 1.421150\n",
            "  3 2.948413 1.428689\n",
            "\n",
            "   avrg..account.balance.4.months.ago\n",
            "Y       [,1]     [,2]\n",
            "  1 2.946903 1.422615\n",
            "  2 3.019881 1.371161\n",
            "  3 3.011905 1.407102\n",
            "\n",
            "   max..account.balance.3.months.ago\n",
            "Y       [,1]     [,2]\n",
            "  1 2.796460 1.443202\n",
            "  2 3.097416 1.453274\n",
            "  3 3.035714 1.406698\n",
            "\n",
            "   min..account.balance.3.months.ago\n",
            "Y       [,1]     [,2]\n",
            "  1 2.951327 1.373503\n",
            "  2 3.007952 1.401456\n",
            "  3 2.956349 1.392238\n",
            "\n",
            "   avrg..account.balance.3.months.ago\n",
            "Y       [,1]     [,2]\n",
            "  1 2.911504 1.392408\n",
            "  2 3.170974 1.410897\n",
            "  3 2.956349 1.440064\n",
            "\n",
            "   max..account.balance.2.months.ago\n",
            "Y       [,1]     [,2]\n",
            "  1 3.123894 1.436865\n",
            "  2 2.840954 1.382356\n",
            "  3 3.027778 1.420966\n",
            "\n",
            "   min..account.balance.2.months.ago\n",
            "Y       [,1]     [,2]\n",
            "  1 2.893805 1.447529\n",
            "  2 3.005964 1.428915\n",
            "  3 3.115079 1.416554\n",
            "\n",
            "   avrg..account.balance.2.months.ago\n",
            "Y       [,1]     [,2]\n",
            "  1 2.977876 1.374190\n",
            "  2 3.011928 1.401428\n",
            "  3 2.988095 1.418383\n",
            "\n",
            "   max..account.balance.1.months.ago\n",
            "Y       [,1]     [,2]\n",
            "  1 2.898230 1.399459\n",
            "  2 3.017893 1.383482\n",
            "  3 2.888889 1.418277\n",
            "\n",
            "   min..account.balance.1.months.ago\n",
            "Y       [,1]     [,2]\n",
            "  1 2.995575 1.387236\n",
            "  2 3.011928 1.432358\n",
            "  3 2.892857 1.499146\n",
            "\n",
            "   avrg..account.balance.1.months.ago\n",
            "Y       [,1]     [,2]\n",
            "  1 2.942478 1.376392\n",
            "  2 3.071571 1.402490\n",
            "  3 3.043651 1.420566\n",
            "\n"
          ]
        }
      ]
    },
    {
      "cell_type": "code",
      "source": [
        "nb_pred <- predict(nb_model, cw.test)\n",
        "# Produce confusion matrix\n",
        "confnb <- table(nb_pred, cw.test$credit.rating)\n",
        "\n",
        "# Print the confusion matrix\n",
        "print(confnb)\n",
        "\n",
        "# Overall accuracy rate\n",
        "nb_accuracy = sum(diag(confnb))/sum(confnb)\n",
        "print(nb_accuracy)"
      ],
      "metadata": {
        "colab": {
          "base_uri": "https://localhost:8080/"
        },
        "id": "F40OuNQ91Ya9",
        "outputId": "6679bc7d-80cd-4b18-e88a-0ba07ad33964"
      },
      "execution_count": null,
      "outputs": [
        {
          "output_type": "stream",
          "name": "stdout",
          "text": [
            "       \n",
            "nb_pred   1   2   3\n",
            "      1 252 439 173\n",
            "      2   0   4   6\n",
            "      3   5  24  78\n",
            "[1] 0.3404689\n"
          ]
        }
      ]
    },
    {
      "cell_type": "code",
      "source": [
        "\n",
        "print(paste(\"Decision Tree Accuracy Rate:\", overall_accuracy))\n",
        "print(\"Decison tree:\")\n",
        "print(conf_matrix)#tree\n",
        "print(\"Random Forest\")\n",
        "print(rf_model)#RF\n",
        "print(\"SVM\")\n",
        "print(confSVM)#SVM\n",
        "print(\"Naive Bayes\")\n",
        "print(confnb)#NB"
      ],
      "metadata": {
        "colab": {
          "base_uri": "https://localhost:8080/"
        },
        "id": "hkMQshUQ11b7",
        "outputId": "1c88e07d-4919-4d47-fb5b-150a979f8d4d"
      },
      "execution_count": null,
      "outputs": [
        {
          "output_type": "stream",
          "name": "stdout",
          "text": [
            "[1] \"Decision Tree Accuracy Rate: 0.611620795107034\"\n",
            "[1] \"Decison tree:\"\n",
            "                 \n",
            "predicted_ratings   1   2   3\n",
            "                1 162  85  37\n",
            "                2  90 361 143\n",
            "                3   5  21  77\n",
            "[1] \"Random Forest\"\n",
            "\n",
            "Call:\n",
            " randomForest(formula = factor(credit.rating) ~ ., data = cw.train) \n",
            "               Type of random forest: classification\n",
            "                     Number of trees: 500\n",
            "No. of variables tried at each split: 6\n",
            "\n",
            "        OOB estimate of  error rate: 44.14%\n",
            "Confusion matrix:\n",
            "   1   2  3 class.error\n",
            "1 54 172  0   0.7610619\n",
            "2 37 441 25   0.1232604\n",
            "3 10 189 53   0.7896825\n",
            "[1] \"SVM\"\n",
            "        \n",
            "svm_pred   1   2   3\n",
            "       1 109  56  22\n",
            "       2 143 393 162\n",
            "       3   5  18  73\n",
            "[1] \"Naive Bayes\"\n",
            "       \n",
            "nb_pred   1   2   3\n",
            "      1 252 439 173\n",
            "      2   0   4   6\n",
            "      3   5  24  78\n"
          ]
        }
      ]
    },
    {
      "cell_type": "markdown",
      "source": [
        "Based on the confusion metrices i think that Decision Tree is the best. it has the best accuracy. More true positive."
      ],
      "metadata": {
        "id": "bVVLZA4p2h9z"
      }
    },
    {
      "cell_type": "code",
      "source": [],
      "metadata": {
        "id": "8MVMAtPq4its"
      },
      "execution_count": null,
      "outputs": []
    },
    {
      "cell_type": "markdown",
      "source": [
        "I think that the classifier have difficulty predicting the actual class 2. They predict it as class 1. For example Naive Bayes has 439, random forest has 172 and decision tree has 85"
      ],
      "metadata": {
        "id": "hbtF20IO4iXu"
      }
    },
    {
      "cell_type": "code",
      "source": [
        "\n",
        "glm.fit <- glm((credit.rating==1)~., data = cw.train, family = binomial)"
      ],
      "metadata": {
        "id": "cf_nzHvs515S"
      },
      "execution_count": null,
      "outputs": []
    },
    {
      "cell_type": "code",
      "source": [
        "\n",
        "options(width = 130)\n",
        "summary(glm.fit)"
      ],
      "metadata": {
        "colab": {
          "base_uri": "https://localhost:8080/",
          "height": 1000
        },
        "id": "-cRkF9Sv7In0",
        "outputId": "c7729ebd-fcbf-4749-b878-f35fa3755db0"
      },
      "execution_count": null,
      "outputs": [
        {
          "output_type": "display_data",
          "data": {
            "text/plain": [
              "\n",
              "Call:\n",
              "glm(formula = (credit.rating == 1) ~ ., family = binomial, data = cw.train)\n",
              "\n",
              "Coefficients:\n",
              "                                                              Estimate Std. Error z value Pr(>|z|)    \n",
              "(Intercept)                                                 -17.551605 429.995589  -0.041  0.96744    \n",
              "functionary                                                   1.740533   0.183036   9.509  < 2e-16 ***\n",
              "re.balanced..paid.back..a.recently.overdrawn.current.acount   1.501222   0.550965   2.725  0.00644 ** \n",
              "FI3O.credit.score                                            16.502759 429.993845   0.038  0.96939    \n",
              "gender                                                        0.577104   0.178807   3.228  0.00125 ** \n",
              "X0..accounts.at.other.banks                                  -0.027413   0.063141  -0.434  0.66417    \n",
              "credit.refused.in.past.                                      -0.935877   0.341848  -2.738  0.00619 ** \n",
              "years.employed                                                0.672572   0.269126   2.499  0.01245 *  \n",
              "savings.on.other.accounts                                    -0.548195   0.204670  -2.678  0.00740 ** \n",
              "self.employed.                                               -0.376394   0.236506  -1.591  0.11150    \n",
              "max..account.balance.12.months.ago                           -0.004444   0.062647  -0.071  0.94345    \n",
              "min..account.balance.12.months.ago                            0.030192   0.063737   0.474  0.63572    \n",
              "avrg..account.balance.12.months.ago                           0.124651   0.065028   1.917  0.05525 .  \n",
              "max..account.balance.11.months.ago                           -0.010150   0.063924  -0.159  0.87385    \n",
              "min..account.balance.11.months.ago                           -0.110469   0.064328  -1.717  0.08593 .  \n",
              "avrg..account.balance.11.months.ago                           0.052783   0.065196   0.810  0.41816    \n",
              "max..account.balance.10.months.ago                            0.019305   0.062526   0.309  0.75750    \n",
              "min..account.balance.10.months.ago                           -0.101696   0.063199  -1.609  0.10759    \n",
              "avrg..account.balance.10.months.ago                          -0.050933   0.065720  -0.775  0.43834    \n",
              "max..account.balance.9.months.ago                             0.096730   0.062586   1.546  0.12221    \n",
              "min..account.balance.9.months.ago                            -0.038009   0.064765  -0.587  0.55728    \n",
              "avrg..account.balance.9.months.ago                           -0.032928   0.062640  -0.526  0.59912    \n",
              "max..account.balance.8.months.ago                            -0.019017   0.063459  -0.300  0.76443    \n",
              "min..account.balance.8.months.ago                            -0.041455   0.062710  -0.661  0.50858    \n",
              "avrg..account.balance.8.months.ago                           -0.106852   0.063685  -1.678  0.09338 .  \n",
              "max..account.balance.7.months.ago                            -0.018414   0.063321  -0.291  0.77120    \n",
              "min..account.balance.7.months.ago                            -0.094176   0.063702  -1.478  0.13930    \n",
              "avrg..account.balance.7.months.ago                           -0.074021   0.061950  -1.195  0.23215    \n",
              "max..account.balance.6.months.ago                             0.069171   0.064686   1.069  0.28492    \n",
              "min..account.balance.6.months.ago                            -0.033830   0.062428  -0.542  0.58788    \n",
              "avrg..account.balance.6.months.ago                           -0.025278   0.062786  -0.403  0.68724    \n",
              "max..account.balance.5.months.ago                             0.015218   0.061902   0.246  0.80581    \n",
              "min..account.balance.5.months.ago                            -0.088221   0.064391  -1.370  0.17066    \n",
              "avrg..account.balance.5.months.ago                           -0.072089   0.063401  -1.137  0.25553    \n",
              "max..account.balance.4.months.ago                             0.034718   0.062889   0.552  0.58091    \n",
              "min..account.balance.4.months.ago                            -0.036728   0.064179  -0.572  0.56714    \n",
              "avrg..account.balance.4.months.ago                            0.020068   0.063954   0.314  0.75368    \n",
              "max..account.balance.3.months.ago                            -0.144584   0.062966  -2.296  0.02166 *  \n",
              "min..account.balance.3.months.ago                             0.014149   0.064191   0.220  0.82554    \n",
              "avrg..account.balance.3.months.ago                           -0.010770   0.064635  -0.167  0.86767    \n",
              "max..account.balance.2.months.ago                             0.100711   0.063196   1.594  0.11102    \n",
              "min..account.balance.2.months.ago                            -0.065585   0.063059  -1.040  0.29832    \n",
              "avrg..account.balance.2.months.ago                           -0.038225   0.064392  -0.594  0.55276    \n",
              "max..account.balance.1.months.ago                            -0.073012   0.065482  -1.115  0.26486    \n",
              "min..account.balance.1.months.ago                            -0.000658   0.062229  -0.011  0.99156    \n",
              "avrg..account.balance.1.months.ago                           -0.068570   0.064302  -1.066  0.28626    \n",
              "---\n",
              "Signif. codes:  0 ‘***’ 0.001 ‘**’ 0.01 ‘*’ 0.05 ‘.’ 0.1 ‘ ’ 1\n",
              "\n",
              "(Dispersion parameter for binomial family taken to be 1)\n",
              "\n",
              "    Null deviance: 1058.95  on 980  degrees of freedom\n",
              "Residual deviance:  820.79  on 935  degrees of freedom\n",
              "AIC: 912.79\n",
              "\n",
              "Number of Fisher Scoring iterations: 16\n"
            ]
          },
          "metadata": {}
        }
      ]
    },
    {
      "cell_type": "code",
      "source": [],
      "metadata": {
        "id": "iQAlMFg47Lnk"
      },
      "execution_count": null,
      "outputs": []
    },
    {
      "cell_type": "markdown",
      "source": [
        "using the p value the significant predictor are\n",
        "\n",
        "\n",
        "*   functionary\n",
        "*   re.balanced..paid.back..a.recently.overdrawn.current.acount\n",
        "*   gender\n",
        "*   credit.refused.in.past.\n",
        "*   years.employed\n",
        "*   savings.on.other.accounts\n",
        "\n"
      ],
      "metadata": {
        "id": "8zONRkXhRyj8"
      }
    },
    {
      "cell_type": "code",
      "source": [
        "\n",
        "tuned_svm <- tune.svm((credit.rating == 1) ~ ., data = cw.train,\n",
        "                      kernel = \"radial\", cost = 10^c(-2:2), gamma = 10^c(-4:1),\n",
        "                      type = 'C')\n",
        "\n",
        "# Print the summary of tuned SVM\n",
        "summary(tuned_svm)\n",
        "\n",
        "# Fit SVM model with type = \"C\"\n",
        "svm_model <- svm(I(credit.rating == 1) ~ ., data = cw.train, type = \"C\")\n",
        "\n",
        "# Print the SVM model\n",
        "print(svm_model)"
      ],
      "metadata": {
        "colab": {
          "base_uri": "https://localhost:8080/",
          "height": 972
        },
        "id": "BIhaXruDSSDu",
        "outputId": "70a640bf-a9e3-4459-95d5-8d93a96a9063"
      },
      "execution_count": null,
      "outputs": [
        {
          "output_type": "display_data",
          "data": {
            "text/plain": [
              "\n",
              "Parameter tuning of ‘svm’:\n",
              "\n",
              "- sampling method: 10-fold cross validation \n",
              "\n",
              "- best parameters:\n",
              " gamma cost\n",
              " 0.001  100\n",
              "\n",
              "- best performance: 0.2130282 \n",
              "\n",
              "- Detailed performance results:\n",
              "   gamma  cost     error dispersion\n",
              "1  1e-04 1e-02 0.2303649 0.05545095\n",
              "2  1e-03 1e-02 0.2303649 0.05545095\n",
              "3  1e-02 1e-02 0.2303649 0.05545095\n",
              "4  1e-01 1e-02 0.2303649 0.05545095\n",
              "5  1e+00 1e-02 0.2303649 0.05545095\n",
              "6  1e+01 1e-02 0.2303649 0.05545095\n",
              "7  1e-04 1e-01 0.2303649 0.05545095\n",
              "8  1e-03 1e-01 0.2303649 0.05545095\n",
              "9  1e-02 1e-01 0.2303649 0.05545095\n",
              "10 1e-01 1e-01 0.2303649 0.05545095\n",
              "11 1e+00 1e-01 0.2303649 0.05545095\n",
              "12 1e+01 1e-01 0.2303649 0.05545095\n",
              "13 1e-04 1e+00 0.2303649 0.05545095\n",
              "14 1e-03 1e+00 0.2303649 0.05545095\n",
              "15 1e-02 1e+00 0.2303546 0.05844457\n",
              "16 1e-01 1e+00 0.2303649 0.05545095\n",
              "17 1e+00 1e+00 0.2303649 0.05545095\n",
              "18 1e+01 1e+00 0.2303649 0.05545095\n",
              "19 1e-04 1e+01 0.2303649 0.05545095\n",
              "20 1e-03 1e+01 0.2405586 0.04457604\n",
              "21 1e-02 1e+01 0.2344362 0.02523601\n",
              "22 1e-01 1e+01 0.2303649 0.05545095\n",
              "23 1e+00 1e+01 0.2303649 0.05545095\n",
              "24 1e+01 1e+01 0.2303649 0.05545095\n",
              "25 1e-04 1e+02 0.2415791 0.04402113\n",
              "26 1e-03 1e+02 0.2130282 0.02255510\n",
              "27 1e-02 1e+02 0.2395073 0.03367631\n",
              "28 1e-01 1e+02 0.2303649 0.05545095\n",
              "29 1e+00 1e+02 0.2303649 0.05545095\n",
              "30 1e+01 1e+02 0.2303649 0.05545095\n"
            ]
          },
          "metadata": {}
        },
        {
          "output_type": "stream",
          "name": "stdout",
          "text": [
            "\n",
            "Call:\n",
            "svm(formula = I(credit.rating == 1) ~ ., data = cw.train, type = \"C\")\n",
            "\n",
            "\n",
            "Parameters:\n",
            "   SVM-Type:  C-classification \n",
            " SVM-Kernel:  radial \n",
            "       cost:  1 \n",
            "\n",
            "Number of Support Vectors:  664\n",
            "\n"
          ]
        }
      ]
    },
    {
      "cell_type": "code",
      "source": [
        "# Predict the values on test set[SVM]\n",
        "svm.fit.pred = predict(svm_model, cw.test[,-46], decision.values =TRUE)\n",
        "# Predict the values on test set[GLM]\n",
        "glm.fit.pred = predict(glm.fit, cw.test[,-46])"
      ],
      "metadata": {
        "id": "h-xkzujZUWi7"
      },
      "execution_count": null,
      "outputs": []
    },
    {
      "cell_type": "code",
      "source": [
        "\n",
        "confusionSVM = prediction(-attr(svm.fit.pred, \"decision.values\"),\n",
        "cw.test$credit.rating == 1)\n",
        "\n",
        "# Create rocs curve based on prediction\n",
        "rocsSVM <- performance(confusionSVM, \"tpr\", \"fpr\")"
      ],
      "metadata": {
        "id": "TJKTHHPRVdQO"
      },
      "execution_count": null,
      "outputs": []
    },
    {
      "cell_type": "code",
      "source": [
        "#make prediction using Logidtic Regression\n",
        "confusionGLM = prediction(glm.fit.pred, cw.test$credit.rating == 1)\n",
        "\n",
        "#create rocs curve based on prediction\n",
        "rocsGLM <- performance(confusionGLM, \"tpr\", \"fpr\")"
      ],
      "metadata": {
        "id": "04s6F6J6V_Ah"
      },
      "execution_count": null,
      "outputs": []
    },
    {
      "cell_type": "code",
      "source": [
        "# Plot the graph\n",
        "plot(rocsGLM, col=1)\n",
        "plot(rocsSVM, col= 2 ,add=TRUE)\n",
        "abline(0, 1, lty = 3)\n",
        "# Add the legend to the graph\n",
        "legend(0.6, 0.6, c('glm','svm'), 1:2)\n"
      ],
      "metadata": {
        "colab": {
          "base_uri": "https://localhost:8080/",
          "height": 437
        },
        "id": "13klzunSWCaC",
        "outputId": "35b64119-6719-46ee-ccac-a1239994e04d"
      },
      "execution_count": null,
      "outputs": [
        {
          "output_type": "display_data",
          "data": {
            "text/plain": [
              "plot without title"
            ],
            "image/png": "[encoded data removed]"
          },
          "metadata": {
            "image/png": {
              "width": 420,
              "height": 420
            }
          }
        }
      ]
    },
    {
      "cell_type": "markdown",
      "source": [
        "glm performs better generally. glm has higher AUC."
      ],
      "metadata": {
        "id": "v8qMTF-irCgt"
      }
    }
  ]
}