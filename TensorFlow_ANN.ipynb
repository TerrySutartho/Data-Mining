{
  "nbformat": 4,
  "nbformat_minor": 0,
  "metadata": {
    "colab": {
      "provenance": []
    },
    "kernelspec": {
      "name": "python3",
      "display_name": "Python 3"
    },
    "language_info": {
      "name": "python"
    }
  },
  "cells": [
    {
      "cell_type": "code",
      "source": [
        "import pandas as pd\n",
        "import numpy as np\n",
        "\n",
        "from sklearn.preprocessing import LabelEncoder, StandardScaler\n",
        "from sklearn.model_selection import train_test_split, GridSearchCV\n",
        "from sklearn.base import BaseEstimator, ClassifierMixin\n",
        "from sklearn.metrics import accuracy_score\n",
        "\n",
        "# Tensorflow dependencies\n",
        "import tensorflow as tf\n",
        "from tensorflow.keras.layers import *\n",
        "from tensorflow.keras.optimizers import Adam\n",
        "from tensorflow.keras import backend as K\n",
        "from tensorflow.keras.callbacks import EarlyStopping, ModelCheckpoint\n",
        "from tensorflow.keras import regularizers\n",
        "from tensorflow.keras.losses import SparseCategoricalCrossentropy\n",
        "from tensorflow.keras.metrics import SparseCategoricalAccuracy\n",
        "from tensorflow.keras.models import Model"
      ],
      "metadata": {
        "id": "OB0SQzb2KEPD"
      },
      "execution_count": null,
      "outputs": []
    },
    {
      "cell_type": "code",
      "execution_count": null,
      "metadata": {
        "colab": {
          "base_uri": "https://localhost:8080/"
        },
        "id": "-S0IEwccHYiu",
        "outputId": "77dd74a5-568e-4cb0-b22e-a63b8716e49d"
      },
      "outputs": [
        {
          "output_type": "stream",
          "name": "stdout",
          "text": [
            "Mounted at /content/drive\n"
          ]
        }
      ],
      "source": [
        "from google.colab import drive\n",
        "drive.mount(\"/content/drive\")\n",
        "\n",
        "data = pd.read_csv('/content/drive/My Drive/secondary_data.csv',sep=';')"
      ]
    },
    {
      "cell_type": "code",
      "source": [
        "print(data)"
      ],
      "metadata": {
        "colab": {
          "base_uri": "https://localhost:8080/"
        },
        "id": "jNFkKM6vKI6v",
        "outputId": "7d550150-719b-4d1f-db92-8cb67b103273"
      },
      "execution_count": null,
      "outputs": [
        {
          "output_type": "stream",
          "name": "stdout",
          "text": [
            "      class  cap-diameter cap-shape cap-surface cap-color  \\\n",
            "0         p         15.26         x           g         o   \n",
            "1         p         16.60         x           g         o   \n",
            "2         p         14.07         x           g         o   \n",
            "3         p         14.17         f           h         e   \n",
            "4         p         14.64         x           h         o   \n",
            "...     ...           ...       ...         ...       ...   \n",
            "61064     p          1.18         s           s         y   \n",
            "61065     p          1.27         f           s         y   \n",
            "61066     p          1.27         s           s         y   \n",
            "61067     p          1.24         f           s         y   \n",
            "61068     p          1.17         s           s         y   \n",
            "\n",
            "      does-bruise-or-bleed gill-attachment gill-spacing gill-color  \\\n",
            "0                        f               e          NaN          w   \n",
            "1                        f               e          NaN          w   \n",
            "2                        f               e          NaN          w   \n",
            "3                        f               e          NaN          w   \n",
            "4                        f               e          NaN          w   \n",
            "...                    ...             ...          ...        ...   \n",
            "61064                    f               f            f          f   \n",
            "61065                    f               f            f          f   \n",
            "61066                    f               f            f          f   \n",
            "61067                    f               f            f          f   \n",
            "61068                    f               f            f          f   \n",
            "\n",
            "       stem-height  ...  stem-root stem-surface stem-color veil-type  \\\n",
            "0            16.95  ...          s            y          w         u   \n",
            "1            17.99  ...          s            y          w         u   \n",
            "2            17.80  ...          s            y          w         u   \n",
            "3            15.77  ...          s            y          w         u   \n",
            "4            16.53  ...          s            y          w         u   \n",
            "...            ...  ...        ...          ...        ...       ...   \n",
            "61064         3.93  ...        NaN          NaN          y       NaN   \n",
            "61065         3.18  ...        NaN          NaN          y       NaN   \n",
            "61066         3.86  ...        NaN          NaN          y       NaN   \n",
            "61067         3.56  ...        NaN          NaN          y       NaN   \n",
            "61068         3.25  ...        NaN          NaN          y       NaN   \n",
            "\n",
            "      veil-color has-ring ring-type spore-print-color habitat season  \n",
            "0              w        t         g               NaN       d      w  \n",
            "1              w        t         g               NaN       d      u  \n",
            "2              w        t         g               NaN       d      w  \n",
            "3              w        t         p               NaN       d      w  \n",
            "4              w        t         p               NaN       d      w  \n",
            "...          ...      ...       ...               ...     ...    ...  \n",
            "61064        NaN        f         f               NaN       d      a  \n",
            "61065        NaN        f         f               NaN       d      a  \n",
            "61066        NaN        f         f               NaN       d      u  \n",
            "61067        NaN        f         f               NaN       d      u  \n",
            "61068        NaN        f         f               NaN       d      u  \n",
            "\n",
            "[61069 rows x 21 columns]\n"
          ]
        }
      ]
    },
    {
      "cell_type": "code",
      "source": [
        "data = data = pd.get_dummies(data)"
      ],
      "metadata": {
        "id": "GgABAM4caU_Q"
      },
      "execution_count": null,
      "outputs": []
    },
    {
      "cell_type": "code",
      "source": [
        "X = data.drop(columns=['class_p', 'class_e']).values\n",
        "y = data['class_p'].values"
      ],
      "metadata": {
        "id": "5vsuodN5OklM"
      },
      "execution_count": null,
      "outputs": []
    },
    {
      "cell_type": "code",
      "source": [
        "X_train, X_test, y_train, y_test = train_test_split(X, y, test_size=0.33)"
      ],
      "metadata": {
        "id": "zP9u31eMa_2z"
      },
      "execution_count": null,
      "outputs": []
    },
    {
      "cell_type": "code",
      "source": [
        "#ANN Architecture\n",
        "class ANNClassifier(BaseEstimator, ClassifierMixin):\n",
        "    def __init__(self, in_features=10, out_features=2, num_hidden=1,\n",
        "                 num_neurons=16, regularizer='l2',\n",
        "                 reg_param=1e-4, batch_norm=False, epochs=100,\n",
        "                 early_stopping=True, verbose=1):\n",
        "        self.in_features = in_features\n",
        "        self.out_features = out_features\n",
        "        self.num_hidden = num_hidden\n",
        "        self.num_neurons = num_neurons\n",
        "        self.regularizer = regularizer\n",
        "        self.regularizer_func = regularizers.l2 if regularizer=='l2' else regularizers.l1\n",
        "        self.reg_param = reg_param\n",
        "        self.batch_norm = batch_norm\n",
        "        self.epochs = epochs\n",
        "        self.early_stopping = early_stopping\n",
        "        self.verbose = verbose\n",
        "\n",
        "        # Build the ANN\n",
        "        self.model = ANNClassifier.build_model(in_features, out_features,\n",
        "                                               self.num_hidden,\n",
        "                                               self.num_neurons,\n",
        "                                               self.regularizer_func,\n",
        "                                               self.reg_param,\n",
        "                                               self.batch_norm)\n",
        "\n",
        "    @staticmethod\n",
        "    def build_model(in_features, out_features,\n",
        "                    num_hidden, num_neurons,\n",
        "                    regularizer_func, reg_param, batch_norm):\n",
        "        inputs = Input(shape=(in_features, ))\n",
        "        outputs = inputs\n",
        "\n",
        "        for i in range(num_hidden):\n",
        "            outputs = Dense(num_neurons, kernel_regularizer=regularizer_func(reg_param), activation='relu')(outputs)\n",
        "            if(batch_norm):\n",
        "                outputs = BatchNormalization()(outputs)\n",
        "\n",
        "        outputs = Dense(out_features, activation='softmax')(outputs)\n",
        "        model = Model(inputs=inputs, outputs=outputs, name='ANNClassifier')\n",
        "\n",
        "        return model\n",
        "\n",
        "    def fit(self, X, Y):\n",
        "        # Split into training and validating sets\n",
        "        X_train, X_val, Y_train, Y_val = train_test_split(X, Y, test_size=1/3)\n",
        "\n",
        "        # Specifies callbacks list\n",
        "        callbacks = [\n",
        "            ModelCheckpoint('model.weights.hdf5', save_best_only=True, verbose=self.verbose)\n",
        "        ]\n",
        "\n",
        "        # If early stopping is on, append early stopping callback to list\n",
        "        if(self.early_stopping):\n",
        "            callbacks.append(EarlyStopping(monitor='val_loss', patience=10, verbose=self.verbose))\n",
        "\n",
        "        # Configure training process\n",
        "        adam = Adam(learning_rate=0.001, amsgrad=True)\n",
        "        loss = SparseCategoricalCrossentropy()\n",
        "        accuracy = SparseCategoricalAccuracy()\n",
        "\n",
        "        # Compile the model then train\n",
        "        self.model.compile(optimizer=adam, loss=loss, metrics=[accuracy])\n",
        "        history = self.model.fit(X_train, Y_train, validation_data=(X_val, Y_val), epochs=self.epochs,\n",
        "                       callbacks=callbacks, verbose=self.verbose)\n",
        "\n",
        "        train_loss = history.history['loss'][-1]\n",
        "        val_loss = history.history['val_loss'][-1]\n",
        "        print(\"Training Loss:\", train_loss)\n",
        "        print(\"Validation Loss:\", val_loss)\n",
        "\n",
        "        # Calculate training and validation accuracy\n",
        "        train_accuracy = history.history['sparse_categorical_accuracy'][-1]\n",
        "        val_accuracy = history.history['val_sparse_categorical_accuracy'][-1]\n",
        "\n",
        "        # Print or return the metrics\n",
        "        print(\"Training Accuracy:\", train_accuracy)\n",
        "        print(\"Validation Accuracy:\", val_accuracy)\n",
        "\n",
        "        return history\n",
        "\n",
        "    def predict(self, X):\n",
        "        predictions = self.model.predict(X)\n",
        "        predictions = np.argmax(predictions, axis=1)\n",
        "\n",
        "        return predictions\n"
      ],
      "metadata": {
        "id": "gV8Gj4RpOwWY"
      },
      "execution_count": null,
      "outputs": []
    },
    {
      "cell_type": "code",
      "source": [
        "exclude = ['class_p','class_e']\n",
        "features = data.drop(columns=exclude)\n",
        "in_features = features.shape[1]\n",
        "out_features = 2"
      ],
      "metadata": {
        "id": "rfqVj2f_WKLg"
      },
      "execution_count": null,
      "outputs": []
    },
    {
      "cell_type": "code",
      "source": [
        "ann = ANNClassifier(in_features, out_features, epochs=10, verbose=1)\n",
        "ann.fit(X_train, y_train)"
      ],
      "metadata": {
        "colab": {
          "base_uri": "https://localhost:8080/"
        },
        "id": "zGu3wWhQWYQ4",
        "outputId": "2836e8a8-ce24-495a-b901-50e10942eae5"
      },
      "execution_count": null,
      "outputs": [
        {
          "output_type": "stream",
          "name": "stdout",
          "text": [
            "Epoch 1/10\n",
            "834/853 [============================>.] - ETA: 0s - loss: 0.4253 - sparse_categorical_accuracy: 0.8249\n",
            "Epoch 1: val_loss improved from inf to 0.21764, saving model to model.weights.hdf5\n",
            "853/853 [==============================] - 4s 3ms/step - loss: 0.4211 - sparse_categorical_accuracy: 0.8273 - val_loss: 0.2176 - val_sparse_categorical_accuracy: 0.9426\n",
            "Epoch 2/10\n",
            "852/853 [============================>.] - ETA: 0s - loss: 0.1489 - sparse_categorical_accuracy: 0.9712\n",
            "Epoch 2: val_loss improved from 0.21764 to 0.09922, saving model to model.weights.hdf5\n",
            "853/853 [==============================] - 2s 3ms/step - loss: 0.1488 - sparse_categorical_accuracy: 0.9713 - val_loss: 0.0992 - val_sparse_categorical_accuracy: 0.9868\n",
            "Epoch 3/10\n",
            "831/853 [============================>.] - ETA: 0s - loss: 0.0780 - sparse_categorical_accuracy: 0.9914\n",
            "Epoch 3: val_loss improved from 0.09922 to 0.05936, saving model to model.weights.hdf5\n",
            "853/853 [==============================] - 2s 3ms/step - loss: 0.0774 - sparse_categorical_accuracy: 0.9916 - val_loss: 0.0594 - val_sparse_categorical_accuracy: 0.9955\n",
            "Epoch 4/10\n",
            "836/853 [============================>.] - ETA: 0s - loss: 0.0505 - sparse_categorical_accuracy: 0.9968\n",
            "Epoch 4: val_loss improved from 0.05936 to 0.04189, saving model to model.weights.hdf5\n",
            "853/853 [==============================] - 2s 3ms/step - loss: 0.0503 - sparse_categorical_accuracy: 0.9968 - val_loss: 0.0419 - val_sparse_categorical_accuracy: 0.9979\n",
            "Epoch 5/10\n",
            "850/853 [============================>.] - ETA: 0s - loss: 0.0382 - sparse_categorical_accuracy: 0.9986\n",
            "Epoch 5: val_loss improved from 0.04189 to 0.03329, saving model to model.weights.hdf5\n",
            "853/853 [==============================] - 3s 3ms/step - loss: 0.0382 - sparse_categorical_accuracy: 0.9986 - val_loss: 0.0333 - val_sparse_categorical_accuracy: 0.9993\n",
            "Epoch 6/10\n",
            "829/853 [============================>.] - ETA: 0s - loss: 0.0322 - sparse_categorical_accuracy: 0.9991\n",
            "Epoch 6: val_loss improved from 0.03329 to 0.02960, saving model to model.weights.hdf5\n",
            "853/853 [==============================] - 4s 5ms/step - loss: 0.0321 - sparse_categorical_accuracy: 0.9992 - val_loss: 0.0296 - val_sparse_categorical_accuracy: 0.9996\n",
            "Epoch 7/10\n",
            "829/853 [============================>.] - ETA: 0s - loss: 0.0281 - sparse_categorical_accuracy: 0.9995\n",
            "Epoch 7: val_loss improved from 0.02960 to 0.02631, saving model to model.weights.hdf5\n",
            "853/853 [==============================] - 2s 3ms/step - loss: 0.0281 - sparse_categorical_accuracy: 0.9996 - val_loss: 0.0263 - val_sparse_categorical_accuracy: 0.9998\n",
            "Epoch 8/10\n",
            "846/853 [============================>.] - ETA: 0s - loss: 0.0257 - sparse_categorical_accuracy: 0.9995\n",
            "Epoch 8: val_loss improved from 0.02631 to 0.02430, saving model to model.weights.hdf5\n",
            "853/853 [==============================] - 2s 3ms/step - loss: 0.0257 - sparse_categorical_accuracy: 0.9995 - val_loss: 0.0243 - val_sparse_categorical_accuracy: 0.9996\n",
            "Epoch 9/10\n",
            "853/853 [==============================] - ETA: 0s - loss: 0.0237 - sparse_categorical_accuracy: 0.9997\n",
            "Epoch 9: val_loss improved from 0.02430 to 0.02272, saving model to model.weights.hdf5\n",
            "853/853 [==============================] - 2s 3ms/step - loss: 0.0237 - sparse_categorical_accuracy: 0.9997 - val_loss: 0.0227 - val_sparse_categorical_accuracy: 0.9998\n",
            "Epoch 10/10\n",
            "852/853 [============================>.] - ETA: 0s - loss: 0.0223 - sparse_categorical_accuracy: 0.9999\n",
            "Epoch 10: val_loss improved from 0.02272 to 0.02178, saving model to model.weights.hdf5\n",
            "853/853 [==============================] - 3s 4ms/step - loss: 0.0223 - sparse_categorical_accuracy: 0.9999 - val_loss: 0.0218 - val_sparse_categorical_accuracy: 0.9996\n",
            "Training Loss: 0.022285955026745796\n",
            "Validation Loss: 0.021776264533400536\n",
            "Training Accuracy: 0.9998900294303894\n",
            "Validation Accuracy: 0.9996334314346313\n"
          ]
        },
        {
          "output_type": "execute_result",
          "data": {
            "text/plain": [
              "<keras.src.callbacks.History at 0x7c78a37411b0>"
            ]
          },
          "metadata": {},
          "execution_count": 11
        }
      ]
    },
    {
      "cell_type": "code",
      "source": [
        "param_grid = {\n",
        "    'num_hidden' : [1, 2],\n",
        "    'num_neurons' : [8, 16],\n",
        "    'reg_param' : [2e-4, 2e-3]\n",
        "}\n",
        "\n",
        "clf = ANNClassifier(in_features=in_features, out_features=out_features, verbose=1, epochs=3)\n",
        "gridsearchcv = GridSearchCV(clf, param_grid, cv=3, scoring='accuracy', return_train_score=True, verbose=3)\n",
        "gridsearchcv.fit(X_train, y_train)\n",
        "best_params = gridsearchcv.best_params_"
      ],
      "metadata": {
        "colab": {
          "base_uri": "https://localhost:8080/"
        },
        "id": "SDC4upMUSBLC",
        "outputId": "67f4d976-0e4a-4bda-ddf3-b9bd34a193e9"
      },
      "execution_count": null,
      "outputs": [
        {
          "output_type": "stream",
          "name": "stdout",
          "text": [
            "Fitting 3 folds for each of 8 candidates, totalling 24 fits\n",
            "Epoch 1/3\n",
            "562/569 [============================>.] - ETA: 0s - loss: 0.5056 - sparse_categorical_accuracy: 0.7504\n",
            "Epoch 1: val_loss improved from inf to 0.34283, saving model to model.weights.hdf5\n",
            "569/569 [==============================] - 3s 5ms/step - loss: 0.5043 - sparse_categorical_accuracy: 0.7512 - val_loss: 0.3428 - val_sparse_categorical_accuracy: 0.8635\n",
            "Epoch 2/3\n",
            " 49/569 [=>............................] - ETA: 1s - loss: 0.3219 - sparse_categorical_accuracy: 0.8903"
          ]
        },
        {
          "output_type": "stream",
          "name": "stderr",
          "text": [
            "/usr/local/lib/python3.10/dist-packages/keras/src/engine/training.py:3103: UserWarning: You are saving your model as an HDF5 file via `model.save()`. This file format is considered legacy. We recommend using instead the native Keras format, e.g. `model.save('my_model.keras')`.\n",
            "  saving_api.save_model(\n"
          ]
        },
        {
          "output_type": "stream",
          "name": "stdout",
          "text": [
            "551/569 [============================>.] - ETA: 0s - loss: 0.2635 - sparse_categorical_accuracy: 0.9115\n",
            "Epoch 2: val_loss improved from 0.34283 to 0.19670, saving model to model.weights.hdf5\n",
            "569/569 [==============================] - 2s 4ms/step - loss: 0.2614 - sparse_categorical_accuracy: 0.9126 - val_loss: 0.1967 - val_sparse_categorical_accuracy: 0.9495\n",
            "Epoch 3/3\n",
            "565/569 [============================>.] - ETA: 0s - loss: 0.1614 - sparse_categorical_accuracy: 0.9604\n",
            "Epoch 3: val_loss improved from 0.19670 to 0.13383, saving model to model.weights.hdf5\n",
            "569/569 [==============================] - 2s 3ms/step - loss: 0.1611 - sparse_categorical_accuracy: 0.9606 - val_loss: 0.1338 - val_sparse_categorical_accuracy: 0.9718\n",
            "Training Loss: 0.16108502447605133\n",
            "Validation Loss: 0.13382774591445923\n",
            "Training Accuracy: 0.9605697393417358\n",
            "Validation Accuracy: 0.9718464612960815\n",
            "427/427 [==============================] - 1s 1ms/step\n",
            "853/853 [==============================] - 1s 2ms/step\n",
            "[CV 1/3] END num_hidden=1, num_neurons=8, reg_param=0.0002;, score=(train=0.973, test=0.971) total time=  11.9s\n",
            "Epoch 1/3\n",
            "569/569 [==============================] - ETA: 0s - loss: 0.5057 - sparse_categorical_accuracy: 0.7592\n",
            "Epoch 1: val_loss improved from inf to 0.34193, saving model to model.weights.hdf5\n",
            "569/569 [==============================] - 3s 5ms/step - loss: 0.5057 - sparse_categorical_accuracy: 0.7592 - val_loss: 0.3419 - val_sparse_categorical_accuracy: 0.8776\n",
            "Epoch 2/3\n",
            " 29/569 [>.............................] - ETA: 1s - loss: 0.3580 - sparse_categorical_accuracy: 0.8750"
          ]
        },
        {
          "output_type": "stream",
          "name": "stderr",
          "text": [
            "/usr/local/lib/python3.10/dist-packages/keras/src/engine/training.py:3103: UserWarning: You are saving your model as an HDF5 file via `model.save()`. This file format is considered legacy. We recommend using instead the native Keras format, e.g. `model.save('my_model.keras')`.\n",
            "  saving_api.save_model(\n"
          ]
        },
        {
          "output_type": "stream",
          "name": "stdout",
          "text": [
            "552/569 [============================>.] - ETA: 0s - loss: 0.2630 - sparse_categorical_accuracy: 0.9168\n",
            "Epoch 2: val_loss improved from 0.34193 to 0.20066, saving model to model.weights.hdf5\n",
            "569/569 [==============================] - 2s 4ms/step - loss: 0.2617 - sparse_categorical_accuracy: 0.9168 - val_loss: 0.2007 - val_sparse_categorical_accuracy: 0.9426\n",
            "Epoch 3/3\n",
            "562/569 [============================>.] - ETA: 0s - loss: 0.1581 - sparse_categorical_accuracy: 0.9610\n",
            "Epoch 3: val_loss improved from 0.20066 to 0.12498, saving model to model.weights.hdf5\n",
            "569/569 [==============================] - 2s 3ms/step - loss: 0.1577 - sparse_categorical_accuracy: 0.9613 - val_loss: 0.1250 - val_sparse_categorical_accuracy: 0.9781\n",
            "Training Loss: 0.15769754350185394\n",
            "Validation Loss: 0.12497959285974503\n",
            "Training Accuracy: 0.9612846374511719\n",
            "Validation Accuracy: 0.9781150221824646\n",
            "427/427 [==============================] - 1s 1ms/step\n",
            "853/853 [==============================] - 1s 1ms/step\n",
            "[CV 2/3] END num_hidden=1, num_neurons=8, reg_param=0.0002;, score=(train=0.979, test=0.978) total time=  12.5s\n",
            "Epoch 1/3\n",
            "550/569 [===========================>..] - ETA: 0s - loss: 0.5222 - sparse_categorical_accuracy: 0.7517\n",
            "Epoch 1: val_loss improved from inf to 0.33119, saving model to model.weights.hdf5\n",
            "569/569 [==============================] - 3s 5ms/step - loss: 0.5160 - sparse_categorical_accuracy: 0.7557 - val_loss: 0.3312 - val_sparse_categorical_accuracy: 0.8742\n",
            "Epoch 2/3\n",
            " 79/569 [===>..........................] - ETA: 0s - loss: 0.3176 - sparse_categorical_accuracy: 0.8809"
          ]
        },
        {
          "output_type": "stream",
          "name": "stderr",
          "text": [
            "/usr/local/lib/python3.10/dist-packages/keras/src/engine/training.py:3103: UserWarning: You are saving your model as an HDF5 file via `model.save()`. This file format is considered legacy. We recommend using instead the native Keras format, e.g. `model.save('my_model.keras')`.\n",
            "  saving_api.save_model(\n"
          ]
        },
        {
          "output_type": "stream",
          "name": "stdout",
          "text": [
            "563/569 [============================>.] - ETA: 0s - loss: 0.2555 - sparse_categorical_accuracy: 0.9124\n",
            "Epoch 2: val_loss improved from 0.33119 to 0.19449, saving model to model.weights.hdf5\n",
            "569/569 [==============================] - 2s 3ms/step - loss: 0.2546 - sparse_categorical_accuracy: 0.9129 - val_loss: 0.1945 - val_sparse_categorical_accuracy: 0.9433\n",
            "Epoch 3/3\n",
            "562/569 [============================>.] - ETA: 0s - loss: 0.1598 - sparse_categorical_accuracy: 0.9588\n",
            "Epoch 3: val_loss improved from 0.19449 to 0.12726, saving model to model.weights.hdf5\n",
            "569/569 [==============================] - 2s 3ms/step - loss: 0.1594 - sparse_categorical_accuracy: 0.9590 - val_loss: 0.1273 - val_sparse_categorical_accuracy: 0.9714\n",
            "Training Loss: 0.1594463437795639\n",
            "Validation Loss: 0.12725938856601715\n",
            "Training Accuracy: 0.9589771628379822\n",
            "Validation Accuracy: 0.9714065790176392\n",
            "427/427 [==============================] - 1s 1ms/step\n",
            "853/853 [==============================] - 1s 1ms/step\n",
            "[CV 3/3] END num_hidden=1, num_neurons=8, reg_param=0.0002;, score=(train=0.971, test=0.969) total time=   8.1s\n",
            "Epoch 1/3\n",
            "550/569 [===========================>..] - ETA: 0s - loss: 0.4972 - sparse_categorical_accuracy: 0.7645\n",
            "Epoch 1: val_loss improved from inf to 0.34308, saving model to model.weights.hdf5\n",
            "569/569 [==============================] - 2s 3ms/step - loss: 0.4926 - sparse_categorical_accuracy: 0.7681 - val_loss: 0.3431 - val_sparse_categorical_accuracy: 0.8662\n",
            "Epoch 2/3\n",
            " 82/569 [===>..........................] - ETA: 0s - loss: 0.3334 - sparse_categorical_accuracy: 0.8754"
          ]
        },
        {
          "output_type": "stream",
          "name": "stderr",
          "text": [
            "/usr/local/lib/python3.10/dist-packages/keras/src/engine/training.py:3103: UserWarning: You are saving your model as an HDF5 file via `model.save()`. This file format is considered legacy. We recommend using instead the native Keras format, e.g. `model.save('my_model.keras')`.\n",
            "  saving_api.save_model(\n"
          ]
        },
        {
          "output_type": "stream",
          "name": "stdout",
          "text": [
            "553/569 [============================>.] - ETA: 0s - loss: 0.2724 - sparse_categorical_accuracy: 0.8993\n",
            "Epoch 2: val_loss improved from 0.34308 to 0.21681, saving model to model.weights.hdf5\n",
            "569/569 [==============================] - 2s 4ms/step - loss: 0.2702 - sparse_categorical_accuracy: 0.9007 - val_loss: 0.2168 - val_sparse_categorical_accuracy: 0.9235\n",
            "Epoch 3/3\n",
            "559/569 [============================>.] - ETA: 0s - loss: 0.1800 - sparse_categorical_accuracy: 0.9420\n",
            "Epoch 3: val_loss improved from 0.21681 to 0.14632, saving model to model.weights.hdf5\n",
            "569/569 [==============================] - 2s 4ms/step - loss: 0.1798 - sparse_categorical_accuracy: 0.9422 - val_loss: 0.1463 - val_sparse_categorical_accuracy: 0.9614\n",
            "Training Loss: 0.17980319261550903\n",
            "Validation Loss: 0.14631564915180206\n",
            "Training Accuracy: 0.9422019124031067\n",
            "Validation Accuracy: 0.9613988995552063\n",
            "427/427 [==============================] - 1s 1ms/step\n",
            "853/853 [==============================] - 2s 2ms/step\n",
            "[CV 1/3] END num_hidden=1, num_neurons=8, reg_param=0.002;, score=(train=0.960, test=0.960) total time=   8.7s\n",
            "Epoch 1/3\n",
            "558/569 [============================>.] - ETA: 0s - loss: 0.5268 - sparse_categorical_accuracy: 0.7415\n",
            "Epoch 1: val_loss improved from inf to 0.36410, saving model to model.weights.hdf5\n",
            "569/569 [==============================] - 3s 3ms/step - loss: 0.5238 - sparse_categorical_accuracy: 0.7436 - val_loss: 0.3641 - val_sparse_categorical_accuracy: 0.8560\n",
            "Epoch 2/3\n",
            " 80/569 [===>..........................] - ETA: 0s - loss: 0.3489 - sparse_categorical_accuracy: 0.8594"
          ]
        },
        {
          "output_type": "stream",
          "name": "stderr",
          "text": [
            "/usr/local/lib/python3.10/dist-packages/keras/src/engine/training.py:3103: UserWarning: You are saving your model as an HDF5 file via `model.save()`. This file format is considered legacy. We recommend using instead the native Keras format, e.g. `model.save('my_model.keras')`.\n",
            "  saving_api.save_model(\n"
          ]
        },
        {
          "output_type": "stream",
          "name": "stdout",
          "text": [
            "562/569 [============================>.] - ETA: 0s - loss: 0.2939 - sparse_categorical_accuracy: 0.8884\n",
            "Epoch 2: val_loss improved from 0.36410 to 0.23318, saving model to model.weights.hdf5\n",
            "569/569 [==============================] - 2s 3ms/step - loss: 0.2932 - sparse_categorical_accuracy: 0.8885 - val_loss: 0.2332 - val_sparse_categorical_accuracy: 0.9210\n",
            "Epoch 3/3\n",
            "547/569 [===========================>..] - ETA: 0s - loss: 0.1949 - sparse_categorical_accuracy: 0.9437\n",
            "Epoch 3: val_loss improved from 0.23318 to 0.15887, saving model to model.weights.hdf5\n",
            "569/569 [==============================] - 2s 3ms/step - loss: 0.1939 - sparse_categorical_accuracy: 0.9440 - val_loss: 0.1589 - val_sparse_categorical_accuracy: 0.9593\n",
            "Training Loss: 0.193903848528862\n",
            "Validation Loss: 0.15886639058589935\n",
            "Training Accuracy: 0.9439617395401001\n",
            "Validation Accuracy: 0.9593093395233154\n",
            "427/427 [==============================] - 1s 1ms/step\n",
            "853/853 [==============================] - 1s 1ms/step\n",
            "[CV 2/3] END num_hidden=1, num_neurons=8, reg_param=0.002;, score=(train=0.962, test=0.960) total time=  12.3s\n",
            "Epoch 1/3\n",
            "546/569 [===========================>..] - ETA: 0s - loss: 0.5386 - sparse_categorical_accuracy: 0.7530\n",
            "Epoch 1: val_loss improved from inf to 0.35474, saving model to model.weights.hdf5\n",
            "569/569 [==============================] - 3s 4ms/step - loss: 0.5308 - sparse_categorical_accuracy: 0.7575 - val_loss: 0.3547 - val_sparse_categorical_accuracy: 0.8554\n",
            "Epoch 2/3\n",
            " 82/569 [===>..........................] - ETA: 0s - loss: 0.3345 - sparse_categorical_accuracy: 0.8784"
          ]
        },
        {
          "output_type": "stream",
          "name": "stderr",
          "text": [
            "/usr/local/lib/python3.10/dist-packages/keras/src/engine/training.py:3103: UserWarning: You are saving your model as an HDF5 file via `model.save()`. This file format is considered legacy. We recommend using instead the native Keras format, e.g. `model.save('my_model.keras')`.\n",
            "  saving_api.save_model(\n"
          ]
        },
        {
          "output_type": "stream",
          "name": "stdout",
          "text": [
            "566/569 [============================>.] - ETA: 0s - loss: 0.2828 - sparse_categorical_accuracy: 0.9021\n",
            "Epoch 2: val_loss improved from 0.35474 to 0.22159, saving model to model.weights.hdf5\n",
            "569/569 [==============================] - 2s 3ms/step - loss: 0.2827 - sparse_categorical_accuracy: 0.9022 - val_loss: 0.2216 - val_sparse_categorical_accuracy: 0.9337\n",
            "Epoch 3/3\n",
            "556/569 [============================>.] - ETA: 0s - loss: 0.1853 - sparse_categorical_accuracy: 0.9501\n",
            "Epoch 3: val_loss improved from 0.22159 to 0.15258, saving model to model.weights.hdf5\n",
            "569/569 [==============================] - 2s 4ms/step - loss: 0.1845 - sparse_categorical_accuracy: 0.9506 - val_loss: 0.1526 - val_sparse_categorical_accuracy: 0.9652\n",
            "Training Loss: 0.18448373675346375\n",
            "Validation Loss: 0.15257763862609863\n",
            "Training Accuracy: 0.9505636692047119\n",
            "Validation Accuracy: 0.9652479887008667\n",
            "427/427 [==============================] - 1s 2ms/step\n",
            "853/853 [==============================] - 1s 2ms/step\n",
            "[CV 3/3] END num_hidden=1, num_neurons=8, reg_param=0.002;, score=(train=0.968, test=0.968) total time=  12.3s\n",
            "Epoch 1/3\n",
            "566/569 [============================>.] - ETA: 0s - loss: 0.4733 - sparse_categorical_accuracy: 0.7726\n",
            "Epoch 1: val_loss improved from inf to 0.32959, saving model to model.weights.hdf5\n",
            "569/569 [==============================] - 2s 3ms/step - loss: 0.4726 - sparse_categorical_accuracy: 0.7730 - val_loss: 0.3296 - val_sparse_categorical_accuracy: 0.8768\n",
            "Epoch 2/3\n",
            " 67/569 [==>...........................] - ETA: 1s - loss: 0.3059 - sparse_categorical_accuracy: 0.8853"
          ]
        },
        {
          "output_type": "stream",
          "name": "stderr",
          "text": [
            "/usr/local/lib/python3.10/dist-packages/keras/src/engine/training.py:3103: UserWarning: You are saving your model as an HDF5 file via `model.save()`. This file format is considered legacy. We recommend using instead the native Keras format, e.g. `model.save('my_model.keras')`.\n",
            "  saving_api.save_model(\n"
          ]
        },
        {
          "output_type": "stream",
          "name": "stdout",
          "text": [
            "556/569 [============================>.] - ETA: 0s - loss: 0.2490 - sparse_categorical_accuracy: 0.9184\n",
            "Epoch 2: val_loss improved from 0.32959 to 0.20046, saving model to model.weights.hdf5\n",
            "569/569 [==============================] - 2s 3ms/step - loss: 0.2485 - sparse_categorical_accuracy: 0.9182 - val_loss: 0.2005 - val_sparse_categorical_accuracy: 0.9395\n",
            "Epoch 3/3\n",
            "551/569 [============================>.] - ETA: 0s - loss: 0.1524 - sparse_categorical_accuracy: 0.9605\n",
            "Epoch 3: val_loss improved from 0.20046 to 0.12157, saving model to model.weights.hdf5\n",
            "569/569 [==============================] - 2s 4ms/step - loss: 0.1513 - sparse_categorical_accuracy: 0.9612 - val_loss: 0.1216 - val_sparse_categorical_accuracy: 0.9776\n",
            "Training Loss: 0.15128619968891144\n",
            "Validation Loss: 0.12156840413808823\n",
            "Training Accuracy: 0.9611746668815613\n",
            "Validation Accuracy: 0.9775651693344116\n",
            "427/427 [==============================] - 1s 1ms/step\n",
            "853/853 [==============================] - 1s 1ms/step\n",
            "[CV 1/3] END num_hidden=1, num_neurons=16, reg_param=0.0002;, score=(train=0.979, test=0.980) total time=  11.7s\n",
            "Epoch 1/3\n",
            "544/569 [===========================>..] - ETA: 0s - loss: 0.4852 - sparse_categorical_accuracy: 0.7783\n",
            "Epoch 1: val_loss improved from inf to 0.32689, saving model to model.weights.hdf5\n",
            "569/569 [==============================] - 2s 3ms/step - loss: 0.4786 - sparse_categorical_accuracy: 0.7825 - val_loss: 0.3269 - val_sparse_categorical_accuracy: 0.8909\n",
            "Epoch 2/3\n",
            " 85/569 [===>..........................] - ETA: 0s - loss: 0.3152 - sparse_categorical_accuracy: 0.8890"
          ]
        },
        {
          "output_type": "stream",
          "name": "stderr",
          "text": [
            "/usr/local/lib/python3.10/dist-packages/keras/src/engine/training.py:3103: UserWarning: You are saving your model as an HDF5 file via `model.save()`. This file format is considered legacy. We recommend using instead the native Keras format, e.g. `model.save('my_model.keras')`.\n",
            "  saving_api.save_model(\n"
          ]
        },
        {
          "output_type": "stream",
          "name": "stdout",
          "text": [
            "547/569 [===========================>..] - ETA: 0s - loss: 0.2351 - sparse_categorical_accuracy: 0.9309\n",
            "Epoch 2: val_loss improved from 0.32689 to 0.15693, saving model to model.weights.hdf5\n",
            "569/569 [==============================] - 2s 3ms/step - loss: 0.2326 - sparse_categorical_accuracy: 0.9325 - val_loss: 0.1569 - val_sparse_categorical_accuracy: 0.9695\n",
            "Epoch 3/3\n",
            "553/569 [============================>.] - ETA: 0s - loss: 0.1205 - sparse_categorical_accuracy: 0.9823\n",
            "Epoch 3: val_loss improved from 0.15693 to 0.09293, saving model to model.weights.hdf5\n",
            "569/569 [==============================] - 2s 4ms/step - loss: 0.1195 - sparse_categorical_accuracy: 0.9827 - val_loss: 0.0929 - val_sparse_categorical_accuracy: 0.9883\n",
            "Training Loss: 0.11948184669017792\n",
            "Validation Loss: 0.09292588382959366\n",
            "Training Accuracy: 0.9827320575714111\n",
            "Validation Accuracy: 0.9883427023887634\n",
            "427/427 [==============================] - 1s 2ms/step\n",
            "853/853 [==============================] - 1s 1ms/step\n",
            "[CV 2/3] END num_hidden=1, num_neurons=16, reg_param=0.0002;, score=(train=0.990, test=0.989) total time=   8.0s\n",
            "Epoch 1/3\n",
            "555/569 [============================>.] - ETA: 0s - loss: 0.5219 - sparse_categorical_accuracy: 0.7468\n",
            "Epoch 1: val_loss improved from inf to 0.35996, saving model to model.weights.hdf5\n",
            "569/569 [==============================] - 3s 4ms/step - loss: 0.5182 - sparse_categorical_accuracy: 0.7500 - val_loss: 0.3600 - val_sparse_categorical_accuracy: 0.8629\n",
            "Epoch 2/3\n",
            " 73/569 [==>...........................] - ETA: 1s - loss: 0.3548 - sparse_categorical_accuracy: 0.8733"
          ]
        },
        {
          "output_type": "stream",
          "name": "stderr",
          "text": [
            "/usr/local/lib/python3.10/dist-packages/keras/src/engine/training.py:3103: UserWarning: You are saving your model as an HDF5 file via `model.save()`. This file format is considered legacy. We recommend using instead the native Keras format, e.g. `model.save('my_model.keras')`.\n",
            "  saving_api.save_model(\n"
          ]
        },
        {
          "output_type": "stream",
          "name": "stdout",
          "text": [
            "545/569 [===========================>..] - ETA: 0s - loss: 0.2928 - sparse_categorical_accuracy: 0.8920\n",
            "Epoch 2: val_loss improved from 0.35996 to 0.22862, saving model to model.weights.hdf5\n",
            "569/569 [==============================] - 2s 3ms/step - loss: 0.2908 - sparse_categorical_accuracy: 0.8930 - val_loss: 0.2286 - val_sparse_categorical_accuracy: 0.9307\n",
            "Epoch 3/3\n",
            "558/569 [============================>.] - ETA: 0s - loss: 0.1862 - sparse_categorical_accuracy: 0.9462\n",
            "Epoch 3: val_loss improved from 0.22862 to 0.14825, saving model to model.weights.hdf5\n",
            "569/569 [==============================] - 2s 3ms/step - loss: 0.1854 - sparse_categorical_accuracy: 0.9465 - val_loss: 0.1482 - val_sparse_categorical_accuracy: 0.9660\n",
            "Training Loss: 0.18540944159030914\n",
            "Validation Loss: 0.14824552834033966\n",
            "Training Accuracy: 0.9464943408966064\n",
            "Validation Accuracy: 0.9660178422927856\n",
            "427/427 [==============================] - 1s 1ms/step\n",
            "853/853 [==============================] - 2s 2ms/step\n",
            "[CV 3/3] END num_hidden=1, num_neurons=16, reg_param=0.0002;, score=(train=0.967, test=0.965) total time=   7.4s\n",
            "Epoch 1/3\n",
            "549/569 [===========================>..] - ETA: 0s - loss: 0.5146 - sparse_categorical_accuracy: 0.7446\n",
            "Epoch 1: val_loss improved from inf to 0.36389, saving model to model.weights.hdf5\n",
            "569/569 [==============================] - 2s 3ms/step - loss: 0.5102 - sparse_categorical_accuracy: 0.7479 - val_loss: 0.3639 - val_sparse_categorical_accuracy: 0.8643\n",
            "Epoch 2/3\n",
            " 76/569 [===>..........................] - ETA: 1s - loss: 0.3343 - sparse_categorical_accuracy: 0.8787"
          ]
        },
        {
          "output_type": "stream",
          "name": "stderr",
          "text": [
            "/usr/local/lib/python3.10/dist-packages/keras/src/engine/training.py:3103: UserWarning: You are saving your model as an HDF5 file via `model.save()`. This file format is considered legacy. We recommend using instead the native Keras format, e.g. `model.save('my_model.keras')`.\n",
            "  saving_api.save_model(\n"
          ]
        },
        {
          "output_type": "stream",
          "name": "stdout",
          "text": [
            "562/569 [============================>.] - ETA: 0s - loss: 0.2757 - sparse_categorical_accuracy: 0.9001\n",
            "Epoch 2: val_loss improved from 0.36389 to 0.21674, saving model to model.weights.hdf5\n",
            "569/569 [==============================] - 2s 3ms/step - loss: 0.2751 - sparse_categorical_accuracy: 0.9004 - val_loss: 0.2167 - val_sparse_categorical_accuracy: 0.9298\n",
            "Epoch 3/3\n",
            "550/569 [===========================>..] - ETA: 0s - loss: 0.1768 - sparse_categorical_accuracy: 0.9476\n",
            "Epoch 3: val_loss improved from 0.21674 to 0.14918, saving model to model.weights.hdf5\n",
            "569/569 [==============================] - 2s 3ms/step - loss: 0.1757 - sparse_categorical_accuracy: 0.9483 - val_loss: 0.1492 - val_sparse_categorical_accuracy: 0.9593\n",
            "Training Loss: 0.17572954297065735\n",
            "Validation Loss: 0.14917674660682678\n",
            "Training Accuracy: 0.9483062028884888\n",
            "Validation Accuracy: 0.9593093395233154\n",
            "427/427 [==============================] - 1s 2ms/step\n",
            "853/853 [==============================] - 1s 1ms/step\n",
            "[CV 1/3] END num_hidden=1, num_neurons=16, reg_param=0.002;, score=(train=0.963, test=0.962) total time=   7.3s\n",
            "Epoch 1/3\n",
            "565/569 [============================>.] - ETA: 0s - loss: 0.5084 - sparse_categorical_accuracy: 0.7506\n",
            "Epoch 1: val_loss improved from inf to 0.34645, saving model to model.weights.hdf5\n",
            "569/569 [==============================] - 4s 5ms/step - loss: 0.5071 - sparse_categorical_accuracy: 0.7513 - val_loss: 0.3464 - val_sparse_categorical_accuracy: 0.8585\n",
            "Epoch 2/3\n",
            " 32/569 [>.............................] - ETA: 1s - loss: 0.3411 - sparse_categorical_accuracy: 0.8584"
          ]
        },
        {
          "output_type": "stream",
          "name": "stderr",
          "text": [
            "/usr/local/lib/python3.10/dist-packages/keras/src/engine/training.py:3103: UserWarning: You are saving your model as an HDF5 file via `model.save()`. This file format is considered legacy. We recommend using instead the native Keras format, e.g. `model.save('my_model.keras')`.\n",
            "  saving_api.save_model(\n"
          ]
        },
        {
          "output_type": "stream",
          "name": "stdout",
          "text": [
            "561/569 [============================>.] - ETA: 0s - loss: 0.2569 - sparse_categorical_accuracy: 0.9120\n",
            "Epoch 2: val_loss improved from 0.34645 to 0.19892, saving model to model.weights.hdf5\n",
            "569/569 [==============================] - 2s 3ms/step - loss: 0.2560 - sparse_categorical_accuracy: 0.9123 - val_loss: 0.1989 - val_sparse_categorical_accuracy: 0.9372\n",
            "Epoch 3/3\n",
            "565/569 [============================>.] - ETA: 0s - loss: 0.1568 - sparse_categorical_accuracy: 0.9570\n",
            "Epoch 3: val_loss improved from 0.19892 to 0.13272, saving model to model.weights.hdf5\n",
            "569/569 [==============================] - 2s 3ms/step - loss: 0.1567 - sparse_categorical_accuracy: 0.9571 - val_loss: 0.1327 - val_sparse_categorical_accuracy: 0.9728\n",
            "Training Loss: 0.15665973722934723\n",
            "Validation Loss: 0.13272187113761902\n",
            "Training Accuracy: 0.9571051597595215\n",
            "Validation Accuracy: 0.9728362560272217\n",
            "427/427 [==============================] - 1s 1ms/step\n",
            "853/853 [==============================] - 1s 1ms/step\n",
            "[CV 2/3] END num_hidden=1, num_neurons=16, reg_param=0.002;, score=(train=0.973, test=0.970) total time=   8.9s\n",
            "Epoch 1/3\n",
            "553/569 [============================>.] - ETA: 0s - loss: 0.5210 - sparse_categorical_accuracy: 0.7389\n",
            "Epoch 1: val_loss improved from inf to 0.34145, saving model to model.weights.hdf5\n",
            "569/569 [==============================] - 3s 4ms/step - loss: 0.5165 - sparse_categorical_accuracy: 0.7419 - val_loss: 0.3414 - val_sparse_categorical_accuracy: 0.8691\n",
            "Epoch 2/3\n",
            " 79/569 [===>..........................] - ETA: 0s - loss: 0.3275 - sparse_categorical_accuracy: 0.8726"
          ]
        },
        {
          "output_type": "stream",
          "name": "stderr",
          "text": [
            "/usr/local/lib/python3.10/dist-packages/keras/src/engine/training.py:3103: UserWarning: You are saving your model as an HDF5 file via `model.save()`. This file format is considered legacy. We recommend using instead the native Keras format, e.g. `model.save('my_model.keras')`.\n",
            "  saving_api.save_model(\n"
          ]
        },
        {
          "output_type": "stream",
          "name": "stdout",
          "text": [
            "555/569 [============================>.] - ETA: 0s - loss: 0.2699 - sparse_categorical_accuracy: 0.9055\n",
            "Epoch 2: val_loss improved from 0.34145 to 0.20935, saving model to model.weights.hdf5\n",
            "569/569 [==============================] - 2s 4ms/step - loss: 0.2686 - sparse_categorical_accuracy: 0.9063 - val_loss: 0.2093 - val_sparse_categorical_accuracy: 0.9323\n",
            "Epoch 3/3\n",
            "551/569 [============================>.] - ETA: 0s - loss: 0.1682 - sparse_categorical_accuracy: 0.9549\n",
            "Epoch 3: val_loss improved from 0.20935 to 0.13468, saving model to model.weights.hdf5\n",
            "569/569 [==============================] - 3s 5ms/step - loss: 0.1679 - sparse_categorical_accuracy: 0.9547 - val_loss: 0.1347 - val_sparse_categorical_accuracy: 0.9680\n",
            "Training Loss: 0.1678769439458847\n",
            "Validation Loss: 0.13467970490455627\n",
            "Training Accuracy: 0.9546879529953003\n",
            "Validation Accuracy: 0.9679973721504211\n",
            "427/427 [==============================] - 1s 1ms/step\n",
            "853/853 [==============================] - 1s 2ms/step\n",
            "[CV 3/3] END num_hidden=1, num_neurons=16, reg_param=0.002;, score=(train=0.969, test=0.966) total time=   9.7s\n",
            "Epoch 1/3\n",
            "554/569 [============================>.] - ETA: 0s - loss: 0.4847 - sparse_categorical_accuracy: 0.7677\n",
            "Epoch 1: val_loss improved from inf to 0.31815, saving model to model.weights.hdf5\n",
            "569/569 [==============================] - 3s 4ms/step - loss: 0.4803 - sparse_categorical_accuracy: 0.7705 - val_loss: 0.3181 - val_sparse_categorical_accuracy: 0.8797\n",
            "Epoch 2/3\n",
            " 82/569 [===>..........................] - ETA: 0s - loss: 0.3028 - sparse_categorical_accuracy: 0.8861"
          ]
        },
        {
          "output_type": "stream",
          "name": "stderr",
          "text": [
            "/usr/local/lib/python3.10/dist-packages/keras/src/engine/training.py:3103: UserWarning: You are saving your model as an HDF5 file via `model.save()`. This file format is considered legacy. We recommend using instead the native Keras format, e.g. `model.save('my_model.keras')`.\n",
            "  saving_api.save_model(\n"
          ]
        },
        {
          "output_type": "stream",
          "name": "stdout",
          "text": [
            "552/569 [============================>.] - ETA: 0s - loss: 0.2419 - sparse_categorical_accuracy: 0.9147\n",
            "Epoch 2: val_loss improved from 0.31815 to 0.18070, saving model to model.weights.hdf5\n",
            "569/569 [==============================] - 2s 3ms/step - loss: 0.2409 - sparse_categorical_accuracy: 0.9149 - val_loss: 0.1807 - val_sparse_categorical_accuracy: 0.9462\n",
            "Epoch 3/3\n",
            "553/569 [============================>.] - ETA: 0s - loss: 0.1402 - sparse_categorical_accuracy: 0.9658\n",
            "Epoch 3: val_loss improved from 0.18070 to 0.11102, saving model to model.weights.hdf5\n",
            "569/569 [==============================] - 2s 3ms/step - loss: 0.1393 - sparse_categorical_accuracy: 0.9662 - val_loss: 0.1110 - val_sparse_categorical_accuracy: 0.9783\n",
            "Training Loss: 0.1393297016620636\n",
            "Validation Loss: 0.11102259904146194\n",
            "Training Accuracy: 0.966234028339386\n",
            "Validation Accuracy: 0.9783349633216858\n",
            "427/427 [==============================] - 1s 1ms/step\n",
            "853/853 [==============================] - 1s 1ms/step\n",
            "[CV 1/3] END num_hidden=2, num_neurons=8, reg_param=0.0002;, score=(train=0.978, test=0.977) total time=  12.3s\n",
            "Epoch 1/3\n",
            "557/569 [============================>.] - ETA: 0s - loss: 0.5108 - sparse_categorical_accuracy: 0.7438\n",
            "Epoch 1: val_loss improved from inf to 0.33340, saving model to model.weights.hdf5\n",
            "569/569 [==============================] - 2s 3ms/step - loss: 0.5076 - sparse_categorical_accuracy: 0.7459 - val_loss: 0.3334 - val_sparse_categorical_accuracy: 0.8832\n",
            "Epoch 2/3\n",
            " 77/569 [===>..........................] - ETA: 0s - loss: 0.3176 - sparse_categorical_accuracy: 0.8860"
          ]
        },
        {
          "output_type": "stream",
          "name": "stderr",
          "text": [
            "/usr/local/lib/python3.10/dist-packages/keras/src/engine/training.py:3103: UserWarning: You are saving your model as an HDF5 file via `model.save()`. This file format is considered legacy. We recommend using instead the native Keras format, e.g. `model.save('my_model.keras')`.\n",
            "  saving_api.save_model(\n"
          ]
        },
        {
          "output_type": "stream",
          "name": "stdout",
          "text": [
            "563/569 [============================>.] - ETA: 0s - loss: 0.2593 - sparse_categorical_accuracy: 0.9121\n",
            "Epoch 2: val_loss improved from 0.33340 to 0.20594, saving model to model.weights.hdf5\n",
            "569/569 [==============================] - 2s 4ms/step - loss: 0.2589 - sparse_categorical_accuracy: 0.9122 - val_loss: 0.2059 - val_sparse_categorical_accuracy: 0.9359\n",
            "Epoch 3/3\n",
            "563/569 [============================>.] - ETA: 0s - loss: 0.1678 - sparse_categorical_accuracy: 0.9580\n",
            "Epoch 3: val_loss improved from 0.20594 to 0.14350, saving model to model.weights.hdf5\n",
            "569/569 [==============================] - 3s 6ms/step - loss: 0.1678 - sparse_categorical_accuracy: 0.9580 - val_loss: 0.1435 - val_sparse_categorical_accuracy: 0.9621\n",
            "Training Loss: 0.16781890392303467\n",
            "Validation Loss: 0.14349548518657684\n",
            "Training Accuracy: 0.9580400586128235\n",
            "Validation Accuracy: 0.9620587229728699\n",
            "427/427 [==============================] - 1s 1ms/step\n",
            "853/853 [==============================] - 1s 2ms/step\n",
            "[CV 2/3] END num_hidden=2, num_neurons=8, reg_param=0.0002;, score=(train=0.964, test=0.962) total time=  11.8s\n",
            "Epoch 1/3\n",
            "565/569 [============================>.] - ETA: 0s - loss: 0.5394 - sparse_categorical_accuracy: 0.7470\n",
            "Epoch 1: val_loss improved from inf to 0.35079, saving model to model.weights.hdf5\n",
            "569/569 [==============================] - 3s 3ms/step - loss: 0.5382 - sparse_categorical_accuracy: 0.7478 - val_loss: 0.3508 - val_sparse_categorical_accuracy: 0.8711\n",
            "Epoch 2/3\n",
            " 78/569 [===>..........................] - ETA: 0s - loss: 0.3141 - sparse_categorical_accuracy: 0.8966"
          ]
        },
        {
          "output_type": "stream",
          "name": "stderr",
          "text": [
            "/usr/local/lib/python3.10/dist-packages/keras/src/engine/training.py:3103: UserWarning: You are saving your model as an HDF5 file via `model.save()`. This file format is considered legacy. We recommend using instead the native Keras format, e.g. `model.save('my_model.keras')`.\n",
            "  saving_api.save_model(\n"
          ]
        },
        {
          "output_type": "stream",
          "name": "stdout",
          "text": [
            "568/569 [============================>.] - ETA: 0s - loss: 0.2582 - sparse_categorical_accuracy: 0.9146\n",
            "Epoch 2: val_loss improved from 0.35079 to 0.19978, saving model to model.weights.hdf5\n",
            "569/569 [==============================] - 2s 3ms/step - loss: 0.2582 - sparse_categorical_accuracy: 0.9145 - val_loss: 0.1998 - val_sparse_categorical_accuracy: 0.9383\n",
            "Epoch 3/3\n",
            "569/569 [==============================] - ETA: 0s - loss: 0.1554 - sparse_categorical_accuracy: 0.9586\n",
            "Epoch 3: val_loss improved from 0.19978 to 0.13365, saving model to model.weights.hdf5\n",
            "569/569 [==============================] - 3s 5ms/step - loss: 0.1554 - sparse_categorical_accuracy: 0.9586 - val_loss: 0.1336 - val_sparse_categorical_accuracy: 0.9685\n",
            "Training Loss: 0.1554446965456009\n",
            "Validation Loss: 0.1336456686258316\n",
            "Training Accuracy: 0.9585922360420227\n",
            "Validation Accuracy: 0.9685472249984741\n",
            "427/427 [==============================] - 1s 2ms/step\n",
            "853/853 [==============================] - 1s 1ms/step\n",
            "[CV 3/3] END num_hidden=2, num_neurons=8, reg_param=0.0002;, score=(train=0.972, test=0.974) total time=  12.3s\n",
            "Epoch 1/3\n",
            "555/569 [============================>.] - ETA: 0s - loss: 0.4957 - sparse_categorical_accuracy: 0.7733\n",
            "Epoch 1: val_loss improved from inf to 0.34179, saving model to model.weights.hdf5\n",
            "569/569 [==============================] - 3s 4ms/step - loss: 0.4918 - sparse_categorical_accuracy: 0.7761 - val_loss: 0.3418 - val_sparse_categorical_accuracy: 0.8770\n",
            "Epoch 2/3\n",
            " 46/569 [=>............................] - ETA: 1s - loss: 0.3298 - sparse_categorical_accuracy: 0.8838"
          ]
        },
        {
          "output_type": "stream",
          "name": "stderr",
          "text": [
            "/usr/local/lib/python3.10/dist-packages/keras/src/engine/training.py:3103: UserWarning: You are saving your model as an HDF5 file via `model.save()`. This file format is considered legacy. We recommend using instead the native Keras format, e.g. `model.save('my_model.keras')`.\n",
            "  saving_api.save_model(\n"
          ]
        },
        {
          "output_type": "stream",
          "name": "stdout",
          "text": [
            "568/569 [============================>.] - ETA: 0s - loss: 0.2667 - sparse_categorical_accuracy: 0.9116\n",
            "Epoch 2: val_loss improved from 0.34179 to 0.20640, saving model to model.weights.hdf5\n",
            "569/569 [==============================] - 2s 4ms/step - loss: 0.2667 - sparse_categorical_accuracy: 0.9116 - val_loss: 0.2064 - val_sparse_categorical_accuracy: 0.9380\n",
            "Epoch 3/3\n",
            "550/569 [===========================>..] - ETA: 0s - loss: 0.1703 - sparse_categorical_accuracy: 0.9559\n",
            "Epoch 3: val_loss improved from 0.20640 to 0.13881, saving model to model.weights.hdf5\n",
            "569/569 [==============================] - 2s 4ms/step - loss: 0.1692 - sparse_categorical_accuracy: 0.9564 - val_loss: 0.1388 - val_sparse_categorical_accuracy: 0.9661\n",
            "Training Loss: 0.16923968493938446\n",
            "Validation Loss: 0.13880635797977448\n",
            "Training Accuracy: 0.9563902616500854\n",
            "Validation Accuracy: 0.9661278128623962\n",
            "427/427 [==============================] - 1s 1ms/step\n",
            "853/853 [==============================] - 1s 1ms/step\n",
            "[CV 1/3] END num_hidden=2, num_neurons=8, reg_param=0.002;, score=(train=0.970, test=0.969) total time=   8.9s\n",
            "Epoch 1/3\n",
            "558/569 [============================>.] - ETA: 0s - loss: 0.4863 - sparse_categorical_accuracy: 0.7689\n",
            "Epoch 1: val_loss improved from inf to 0.33155, saving model to model.weights.hdf5\n",
            "569/569 [==============================] - 3s 4ms/step - loss: 0.4831 - sparse_categorical_accuracy: 0.7708 - val_loss: 0.3316 - val_sparse_categorical_accuracy: 0.8667\n",
            "Epoch 2/3\n",
            " 74/569 [==>...........................] - ETA: 1s - loss: 0.3064 - sparse_categorical_accuracy: 0.8847"
          ]
        },
        {
          "output_type": "stream",
          "name": "stderr",
          "text": [
            "/usr/local/lib/python3.10/dist-packages/keras/src/engine/training.py:3103: UserWarning: You are saving your model as an HDF5 file via `model.save()`. This file format is considered legacy. We recommend using instead the native Keras format, e.g. `model.save('my_model.keras')`.\n",
            "  saving_api.save_model(\n"
          ]
        },
        {
          "output_type": "stream",
          "name": "stdout",
          "text": [
            "561/569 [============================>.] - ETA: 0s - loss: 0.2506 - sparse_categorical_accuracy: 0.9161\n",
            "Epoch 2: val_loss improved from 0.33155 to 0.18897, saving model to model.weights.hdf5\n",
            "569/569 [==============================] - 2s 3ms/step - loss: 0.2495 - sparse_categorical_accuracy: 0.9166 - val_loss: 0.1890 - val_sparse_categorical_accuracy: 0.9507\n",
            "Epoch 3/3\n",
            "566/569 [============================>.] - ETA: 0s - loss: 0.1483 - sparse_categorical_accuracy: 0.9673\n",
            "Epoch 3: val_loss improved from 0.18897 to 0.11826, saving model to model.weights.hdf5\n",
            "569/569 [==============================] - 2s 4ms/step - loss: 0.1483 - sparse_categorical_accuracy: 0.9673 - val_loss: 0.1183 - val_sparse_categorical_accuracy: 0.9810\n",
            "Training Loss: 0.14826324582099915\n",
            "Validation Loss: 0.11825897544622421\n",
            "Training Accuracy: 0.9673339128494263\n",
            "Validation Accuracy: 0.9809743762016296\n",
            "427/427 [==============================] - 1s 2ms/step\n",
            "853/853 [==============================] - 1s 1ms/step\n",
            "[CV 2/3] END num_hidden=2, num_neurons=8, reg_param=0.002;, score=(train=0.982, test=0.981) total time=   8.7s\n",
            "Epoch 1/3\n",
            "569/569 [==============================] - ETA: 0s - loss: 0.5602 - sparse_categorical_accuracy: 0.7327\n",
            "Epoch 1: val_loss improved from inf to 0.40248, saving model to model.weights.hdf5\n",
            "569/569 [==============================] - 3s 3ms/step - loss: 0.5602 - sparse_categorical_accuracy: 0.7327 - val_loss: 0.4025 - val_sparse_categorical_accuracy: 0.8371\n",
            "Epoch 2/3\n",
            " 78/569 [===>..........................] - ETA: 0s - loss: 0.4013 - sparse_categorical_accuracy: 0.8281"
          ]
        },
        {
          "output_type": "stream",
          "name": "stderr",
          "text": [
            "/usr/local/lib/python3.10/dist-packages/keras/src/engine/training.py:3103: UserWarning: You are saving your model as an HDF5 file via `model.save()`. This file format is considered legacy. We recommend using instead the native Keras format, e.g. `model.save('my_model.keras')`.\n",
            "  saving_api.save_model(\n"
          ]
        },
        {
          "output_type": "stream",
          "name": "stdout",
          "text": [
            "563/569 [============================>.] - ETA: 0s - loss: 0.3432 - sparse_categorical_accuracy: 0.8658\n",
            "Epoch 2: val_loss improved from 0.40248 to 0.28152, saving model to model.weights.hdf5\n",
            "569/569 [==============================] - 2s 3ms/step - loss: 0.3425 - sparse_categorical_accuracy: 0.8662 - val_loss: 0.2815 - val_sparse_categorical_accuracy: 0.8945\n",
            "Epoch 3/3\n",
            "555/569 [============================>.] - ETA: 0s - loss: 0.2272 - sparse_categorical_accuracy: 0.9271\n",
            "Epoch 3: val_loss improved from 0.28152 to 0.17956, saving model to model.weights.hdf5\n",
            "569/569 [==============================] - 2s 3ms/step - loss: 0.2258 - sparse_categorical_accuracy: 0.9279 - val_loss: 0.1796 - val_sparse_categorical_accuracy: 0.9515\n",
            "Training Loss: 0.22580616176128387\n",
            "Validation Loss: 0.17955821752548218\n",
            "Training Accuracy: 0.9279076457023621\n",
            "Validation Accuracy: 0.9515011310577393\n",
            "427/427 [==============================] - 1s 1ms/step\n",
            "853/853 [==============================] - 2s 2ms/step\n",
            "[CV 3/3] END num_hidden=2, num_neurons=8, reg_param=0.002;, score=(train=0.954, test=0.951) total time=   7.3s\n",
            "Epoch 1/3\n",
            "569/569 [==============================] - ETA: 0s - loss: 0.4995 - sparse_categorical_accuracy: 0.7656\n",
            "Epoch 1: val_loss improved from inf to 0.36304, saving model to model.weights.hdf5\n",
            "569/569 [==============================] - 3s 3ms/step - loss: 0.4995 - sparse_categorical_accuracy: 0.7656 - val_loss: 0.3630 - val_sparse_categorical_accuracy: 0.8610\n",
            "Epoch 2/3\n",
            " 77/569 [===>..........................] - ETA: 0s - loss: 0.3420 - sparse_categorical_accuracy: 0.8697"
          ]
        },
        {
          "output_type": "stream",
          "name": "stderr",
          "text": [
            "/usr/local/lib/python3.10/dist-packages/keras/src/engine/training.py:3103: UserWarning: You are saving your model as an HDF5 file via `model.save()`. This file format is considered legacy. We recommend using instead the native Keras format, e.g. `model.save('my_model.keras')`.\n",
            "  saving_api.save_model(\n"
          ]
        },
        {
          "output_type": "stream",
          "name": "stdout",
          "text": [
            "566/569 [============================>.] - ETA: 0s - loss: 0.2857 - sparse_categorical_accuracy: 0.8971\n",
            "Epoch 2: val_loss improved from 0.36304 to 0.23234, saving model to model.weights.hdf5\n",
            "569/569 [==============================] - 2s 3ms/step - loss: 0.2858 - sparse_categorical_accuracy: 0.8971 - val_loss: 0.2323 - val_sparse_categorical_accuracy: 0.9219\n",
            "Epoch 3/3\n",
            "549/569 [===========================>..] - ETA: 0s - loss: 0.1822 - sparse_categorical_accuracy: 0.9508\n",
            "Epoch 3: val_loss improved from 0.23234 to 0.15081, saving model to model.weights.hdf5\n",
            "569/569 [==============================] - 2s 3ms/step - loss: 0.1810 - sparse_categorical_accuracy: 0.9511 - val_loss: 0.1508 - val_sparse_categorical_accuracy: 0.9632\n",
            "Training Loss: 0.18102753162384033\n",
            "Validation Loss: 0.1508110612630844\n",
            "Training Accuracy: 0.9510558843612671\n",
            "Validation Accuracy: 0.9631584882736206\n",
            "427/427 [==============================] - 1s 1ms/step\n",
            "853/853 [==============================] - 1s 1ms/step\n",
            "[CV 1/3] END num_hidden=2, num_neurons=16, reg_param=0.0002;, score=(train=0.966, test=0.963) total time=   8.0s\n",
            "Epoch 1/3\n",
            "555/569 [============================>.] - ETA: 0s - loss: 0.4978 - sparse_categorical_accuracy: 0.7684\n",
            "Epoch 1: val_loss improved from inf to 0.35742, saving model to model.weights.hdf5\n",
            "569/569 [==============================] - 3s 4ms/step - loss: 0.4948 - sparse_categorical_accuracy: 0.7705 - val_loss: 0.3574 - val_sparse_categorical_accuracy: 0.8672\n",
            "Epoch 2/3\n",
            " 35/569 [>.............................] - ETA: 1s - loss: 0.3297 - sparse_categorical_accuracy: 0.8795"
          ]
        },
        {
          "output_type": "stream",
          "name": "stderr",
          "text": [
            "/usr/local/lib/python3.10/dist-packages/keras/src/engine/training.py:3103: UserWarning: You are saving your model as an HDF5 file via `model.save()`. This file format is considered legacy. We recommend using instead the native Keras format, e.g. `model.save('my_model.keras')`.\n",
            "  saving_api.save_model(\n"
          ]
        },
        {
          "output_type": "stream",
          "name": "stdout",
          "text": [
            "561/569 [============================>.] - ETA: 0s - loss: 0.2886 - sparse_categorical_accuracy: 0.8964\n",
            "Epoch 2: val_loss improved from 0.35742 to 0.24210, saving model to model.weights.hdf5\n",
            "569/569 [==============================] - 3s 4ms/step - loss: 0.2876 - sparse_categorical_accuracy: 0.8971 - val_loss: 0.2421 - val_sparse_categorical_accuracy: 0.9139\n",
            "Epoch 3/3\n",
            "554/569 [============================>.] - ETA: 0s - loss: 0.2000 - sparse_categorical_accuracy: 0.9346\n",
            "Epoch 3: val_loss improved from 0.24210 to 0.17621, saving model to model.weights.hdf5\n",
            "569/569 [==============================] - 2s 3ms/step - loss: 0.1992 - sparse_categorical_accuracy: 0.9350 - val_loss: 0.1762 - val_sparse_categorical_accuracy: 0.9376\n",
            "Training Loss: 0.19918474555015564\n",
            "Validation Loss: 0.17620691657066345\n",
            "Training Accuracy: 0.9349977970123291\n",
            "Validation Accuracy: 0.937644362449646\n",
            "427/427 [==============================] - 1s 1ms/step\n",
            "853/853 [==============================] - 1s 1ms/step\n",
            "[CV 2/3] END num_hidden=2, num_neurons=16, reg_param=0.0002;, score=(train=0.941, test=0.941) total time=   8.1s\n",
            "Epoch 1/3\n",
            "558/569 [============================>.] - ETA: 0s - loss: 0.4919 - sparse_categorical_accuracy: 0.7810\n",
            "Epoch 1: val_loss improved from inf to 0.34457, saving model to model.weights.hdf5\n",
            "569/569 [==============================] - 2s 3ms/step - loss: 0.4891 - sparse_categorical_accuracy: 0.7829 - val_loss: 0.3446 - val_sparse_categorical_accuracy: 0.8778\n",
            "Epoch 2/3\n",
            " 70/569 [==>...........................] - ETA: 1s - loss: 0.3291 - sparse_categorical_accuracy: 0.8848"
          ]
        },
        {
          "output_type": "stream",
          "name": "stderr",
          "text": [
            "/usr/local/lib/python3.10/dist-packages/keras/src/engine/training.py:3103: UserWarning: You are saving your model as an HDF5 file via `model.save()`. This file format is considered legacy. We recommend using instead the native Keras format, e.g. `model.save('my_model.keras')`.\n",
            "  saving_api.save_model(\n"
          ]
        },
        {
          "output_type": "stream",
          "name": "stdout",
          "text": [
            "556/569 [============================>.] - ETA: 0s - loss: 0.2513 - sparse_categorical_accuracy: 0.9192\n",
            "Epoch 2: val_loss improved from 0.34457 to 0.18926, saving model to model.weights.hdf5\n",
            "569/569 [==============================] - 2s 3ms/step - loss: 0.2497 - sparse_categorical_accuracy: 0.9200 - val_loss: 0.1893 - val_sparse_categorical_accuracy: 0.9486\n",
            "Epoch 3/3\n",
            "563/569 [============================>.] - ETA: 0s - loss: 0.1461 - sparse_categorical_accuracy: 0.9668\n",
            "Epoch 3: val_loss improved from 0.18926 to 0.12075, saving model to model.weights.hdf5\n",
            "569/569 [==============================] - 3s 5ms/step - loss: 0.1458 - sparse_categorical_accuracy: 0.9669 - val_loss: 0.1208 - val_sparse_categorical_accuracy: 0.9739\n",
            "Training Loss: 0.14579342305660248\n",
            "Validation Loss: 0.12075060606002808\n",
            "Training Accuracy: 0.9668958187103271\n",
            "Validation Accuracy: 0.9739360213279724\n",
            "427/427 [==============================] - 1s 1ms/step\n",
            "853/853 [==============================] - 1s 1ms/step\n",
            "[CV 3/3] END num_hidden=2, num_neurons=16, reg_param=0.0002;, score=(train=0.976, test=0.974) total time=  11.9s\n",
            "Epoch 1/3\n",
            "547/569 [===========================>..] - ETA: 0s - loss: 0.4768 - sparse_categorical_accuracy: 0.7857\n",
            "Epoch 1: val_loss improved from inf to 0.30940, saving model to model.weights.hdf5\n",
            "569/569 [==============================] - 2s 3ms/step - loss: 0.4704 - sparse_categorical_accuracy: 0.7898 - val_loss: 0.3094 - val_sparse_categorical_accuracy: 0.8965\n",
            "Epoch 2/3\n",
            " 67/569 [==>...........................] - ETA: 1s - loss: 0.2904 - sparse_categorical_accuracy: 0.8997"
          ]
        },
        {
          "output_type": "stream",
          "name": "stderr",
          "text": [
            "/usr/local/lib/python3.10/dist-packages/keras/src/engine/training.py:3103: UserWarning: You are saving your model as an HDF5 file via `model.save()`. This file format is considered legacy. We recommend using instead the native Keras format, e.g. `model.save('my_model.keras')`.\n",
            "  saving_api.save_model(\n"
          ]
        },
        {
          "output_type": "stream",
          "name": "stdout",
          "text": [
            "565/569 [============================>.] - ETA: 0s - loss: 0.2168 - sparse_categorical_accuracy: 0.9386\n",
            "Epoch 2: val_loss improved from 0.30940 to 0.15105, saving model to model.weights.hdf5\n",
            "569/569 [==============================] - 2s 4ms/step - loss: 0.2166 - sparse_categorical_accuracy: 0.9387 - val_loss: 0.1511 - val_sparse_categorical_accuracy: 0.9698\n",
            "Epoch 3/3\n",
            "568/569 [============================>.] - ETA: 0s - loss: 0.1165 - sparse_categorical_accuracy: 0.9816\n",
            "Epoch 3: val_loss improved from 0.15105 to 0.08973, saving model to model.weights.hdf5\n",
            "569/569 [==============================] - 2s 4ms/step - loss: 0.1165 - sparse_categorical_accuracy: 0.9816 - val_loss: 0.0897 - val_sparse_categorical_accuracy: 0.9882\n",
            "Training Loss: 0.11648157984018326\n",
            "Validation Loss: 0.08972704410552979\n",
            "Training Accuracy: 0.9815772175788879\n",
            "Validation Accuracy: 0.9882327318191528\n",
            "427/427 [==============================] - 1s 1ms/step\n",
            "853/853 [==============================] - 1s 2ms/step\n",
            "[CV 1/3] END num_hidden=2, num_neurons=16, reg_param=0.002;, score=(train=0.989, test=0.988) total time=   8.1s\n",
            "Epoch 1/3\n",
            "550/569 [===========================>..] - ETA: 0s - loss: 0.5134 - sparse_categorical_accuracy: 0.7635\n",
            "Epoch 1: val_loss improved from inf to 0.32797, saving model to model.weights.hdf5\n",
            "569/569 [==============================] - 2s 3ms/step - loss: 0.5072 - sparse_categorical_accuracy: 0.7675 - val_loss: 0.3280 - val_sparse_categorical_accuracy: 0.8753\n",
            "Epoch 2/3\n",
            " 82/569 [===>..........................] - ETA: 0s - loss: 0.3180 - sparse_categorical_accuracy: 0.8807"
          ]
        },
        {
          "output_type": "stream",
          "name": "stderr",
          "text": [
            "/usr/local/lib/python3.10/dist-packages/keras/src/engine/training.py:3103: UserWarning: You are saving your model as an HDF5 file via `model.save()`. This file format is considered legacy. We recommend using instead the native Keras format, e.g. `model.save('my_model.keras')`.\n",
            "  saving_api.save_model(\n"
          ]
        },
        {
          "output_type": "stream",
          "name": "stdout",
          "text": [
            "565/569 [============================>.] - ETA: 0s - loss: 0.2455 - sparse_categorical_accuracy: 0.9199\n",
            "Epoch 2: val_loss improved from 0.32797 to 0.18457, saving model to model.weights.hdf5\n",
            "569/569 [==============================] - 2s 3ms/step - loss: 0.2452 - sparse_categorical_accuracy: 0.9199 - val_loss: 0.1846 - val_sparse_categorical_accuracy: 0.9424\n",
            "Epoch 3/3\n",
            "557/569 [============================>.] - ETA: 0s - loss: 0.1461 - sparse_categorical_accuracy: 0.9652\n",
            "Epoch 3: val_loss improved from 0.18457 to 0.11908, saving model to model.weights.hdf5\n",
            "569/569 [==============================] - 2s 3ms/step - loss: 0.1456 - sparse_categorical_accuracy: 0.9653 - val_loss: 0.1191 - val_sparse_categorical_accuracy: 0.9781\n",
            "Training Loss: 0.14555658400058746\n",
            "Validation Loss: 0.11908017098903656\n",
            "Training Accuracy: 0.9652991890907288\n",
            "Validation Accuracy: 0.9781150221824646\n",
            "427/427 [==============================] - 1s 1ms/step\n",
            "853/853 [==============================] - 1s 1ms/step\n",
            "[CV 2/3] END num_hidden=2, num_neurons=16, reg_param=0.002;, score=(train=0.981, test=0.979) total time=  11.9s\n",
            "Epoch 1/3\n",
            "549/569 [===========================>..] - ETA: 0s - loss: 0.5059 - sparse_categorical_accuracy: 0.7640\n",
            "Epoch 1: val_loss improved from inf to 0.32907, saving model to model.weights.hdf5\n",
            "569/569 [==============================] - 3s 4ms/step - loss: 0.4987 - sparse_categorical_accuracy: 0.7687 - val_loss: 0.3291 - val_sparse_categorical_accuracy: 0.8828\n",
            "Epoch 2/3\n",
            " 73/569 [==>...........................] - ETA: 1s - loss: 0.3210 - sparse_categorical_accuracy: 0.8883"
          ]
        },
        {
          "output_type": "stream",
          "name": "stderr",
          "text": [
            "/usr/local/lib/python3.10/dist-packages/keras/src/engine/training.py:3103: UserWarning: You are saving your model as an HDF5 file via `model.save()`. This file format is considered legacy. We recommend using instead the native Keras format, e.g. `model.save('my_model.keras')`.\n",
            "  saving_api.save_model(\n"
          ]
        },
        {
          "output_type": "stream",
          "name": "stdout",
          "text": [
            "561/569 [============================>.] - ETA: 0s - loss: 0.2483 - sparse_categorical_accuracy: 0.9206\n",
            "Epoch 2: val_loss improved from 0.32907 to 0.18622, saving model to model.weights.hdf5\n",
            "569/569 [==============================] - 2s 3ms/step - loss: 0.2476 - sparse_categorical_accuracy: 0.9208 - val_loss: 0.1862 - val_sparse_categorical_accuracy: 0.9473\n",
            "Epoch 3/3\n",
            "564/569 [============================>.] - ETA: 0s - loss: 0.1431 - sparse_categorical_accuracy: 0.9638\n",
            "Epoch 3: val_loss improved from 0.18622 to 0.11481, saving model to model.weights.hdf5\n",
            "569/569 [==============================] - 3s 4ms/step - loss: 0.1428 - sparse_categorical_accuracy: 0.9639 - val_loss: 0.1148 - val_sparse_categorical_accuracy: 0.9726\n",
            "Training Loss: 0.1427573263645172\n",
            "Validation Loss: 0.11481349915266037\n",
            "Training Accuracy: 0.9639263153076172\n",
            "Validation Accuracy: 0.9726163148880005\n",
            "427/427 [==============================] - 1s 1ms/step\n",
            "853/853 [==============================] - 1s 1ms/step\n",
            "[CV 3/3] END num_hidden=2, num_neurons=16, reg_param=0.002;, score=(train=0.975, test=0.975) total time=  11.9s\n",
            "Epoch 1/3\n",
            "846/853 [============================>.] - ETA: 0s - loss: 0.4266 - sparse_categorical_accuracy: 0.8355\n",
            "Epoch 1: val_loss improved from inf to 0.21065, saving model to model.weights.hdf5\n",
            "853/853 [==============================] - 3s 3ms/step - loss: 0.4251 - sparse_categorical_accuracy: 0.8364 - val_loss: 0.2106 - val_sparse_categorical_accuracy: 0.9664\n",
            "Epoch 2/3\n",
            " 74/853 [=>............................] - ETA: 1s - loss: 0.1995 - sparse_categorical_accuracy: 0.9730"
          ]
        },
        {
          "output_type": "stream",
          "name": "stderr",
          "text": [
            "/usr/local/lib/python3.10/dist-packages/keras/src/engine/training.py:3103: UserWarning: You are saving your model as an HDF5 file via `model.save()`. This file format is considered legacy. We recommend using instead the native Keras format, e.g. `model.save('my_model.keras')`.\n",
            "  saving_api.save_model(\n"
          ]
        },
        {
          "output_type": "stream",
          "name": "stdout",
          "text": [
            "847/853 [============================>.] - ETA: 0s - loss: 0.1551 - sparse_categorical_accuracy: 0.9891\n",
            "Epoch 2: val_loss improved from 0.21065 to 0.12298, saving model to model.weights.hdf5\n",
            "853/853 [==============================] - 3s 4ms/step - loss: 0.1549 - sparse_categorical_accuracy: 0.9891 - val_loss: 0.1230 - val_sparse_categorical_accuracy: 0.9970\n",
            "Epoch 3/3\n",
            "847/853 [============================>.] - ETA: 0s - loss: 0.1119 - sparse_categorical_accuracy: 0.9973\n",
            "Epoch 3: val_loss improved from 0.12298 to 0.10213, saving model to model.weights.hdf5\n",
            "853/853 [==============================] - 3s 4ms/step - loss: 0.1118 - sparse_categorical_accuracy: 0.9973 - val_loss: 0.1021 - val_sparse_categorical_accuracy: 0.9984\n",
            "Training Loss: 0.11184718459844589\n",
            "Validation Loss: 0.10212936252355576\n",
            "Training Accuracy: 0.997323751449585\n",
            "Validation Accuracy: 0.9983869791030884\n"
          ]
        }
      ]
    },
    {
      "cell_type": "code",
      "source": [
        "print('Best model parameters : ', best_params)"
      ],
      "metadata": {
        "colab": {
          "base_uri": "https://localhost:8080/"
        },
        "id": "wbqju_ahSF-V",
        "outputId": "f84c2624-6620-4557-a2ab-732e2563cbe5"
      },
      "execution_count": null,
      "outputs": [
        {
          "output_type": "stream",
          "name": "stdout",
          "text": [
            "Best model parameters :  {'num_hidden': 2, 'num_neurons': 16, 'reg_param': 0.002}\n"
          ]
        }
      ]
    },
    {
      "cell_type": "code",
      "source": [
        "clf =  ANNClassifier(in_features=in_features, out_features=out_features, verbose=1, epochs=5, **best_params)\n",
        "clf.fit(X_train, y_train)"
      ],
      "metadata": {
        "colab": {
          "base_uri": "https://localhost:8080/"
        },
        "id": "cW0ppMGMSJ9v",
        "outputId": "d803ec03-7b0a-4edb-aa43-0e3c72834f5b"
      },
      "execution_count": null,
      "outputs": [
        {
          "output_type": "stream",
          "name": "stdout",
          "text": [
            "Epoch 1/5\n",
            "834/853 [============================>.] - ETA: 0s - loss: 0.4301 - sparse_categorical_accuracy: 0.8398\n",
            "Epoch 1: val_loss improved from inf to 0.23085, saving model to model.weights.hdf5\n",
            "853/853 [==============================] - 3s 3ms/step - loss: 0.4261 - sparse_categorical_accuracy: 0.8420 - val_loss: 0.2308 - val_sparse_categorical_accuracy: 0.9559\n",
            "Epoch 2/5\n",
            "849/853 [============================>.] - ETA: 0s - loss: 0.1760 - sparse_categorical_accuracy: 0.9771\n",
            "Epoch 2: val_loss improved from 0.23085 to 0.14003, saving model to model.weights.hdf5\n",
            "853/853 [==============================] - 3s 3ms/step - loss: 0.1759 - sparse_categorical_accuracy: 0.9771 - val_loss: 0.1400 - val_sparse_categorical_accuracy: 0.9911\n",
            "Epoch 3/5\n",
            "844/853 [============================>.] - ETA: 0s - loss: 0.1265 - sparse_categorical_accuracy: 0.9927\n",
            "Epoch 3: val_loss improved from 0.14003 to 0.11392, saving model to model.weights.hdf5\n",
            "853/853 [==============================] - 2s 3ms/step - loss: 0.1263 - sparse_categorical_accuracy: 0.9928 - val_loss: 0.1139 - val_sparse_categorical_accuracy: 0.9953\n",
            "Epoch 4/5\n",
            "838/853 [============================>.] - ETA: 0s - loss: 0.1079 - sparse_categorical_accuracy: 0.9954\n",
            "Epoch 4: val_loss improved from 0.11392 to 0.10070, saving model to model.weights.hdf5\n",
            "853/853 [==============================] - 4s 5ms/step - loss: 0.1080 - sparse_categorical_accuracy: 0.9953 - val_loss: 0.1007 - val_sparse_categorical_accuracy: 0.9965\n",
            "Epoch 5/5\n",
            "843/853 [============================>.] - ETA: 0s - loss: 0.0944 - sparse_categorical_accuracy: 0.9971\n",
            "Epoch 5: val_loss improved from 0.10070 to 0.09008, saving model to model.weights.hdf5\n",
            "853/853 [==============================] - 2s 3ms/step - loss: 0.0944 - sparse_categorical_accuracy: 0.9972 - val_loss: 0.0901 - val_sparse_categorical_accuracy: 0.9981\n",
            "Training Loss: 0.09437078982591629\n",
            "Validation Loss: 0.09008152782917023\n",
            "Training Accuracy: 0.9971771240234375\n",
            "Validation Accuracy: 0.9980937242507935\n"
          ]
        },
        {
          "output_type": "execute_result",
          "data": {
            "text/plain": [
              "<keras.src.callbacks.History at 0x7c787d1acc10>"
            ]
          },
          "metadata": {},
          "execution_count": 14
        }
      ]
    },
    {
      "cell_type": "code",
      "source": [
        "predictions = clf.predict(X_test)\n",
        "accuracy = accuracy_score(y_test, predictions)\n",
        "\n",
        "print('Accuracy on testing set : ', accuracy)"
      ],
      "metadata": {
        "colab": {
          "base_uri": "https://localhost:8080/"
        },
        "id": "itpq5f5oSLyi",
        "outputId": "88d7d776-b6fa-4f99-a180-23380ddc8599"
      },
      "execution_count": null,
      "outputs": [
        {
          "output_type": "stream",
          "name": "stdout",
          "text": [
            "630/630 [==============================] - 1s 2ms/step\n",
            "Accuracy on testing set :  0.9974693594005856\n"
          ]
        }
      ]
    },
    {
      "cell_type": "markdown",
      "source": [
        "Before Tuning\n",
        "\n",
        "*   Training Loss: 0.022285955026745796\n",
        "*   Validation Loss: 0.021776264533400536\n",
        "*   Training Accuracy: 0.9998900294303894\n",
        "*   Validation Accuracy: 0.9996334314346313"
      ],
      "metadata": {
        "id": "giwvMLRFUc4b"
      }
    },
    {
      "cell_type": "markdown",
      "source": [
        "Best model parameters :  {'num_hidden': 2, 'num_neurons': 16, 'reg_param': 0.002}"
      ],
      "metadata": {
        "id": "SJ3Fm7-sVsGo"
      }
    },
    {
      "cell_type": "markdown",
      "source": [
        "After Tuning:\n",
        "\n",
        "*   Training Loss: 0.09437078982591629\n",
        "*   Validation Loss: 0.09008152782917023\n",
        "*   Training Accuracy: 0.9971771240234375\n",
        "*   Validation Accuracy: 0.9980937242507935\n",
        "\n"
      ],
      "metadata": {
        "id": "9hXRDlb5U6Fi"
      }
    },
    {
      "cell_type": "markdown",
      "source": [
        "Accuracy on testing set :  0.9974693594005856"
      ],
      "metadata": {
        "id": "E3c8rxapVmxf"
      }
    }
  ]
}