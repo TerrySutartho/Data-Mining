{
  "nbformat": 4,
  "nbformat_minor": 0,
  "metadata": {
    "colab": {
      "provenance": []
    },
    "kernelspec": {
      "name": "python3",
      "display_name": "Python 3"
    },
    "language_info": {
      "name": "python"
    }
  },
  "cells": [
    {
      "cell_type": "code",
      "source": [
        "import pandas as pd\n",
        "import numpy as np\n",
        "import matplotlib.pyplot as plt\n",
        "import seaborn as sns\n",
        "%matplotlib inline\n",
        "\n",
        "import random\n",
        "import math\n",
        "from pprint import pprint\n",
        "from google.colab import files\n",
        "import io"
      ],
      "metadata": {
        "id": "gkER7VtonGSY"
      },
      "execution_count": null,
      "outputs": []
    },
    {
      "cell_type": "code",
      "source": [
        "# @title reading and seperating the file\n",
        "from google.colab import drive\n",
        "drive.mount(\"/content/drive\")\n",
        "\n",
        "data = pd.read_csv('/content/drive/My Drive/A1T2Data.csv',sep=';')"
      ],
      "metadata": {
        "colab": {
          "base_uri": "https://localhost:8080/"
        },
        "id": "yCCw3dCvqufU",
        "outputId": "ba915e6b-656d-4991-db7f-18f6fda9d1e7"
      },
      "execution_count": null,
      "outputs": [
        {
          "output_type": "stream",
          "name": "stdout",
          "text": [
            "Mounted at /content/drive\n"
          ]
        }
      ]
    },
    {
      "cell_type": "code",
      "source": [
        "# @title info\n",
        "data.info()"
      ],
      "metadata": {
        "colab": {
          "base_uri": "https://localhost:8080/"
        },
        "id": "tQBB0zGyaRT_",
        "outputId": "b3638f59-5c7c-49b5-d67d-4d2b32a29a0f"
      },
      "execution_count": null,
      "outputs": [
        {
          "output_type": "stream",
          "name": "stdout",
          "text": [
            "<class 'pandas.core.frame.DataFrame'>\n",
            "RangeIndex: 4424 entries, 0 to 4423\n",
            "Data columns (total 37 columns):\n",
            " #   Column                                          Non-Null Count  Dtype  \n",
            "---  ------                                          --------------  -----  \n",
            " 0   Marital status                                  4424 non-null   int64  \n",
            " 1   Application mode                                4424 non-null   int64  \n",
            " 2   Application order                               4424 non-null   int64  \n",
            " 3   Course                                          4424 non-null   int64  \n",
            " 4   Daytime/evening attendance\t                     4424 non-null   int64  \n",
            " 5   Previous qualification                          4424 non-null   int64  \n",
            " 6   Previous qualification (grade)                  4424 non-null   float64\n",
            " 7   Nacionality                                     4424 non-null   int64  \n",
            " 8   Mother's qualification                          4424 non-null   int64  \n",
            " 9   Father's qualification                          4424 non-null   int64  \n",
            " 10  Mother's occupation                             4424 non-null   int64  \n",
            " 11  Father's occupation                             4424 non-null   int64  \n",
            " 12  Admission grade                                 4424 non-null   float64\n",
            " 13  Displaced                                       4424 non-null   int64  \n",
            " 14  Educational special needs                       4424 non-null   int64  \n",
            " 15  Debtor                                          4424 non-null   int64  \n",
            " 16  Tuition fees up to date                         4424 non-null   int64  \n",
            " 17  Gender                                          4424 non-null   int64  \n",
            " 18  Scholarship holder                              4424 non-null   int64  \n",
            " 19  Age at enrollment                               4424 non-null   int64  \n",
            " 20  International                                   4424 non-null   int64  \n",
            " 21  Curricular units 1st sem (credited)             4424 non-null   int64  \n",
            " 22  Curricular units 1st sem (enrolled)             4424 non-null   int64  \n",
            " 23  Curricular units 1st sem (evaluations)          4424 non-null   int64  \n",
            " 24  Curricular units 1st sem (approved)             4424 non-null   int64  \n",
            " 25  Curricular units 1st sem (grade)                4424 non-null   float64\n",
            " 26  Curricular units 1st sem (without evaluations)  4424 non-null   int64  \n",
            " 27  Curricular units 2nd sem (credited)             4424 non-null   int64  \n",
            " 28  Curricular units 2nd sem (enrolled)             4424 non-null   int64  \n",
            " 29  Curricular units 2nd sem (evaluations)          4424 non-null   int64  \n",
            " 30  Curricular units 2nd sem (approved)             4424 non-null   int64  \n",
            " 31  Curricular units 2nd sem (grade)                4424 non-null   float64\n",
            " 32  Curricular units 2nd sem (without evaluations)  4424 non-null   int64  \n",
            " 33  Unemployment rate                               4424 non-null   float64\n",
            " 34  Inflation rate                                  4424 non-null   float64\n",
            " 35  GDP                                             4424 non-null   float64\n",
            " 36  Target                                          4424 non-null   object \n",
            "dtypes: float64(7), int64(29), object(1)\n",
            "memory usage: 1.2+ MB\n"
          ]
        }
      ]
    },
    {
      "cell_type": "code",
      "source": [
        "# @title See null\n",
        "data.isnull().sum()"
      ],
      "metadata": {
        "colab": {
          "base_uri": "https://localhost:8080/"
        },
        "id": "4ZgLCP-Ata0X",
        "outputId": "2ba41ff3-c534-42f1-f259-ff840eb0a0b9",
        "cellView": "form"
      },
      "execution_count": null,
      "outputs": [
        {
          "output_type": "execute_result",
          "data": {
            "text/plain": [
              "Marital status                                    0\n",
              "Application mode                                  0\n",
              "Application order                                 0\n",
              "Course                                            0\n",
              "Daytime/evening attendance\\t                      0\n",
              "Previous qualification                            0\n",
              "Previous qualification (grade)                    0\n",
              "Nacionality                                       0\n",
              "Mother's qualification                            0\n",
              "Father's qualification                            0\n",
              "Mother's occupation                               0\n",
              "Father's occupation                               0\n",
              "Admission grade                                   0\n",
              "Displaced                                         0\n",
              "Educational special needs                         0\n",
              "Debtor                                            0\n",
              "Tuition fees up to date                           0\n",
              "Gender                                            0\n",
              "Scholarship holder                                0\n",
              "Age at enrollment                                 0\n",
              "International                                     0\n",
              "Curricular units 1st sem (credited)               0\n",
              "Curricular units 1st sem (enrolled)               0\n",
              "Curricular units 1st sem (evaluations)            0\n",
              "Curricular units 1st sem (approved)               0\n",
              "Curricular units 1st sem (grade)                  0\n",
              "Curricular units 1st sem (without evaluations)    0\n",
              "Curricular units 2nd sem (credited)               0\n",
              "Curricular units 2nd sem (enrolled)               0\n",
              "Curricular units 2nd sem (evaluations)            0\n",
              "Curricular units 2nd sem (approved)               0\n",
              "Curricular units 2nd sem (grade)                  0\n",
              "Curricular units 2nd sem (without evaluations)    0\n",
              "Unemployment rate                                 0\n",
              "Inflation rate                                    0\n",
              "GDP                                               0\n",
              "Target                                            0\n",
              "dtype: int64"
            ]
          },
          "metadata": {},
          "execution_count": 4
        }
      ]
    },
    {
      "cell_type": "markdown",
      "source": [
        "No null value preprocessing is done"
      ],
      "metadata": {
        "id": "vf-NuakqXD0E"
      }
    },
    {
      "cell_type": "code",
      "source": [
        "dataC = data.copy()"
      ],
      "metadata": {
        "id": "93uhfOm5aV8o"
      },
      "execution_count": null,
      "outputs": []
    },
    {
      "cell_type": "code",
      "source": [
        "# @title graph\n",
        "plt.figure(figsize=(5,5))\n",
        "\n",
        "plt.title('a',fontsize=12)\n",
        "sns.set(style='whitegrid')\n",
        "sns.countplot(x=dataC['Target'])\n",
        "plt.xlabel('Target',fontsize=12)\n",
        "plt.ylabel('count',fontsize=12)"
      ],
      "metadata": {
        "colab": {
          "base_uri": "https://localhost:8080/",
          "height": 513
        },
        "id": "9_oUWqGtuihY",
        "outputId": "ec9db111-ade0-4c6f-faf2-0555b3e28e88",
        "cellView": "form"
      },
      "execution_count": null,
      "outputs": [
        {
          "output_type": "execute_result",
          "data": {
            "text/plain": [
              "Text(0, 0.5, 'count')"
            ]
          },
          "metadata": {},
          "execution_count": 7
        },
        {
          "output_type": "display_data",
          "data": {
            "text/plain": [
              "<Figure size 500x500 with 1 Axes>"
            ],
            "image/png": "[encoded data removed]"
          },
          "metadata": {}
        }
      ]
    },
    {
      "cell_type": "markdown",
      "source": [
        "function to get simple random sampling"
      ],
      "metadata": {
        "id": "iLfPbd0puZ13"
      }
    },
    {
      "cell_type": "code",
      "execution_count": null,
      "metadata": {
        "id": "1btDE8OqlHEx"
      },
      "outputs": [],
      "source": [
        "def train_test_split(data, size, psize):\n",
        "  if isinstance(size, float):\n",
        "    size = round(size * len(data))\n",
        "    psize = round(psize * len(data))\n",
        "\n",
        "  indices = data.index.tolist()\n",
        "  test_indices = random.sample(population=indices, k=size)\n",
        "\n",
        "  indices = [ele for ele in indices if ele not in test_indices]\n",
        "  prune_indices = random.sample(population=indices, k=psize)\n",
        "\n",
        "  test = data.loc[test_indices]\n",
        "  prune = data.loc[prune_indices]\n",
        "  test_indices.extend(prune_indices)\n",
        "  train = data.drop(test_indices)\n",
        "\n",
        "  return train, test, prune"
      ]
    },
    {
      "cell_type": "code",
      "source": [
        "random.seed(42)\n",
        "train, test, prune =  train_test_split(dataC,0.3,0.3)"
      ],
      "metadata": {
        "id": "FPsvDOdkgK1T"
      },
      "execution_count": null,
      "outputs": []
    },
    {
      "cell_type": "code",
      "source": [
        "len(test)"
      ],
      "metadata": {
        "colab": {
          "base_uri": "https://localhost:8080/"
        },
        "id": "0aC7ScmCV0VH",
        "outputId": "d71bdfca-a43e-4c5f-be29-ce924fd7af58"
      },
      "execution_count": null,
      "outputs": [
        {
          "output_type": "execute_result",
          "data": {
            "text/plain": [
              "1327"
            ]
          },
          "metadata": {},
          "execution_count": 10
        }
      ]
    },
    {
      "cell_type": "code",
      "source": [
        "def binning(data, num_bins=10):\n",
        "    # Perform binning for each feature\n",
        "    for feature in data.columns:\n",
        "        if data[feature].dtype in [np.float64, np.int64]:  # Check if feature is continuous or integer\n",
        "            data[feature] = pd.cut(data[feature], bins=num_bins, labels=False)\n",
        "    return data"
      ],
      "metadata": {
        "id": "yiT3jQUc2VBi"
      },
      "execution_count": null,
      "outputs": []
    },
    {
      "cell_type": "code",
      "source": [
        "train = binning(train)\n",
        "test = binning(test)"
      ],
      "metadata": {
        "id": "SUuz5f1jqcFm"
      },
      "execution_count": null,
      "outputs": []
    },
    {
      "cell_type": "markdown",
      "source": [
        "Calc info gain entropy"
      ],
      "metadata": {
        "id": "q4-94EfMqrc4"
      }
    },
    {
      "cell_type": "code",
      "source": [
        "def Entropy(data):\n",
        "    col = data.iloc[:,-1]\n",
        "    _,counts = np.unique(col, return_counts=True)\n",
        "\n",
        "\n",
        "    probabilities = counts / counts.sum()\n",
        "    entropy = -np.sum(probabilities * np.log2(probabilities))\n",
        "    return entropy"
      ],
      "metadata": {
        "id": "kYpyQsJsqxyE"
      },
      "execution_count": null,
      "outputs": []
    },
    {
      "cell_type": "code",
      "source": [
        "def findEntropy(data):\n",
        "    col = data[:,-1]\n",
        "    _,counts = np.unique(col, return_counts=True)\n",
        "\n",
        "\n",
        "    probabilities = counts / counts.sum()\n",
        "    entropy = -np.sum(probabilities * np.log2(probabilities))\n",
        "    return entropy"
      ],
      "metadata": {
        "id": "KIVX1u_TekMW"
      },
      "execution_count": null,
      "outputs": []
    },
    {
      "cell_type": "code",
      "source": [
        "entropyData = Entropy(train)\n",
        "print(\"Entropy of dataset: \", entropyData)"
      ],
      "metadata": {
        "id": "DpFXgnOnoVPw",
        "colab": {
          "base_uri": "https://localhost:8080/"
        },
        "outputId": "09049273-3f09-479c-a402-27c4d55ecb8d"
      },
      "execution_count": null,
      "outputs": [
        {
          "output_type": "stream",
          "name": "stdout",
          "text": [
            "Entropy of dataset:  1.478566971411953\n"
          ]
        }
      ]
    },
    {
      "cell_type": "code",
      "source": [
        "def split_entropy(left, right):\n",
        "\n",
        "    # calculate total number of rows\n",
        "    n = len(left) + len(right)\n",
        "\n",
        "    # calculate the occurences of each feature\n",
        "    p_left = len(left) / n\n",
        "    p_right = len(right) / n\n",
        "\n",
        "    # calculate weighted entropy\n",
        "    child_entropy =  (p_left * findEntropy(left) + p_right * findEntropy(right))\n",
        "\n",
        "    return child_entropy"
      ],
      "metadata": {
        "id": "7hM1FFwForJc"
      },
      "execution_count": null,
      "outputs": []
    },
    {
      "cell_type": "markdown",
      "source": [
        "Calc Gini index"
      ],
      "metadata": {
        "id": "sEX8cM_kqygY"
      }
    },
    {
      "cell_type": "code",
      "source": [
        "def calculate_gini(data):\n",
        "\n",
        "    #calculate gini for target\n",
        "    class_labels = np.unique(data)\n",
        "\n",
        "    gini = 0\n",
        "\n",
        "    for classes in class_labels:\n",
        "\n",
        "        p_classes = len(data[data == classes]) / len(data)\n",
        "        gini += p_classes**2\n",
        "\n",
        "    return 1 - gini"
      ],
      "metadata": {
        "id": "5ecun47OqyKy"
      },
      "execution_count": null,
      "outputs": []
    },
    {
      "cell_type": "code",
      "source": [
        "def calculate_gini_gain(parent, left, right):\n",
        "\n",
        "    left_weight = len(left) / len(parent)\n",
        "    right_weight = len(right) / len(parent)\n",
        "\n",
        "    giniGain = calculate_gini(parent) - (left_weight *calculate_gini(left) + right_weight *calculate_gini(right))\n",
        "\n",
        "    return giniGain"
      ],
      "metadata": {
        "id": "rm3P1LWgsPC_"
      },
      "execution_count": null,
      "outputs": []
    },
    {
      "cell_type": "markdown",
      "source": [
        "Calc Gain ratio"
      ],
      "metadata": {
        "id": "rSsAbp0esn5Q"
      }
    },
    {
      "cell_type": "code",
      "source": [
        "def calcGainRatio(data, left, right):\n",
        "  infoGain = findEntropy(data)\n",
        "  splitInfo = split_entropy(left, right)\n",
        "  gainRatio = infoGain/splitInfo\n",
        "  return gainRatio"
      ],
      "metadata": {
        "id": "AwdKXZRzsO8I"
      },
      "execution_count": null,
      "outputs": []
    },
    {
      "cell_type": "code",
      "source": [
        "def get_possible_splits(data):\n",
        "    possible_splits = {}\n",
        "    n_rows , n_cols = data.shape\n",
        "    for col_index in range(n_cols-1):\n",
        "        possible_splits[col_index] = {}\n",
        "        values = data[:, col_index]\n",
        "        unique_values = np.unique(values)\n",
        "\n",
        "        possible_splits[col_index] = unique_values\n",
        "\n",
        "    return possible_splits"
      ],
      "metadata": {
        "id": "ZBgo_OpzvP8j"
      },
      "execution_count": null,
      "outputs": []
    },
    {
      "cell_type": "markdown",
      "source": [
        "Binary Splitting"
      ],
      "metadata": {
        "id": "XxV9yGA62Rmw"
      }
    },
    {
      "cell_type": "code",
      "source": [
        "def split_data(data, split_col, split_val):\n",
        "\n",
        "    split_col_val = data[:, split_col]\n",
        "\n",
        "    left = data[split_col_val == split_val]\n",
        "    right = data[split_col_val !=  split_val]\n",
        "\n",
        "    return left, right"
      ],
      "metadata": {
        "id": "15lB0AI62R_8"
      },
      "execution_count": null,
      "outputs": []
    },
    {
      "cell_type": "markdown",
      "source": [
        "Calculate best split for info gain"
      ],
      "metadata": {
        "id": "EWl3GRuP8QBZ"
      }
    },
    {
      "cell_type": "code",
      "source": [
        "def determine_best_split(data, possible_splits):\n",
        "\n",
        "    # calculate the entropy of the data\n",
        "    parent_entropy = findEntropy(data)\n",
        "    best_entropy = parent_entropy\n",
        "\n",
        "    # loop through all values for each column\n",
        "    for col_index in possible_splits:\n",
        "\n",
        "        for value in possible_splits[col_index]:\n",
        "\n",
        "            left, right = split_data(data, split_col=col_index, split_val=value)\n",
        "            child_entropy = split_entropy(left,right)\n",
        "\n",
        "            # compare each entropy value and find lowest\n",
        "            if child_entropy < best_entropy:\n",
        "                best_split_col = col_index\n",
        "                best_split_val = value\n",
        "                best_entropy = child_entropy\n",
        "                info_gain = parent_entropy - best_entropy\n",
        "\n",
        "    return best_split_col, best_split_val"
      ],
      "metadata": {
        "id": "oGfhhA6v8OA9"
      },
      "execution_count": null,
      "outputs": []
    },
    {
      "cell_type": "markdown",
      "source": [
        "Calculate best split for gini index"
      ],
      "metadata": {
        "id": "1F3sk6-T9DTn"
      }
    },
    {
      "cell_type": "code",
      "source": [
        "def determine_best_split2(data, possible_splits):\n",
        "\n",
        "    # initialise max gini for comparision\n",
        "    max_gini_gain = -float(\"inf\")\n",
        "\n",
        "\n",
        "    #dictionary to store possible splits and corresponding gini index\n",
        "    gini = {}\n",
        "\n",
        "    # loop through all values for each column\n",
        "    for col_index in possible_splits:\n",
        "        for value in possible_splits[col_index]:\n",
        "\n",
        "            left, right = split_data(data, split_col=col_index, split_val=value)\n",
        "            if len(left)>0 and len(right)>0:\n",
        "                y, left_y, right_y = data[:, -1], left[:, -1], right[:, -1]\n",
        "                #calculate gini for each feature subset\n",
        "                curr_gini_gain = calculate_gini_gain(y, left_y, right_y)\n",
        "\n",
        "                # compare each subset's value\n",
        "                if curr_gini_gain > max_gini_gain:\n",
        "                    max_gini_gain = curr_gini_gain\n",
        "                    best_split_col = col_index\n",
        "                    best_split_val = value\n",
        "\n",
        "    return best_split_col, best_split_val"
      ],
      "metadata": {
        "id": "o9JcApRL8NzR"
      },
      "execution_count": null,
      "outputs": []
    },
    {
      "cell_type": "markdown",
      "source": [
        "Calculate best split for gain ratio"
      ],
      "metadata": {
        "id": "R6xCmupr-bS3"
      }
    },
    {
      "cell_type": "code",
      "source": [
        "def determine_best_split3(data, possible_splits):\n",
        "\n",
        "    # calculate the entropy of the data\n",
        "    parent_entropy = findEntropy(data)\n",
        "    best_entropy = parent_entropy\n",
        "\n",
        "    #\n",
        "    best_gain_ratio = 0\n",
        "\n",
        "    # loop through all values for each column\n",
        "    for col_index in possible_splits:\n",
        "\n",
        "        for value in possible_splits[col_index]:\n",
        "\n",
        "            left, right = split_data(data, split_col=col_index, split_val=value)\n",
        "\n",
        "            child_entropy = split_entropy(left,right)\n",
        "            split_info = calculate_Split_info(possible_splits[col_index])\n",
        "\n",
        "            # get information gain for each feature\n",
        "            # compare each entropy value and find lowest\n",
        "            if child_entropy < best_entropy:\n",
        "                best_entropy = child_entropy\n",
        "                info_gain = parent_entropy - best_entropy\n",
        "\n",
        "            #calculate gain ratio\n",
        "            gain_ratio = info_gain/split_info\n",
        "\n",
        "            #compare gain ratio\n",
        "            #feature with highest gain ratio will be used to split\n",
        "            if gain_ratio > best_gain_ratio:\n",
        "                best_gain_ratio = gain_ratio\n",
        "                best_split_col = col_index\n",
        "                best_split_val = value\n",
        "\n",
        "    return best_split_col, best_split_val"
      ],
      "metadata": {
        "id": "E85l3YS4-ekU"
      },
      "execution_count": null,
      "outputs": []
    },
    {
      "cell_type": "code",
      "source": [
        "def calculate_Split_info(data_col):\n",
        "\n",
        "    split_info = 0\n",
        "\n",
        "    unique_vals, n_counts = np.unique(data_col, return_counts=True)\n",
        "    prob = n_counts / n_counts.sum()\n",
        "\n",
        "    print(unique_vals)\n",
        "    print(n_counts)\n",
        "    print(n_counts.sum())\n",
        "\n",
        "    for idx, values in enumerate(unique_vals):\n",
        "\n",
        "        occurences = n_counts[idx]\n",
        "        prob = occurences/n_counts.sum()\n",
        "        temp = (prob* - np.log2(prob))\n",
        "        split_info = split_info + temp\n",
        "\n",
        "    return(split_info)"
      ],
      "metadata": {
        "id": "7mDTbUFXNOIL"
      },
      "execution_count": null,
      "outputs": []
    },
    {
      "cell_type": "code",
      "source": [
        "calculate_Split_info(train['Marital status'])"
      ],
      "metadata": {
        "colab": {
          "base_uri": "https://localhost:8080/"
        },
        "id": "MNGwkuVU5P7b",
        "outputId": "a3ea18b4-43b4-4795-ee3d-c95bc8873e0c"
      },
      "execution_count": null,
      "outputs": [
        {
          "output_type": "stream",
          "name": "stdout",
          "text": [
            "[1 2 3 4 5 6]\n",
            "[1564  149    2   36   16    3]\n",
            "1770\n"
          ]
        },
        {
          "output_type": "execute_result",
          "data": {
            "text/plain": [
              "0.6606234302293159"
            ]
          },
          "metadata": {},
          "execution_count": 24
        }
      ]
    },
    {
      "cell_type": "markdown",
      "source": [
        "Check if it is leaf node"
      ],
      "metadata": {
        "id": "60uIyXLXOZrM"
      }
    },
    {
      "cell_type": "code",
      "source": [
        "def check_leaf(data):\n",
        "    ##store last column as label_col\n",
        "    label_col = data[:,-1]\n",
        "\n",
        "    #use np.unique() to extract out unique values from label_col\n",
        "    classes = np.unique(label_col)\n",
        "\n",
        "    if len(classes) == 1:\n",
        "        return True\n",
        "    else:\n",
        "        return False;"
      ],
      "metadata": {
        "id": "VA68oow7OcCI"
      },
      "execution_count": null,
      "outputs": []
    },
    {
      "cell_type": "code",
      "source": [
        "np.unique(test.Target, return_counts=True)"
      ],
      "metadata": {
        "colab": {
          "base_uri": "https://localhost:8080/"
        },
        "id": "S1gsgmKLPn5i",
        "outputId": "8e588c03-4080-4fcf-da8e-8e6ecd08ecc4"
      },
      "execution_count": null,
      "outputs": [
        {
          "output_type": "execute_result",
          "data": {
            "text/plain": [
              "(array(['Dropout', 'Enrolled', 'Graduate'], dtype=object),\n",
              " array([426, 237, 664]))"
            ]
          },
          "metadata": {},
          "execution_count": 26
        }
      ]
    },
    {
      "cell_type": "code",
      "source": [
        "check_leaf(test.values)"
      ],
      "metadata": {
        "colab": {
          "base_uri": "https://localhost:8080/"
        },
        "id": "Zfe6sknzQxca",
        "outputId": "52172fde-e827-47eb-d03d-a255689a09b8"
      },
      "execution_count": null,
      "outputs": [
        {
          "output_type": "execute_result",
          "data": {
            "text/plain": [
              "False"
            ]
          },
          "metadata": {},
          "execution_count": 27
        }
      ]
    },
    {
      "cell_type": "markdown",
      "source": [
        "Find"
      ],
      "metadata": {
        "id": "njNuHOxlU9jU"
      }
    },
    {
      "cell_type": "code",
      "source": [
        "def classify_data(data):\n",
        "\n",
        "    ##since our labels are always in the last column\n",
        "    label_col = data[:,-1]\n",
        "\n",
        "    #find each unique targets in the label column and how many times it appears\n",
        "    targets, n_targets = np.unique(label_col, return_counts=True)\n",
        "\n",
        "    #find index of the most frequent target\n",
        "    index = n_targets.argmax()\n",
        "\n",
        "    #extract out the name\n",
        "    classification = targets[index]\n",
        "\n",
        "    return classification"
      ],
      "metadata": {
        "id": "0I4yppPZUyOL"
      },
      "execution_count": null,
      "outputs": []
    },
    {
      "cell_type": "code",
      "source": [
        "classify_data(train.values)"
      ],
      "metadata": {
        "colab": {
          "base_uri": "https://localhost:8080/",
          "height": 35
        },
        "id": "OGYpIUy56xTH",
        "outputId": "9e81d458-f13d-4218-e516-6554f93fe8b5"
      },
      "execution_count": null,
      "outputs": [
        {
          "output_type": "execute_result",
          "data": {
            "text/plain": [
              "'Graduate'"
            ],
            "application/vnd.google.colaboratory.intrinsic+json": {
              "type": "string"
            }
          },
          "metadata": {},
          "execution_count": 30
        }
      ]
    },
    {
      "cell_type": "markdown",
      "source": [
        "DEcision tree classifier"
      ],
      "metadata": {
        "id": "O3jFWSpp7gYv"
      }
    },
    {
      "cell_type": "code",
      "source": [
        "def decision_tree_classifier(df, max_depth, min_samples, counter=0):\n",
        "\n",
        "    ##initialize variables at the start\n",
        "    if counter == 0:\n",
        "        global COLUMN_HEADERS\n",
        "        COLUMN_HEADERS = df.columns\n",
        "        data = df.values\n",
        "    else:\n",
        "        data = df\n",
        "\n",
        "    # early stopping conditions\n",
        "    if (check_leaf(data)) or (len(data) < min_samples) or (counter == max_depth):\n",
        "        classification = classify_data(data)\n",
        "\n",
        "        return classification\n",
        "    else:\n",
        "        counter += 1\n",
        "        possible_splits = get_possible_splits(data)\n",
        "\n",
        "        #use determine_best_split which returns the feature/col with best info gain\n",
        "        split_column, split_value = determine_best_split(data, possible_splits)\n",
        "\n",
        "        #split the data according to the result in determine_best_split\n",
        "        left, right = split_data(data, split_column, split_value)\n",
        "\n",
        "        # choose question\n",
        "        feature_name = COLUMN_HEADERS[split_column]\n",
        "\n",
        "        #format question\n",
        "        question = \"{} = {}\".format(feature_name, split_value)\n",
        "\n",
        "        #initialise dictionary for storing tree\n",
        "        # method will return this dictionary\n",
        "        sub_tree = {question: []}\n",
        "\n",
        "        #recursive call with left and right branches\n",
        "        yes_answer = decision_tree_classifier(left, max_depth , min_samples, counter)\n",
        "        no_answer = decision_tree_classifier(right, max_depth, min_samples, counter)\n",
        "\n",
        "        if yes_answer == no_answer:\n",
        "            sub_tree = yes_answer\n",
        "        else:\n",
        "            sub_tree[question].append(yes_answer)\n",
        "            sub_tree[question].append(no_answer)\n",
        "\n",
        "    return sub_tree"
      ],
      "metadata": {
        "id": "wzajquMd7etZ"
      },
      "execution_count": null,
      "outputs": []
    },
    {
      "cell_type": "code",
      "source": [
        "def classify_one(test, tree):\n",
        "\n",
        "    # save tree pattern into list\n",
        "    question = list(tree.keys())[0]\n",
        "    parts = question.split(\" = \")\n",
        "\n",
        "\n",
        "    # extract out feature label, operator'=' and values of the feature\n",
        "    # using split\n",
        "    feature_name, value = parts\n",
        "    operator = \" = \"\n",
        "\n",
        "    # asking the question\n",
        "    if str(test[feature_name]) == value:\n",
        "        answer = tree[question][0]\n",
        "    else:\n",
        "        answer = tree[question][1]\n",
        "\n",
        "\n",
        "    # if it is a dictionary, it means that the answer is a subtree.\n",
        "    # then recursively call method until answer is found\n",
        "    # else, it is the answer\n",
        "    # then return answer\n",
        "\n",
        "    if not isinstance(answer, dict):\n",
        "        return answer\n",
        "\n",
        "    else:\n",
        "        residual_tree = answer\n",
        "        return classify_one(test, residual_tree)"
      ],
      "metadata": {
        "id": "J5NRrUuUvbcm"
      },
      "execution_count": null,
      "outputs": []
    },
    {
      "cell_type": "code",
      "source": [
        "def predict(test,tree):\n",
        "    #initilaise array for storing\n",
        "    output = []\n",
        "    index = test.index.tolist()\n",
        "    for i in index:\n",
        "        output.append(classify_one(test.loc[i],tree))\n",
        "    return output"
      ],
      "metadata": {
        "id": "Hg65kKm8veBY"
      },
      "execution_count": null,
      "outputs": []
    },
    {
      "cell_type": "code",
      "source": [
        "def calculate_accuracy(df, tree):\n",
        "\n",
        "    df[\"classification\"] = df.apply(classify_one, axis=1, args=(tree,))\n",
        "    df[\"correct\"] = df[\"classification\"] == df[\"Target\"]\n",
        "\n",
        "    accuracy = df[\"correct\"].mean()\n",
        "\n",
        "    return accuracy"
      ],
      "metadata": {
        "id": "5RTZVHyXvtYs"
      },
      "execution_count": null,
      "outputs": []
    },
    {
      "cell_type": "markdown",
      "source": [
        "Info gain Model"
      ],
      "metadata": {
        "id": "Qq6j62-x1p-x"
      }
    },
    {
      "cell_type": "code",
      "source": [
        "trainA, testA, pruneA = train_test_split(dataC,0.3,0.3)\n",
        "\n",
        "tree = decision_tree_classifier(trainA, max_depth=10, min_samples=10)"
      ],
      "metadata": {
        "id": "arboh8JDyfVh"
      },
      "execution_count": null,
      "outputs": []
    },
    {
      "cell_type": "code",
      "source": [
        "output = predict(testA, tree)"
      ],
      "metadata": {
        "id": "3ZzZaPJvxQfd"
      },
      "execution_count": null,
      "outputs": []
    },
    {
      "cell_type": "code",
      "source": [
        "pprint(tree)"
      ],
      "metadata": {
        "colab": {
          "base_uri": "https://localhost:8080/"
        },
        "id": "RkwD4KwRxcge",
        "outputId": "668dc269-22d8-4f39-9be8-2e1e2ff47978"
      },
      "execution_count": null,
      "outputs": [
        {
          "output_type": "stream",
          "name": "stdout",
          "text": [
            "{'Curricular units 2nd sem (approved) = 0': [{'Course = 171': [{'Previous qualification (grade) = 133.0': ['Enrolled',\n",
            "                                                                                                           {\"Father's occupation = 2\": ['Enrolled',\n",
            "                                                                                                                                        {\"Father's qualification = 3\": ['Graduate',\n",
            "                                                                                                                                                                        {'Previous qualification (grade) = 127.0': ['Dropout',\n",
            "                                                                                                                                                                                                                    {'Unemployment rate = 12.4': ['Graduate',\n",
            "                                                                                                                                                                                                                                                  {'Age at enrollment = 19': [{\"Mother's occupation = 7\": ['Dropout',\n",
            "                                                                                                                                                                                                                                                                                                           {\"Mother's qualification = 1\": ['Dropout',\n",
            "                                                                                                                                                                                                                                                                                                                                           'Graduate']}]},\n",
            "                                                                                                                                                                                                                                                                              {'Previous qualification (grade) = 156.0': ['Graduate',\n",
            "                                                                                                                                                                                                                                                                                                                          {'Previous qualification (grade) = 124.0': ['Enrolled',\n",
            "                                                                                                                                                                                                                                                                                                                                                                      'Dropout']}]}]}]}]}]}]}]},\n",
            "                                                               {'Curricular units 2nd sem (evaluations) = 0': ['Dropout',\n",
            "                                                                                                               {'Unemployment rate = 9.4': [{\"Mother's occupation = 9\": ['Enrolled',\n",
            "                                                                                                                                                                         'Dropout']},\n",
            "                                                                                                                                            {'Application order = 1': [{'Previous qualification (grade) = 99.0': ['Enrolled',\n",
            "                                                                                                                                                                                                                  {'Tuition fees up to date = 0': ['Dropout',\n",
            "                                                                                                                                                                                                                                                   {'Previous qualification (grade) = 155.0': ['Enrolled',\n",
            "                                                                                                                                                                                                                                                                                               {'Previous qualification (grade) = 162.0': ['Enrolled',\n",
            "                                                                                                                                                                                                                                                                                                                                           {\"Mother's occupation = 144\": ['Enrolled',\n",
            "                                                                                                                                                                                                                                                                                                                                                                          'Dropout']}]}]}]}]},\n",
            "                                                                                                                                                                       'Dropout']}]}]}]},\n",
            "                                             {'Tuition fees up to date = 0': [{'Course = 171': ['Graduate',\n",
            "                                                                                                {'Unemployment rate = 11.1': [{\"Mother's qualification = 37\": ['Dropout',\n",
            "                                                                                                                                                               'Enrolled']},\n",
            "                                                                                                                              {'Curricular units 1st sem (evaluations) = 6': ['Dropout',\n",
            "                                                                                                                                                                              {'Previous qualification (grade) = 125.0': ['Enrolled',\n",
            "                                                                                                                                                                                                                          {'Previous qualification (grade) = 145.0': ['Enrolled',\n",
            "                                                                                                                                                                                                                                                                      {\"Mother's qualification = 2\": ['Enrolled',\n",
            "                                                                                                                                                                                                                                                                                                      {\"Mother's qualification = 1\": [{'Previous qualification (grade) = 140.0': ['Enrolled',\n",
            "                                                                                                                                                                                                                                                                                                                                                                                  'Dropout']},\n",
            "                                                                                                                                                                                                                                                                                                                                      'Dropout']}]}]}]}]}]}]},\n",
            "                                                                              {'Curricular units 2nd sem (approved) = 2': [{'Age at enrollment = 20': ['Enrolled',\n",
            "                                                                                                                                                       {'Curricular units 1st sem (approved) = 5': [{'Curricular units 1st sem (enrolled) = 6': ['Dropout',\n",
            "                                                                                                                                                                                                                                                 'Enrolled']},\n",
            "                                                                                                                                                                                                    {'Inflation rate = 1.4': ['Enrolled',\n",
            "                                                                                                                                                                                                                              {\"Mother's occupation = 99\": ['Graduate',\n",
            "                                                                                                                                                                                                                                                            {\"Father's occupation = 2\": ['Enrolled',\n",
            "                                                                                                                                                                                                                                                                                         {'Course = 9085': ['Enrolled',\n",
            "                                                                                                                                                                                                                                                                                                            'Dropout']}]}]}]}]}]},\n",
            "                                                                                                                           {'Curricular units 2nd sem (approved) = 3': [{'Application mode = 39': [{'Previous qualification (grade) = 120.0': ['Graduate',\n",
            "                                                                                                                                                                                                                                               'Dropout']},\n",
            "                                                                                                                                                                                                   {'Curricular units 1st sem (evaluations) = 11': ['Enrolled',\n",
            "                                                                                                                                                                                                                                                    {'Curricular units 1st sem (approved) = 6': [{'Age at enrollment = 21': ['Dropout',\n",
            "                                                                                                                                                                                                                                                                                                                             {'Age at enrollment = 20': ['Enrolled',\n",
            "                                                                                                                                                                                                                                                                                                                                                         'Graduate']}]},\n",
            "                                                                                                                                                                                                                                                                                                 {'Curricular units 2nd sem (evaluations) = 8': [{'Previous qualification (grade) = 116.0': ['Dropout',\n",
            "                                                                                                                                                                                                                                                                                                                                                                                             {'Unemployment rate = 9.4': ['Graduate',\n",
            "                                                                                                                                                                                                                                                                                                                                                                                                                          'Enrolled']}]},\n",
            "                                                                                                                                                                                                                                                                                                                                                 {'Curricular units 1st sem (approved) = 4': [{'Gender = 0': ['Graduate',\n",
            "                                                                                                                                                                                                                                                                                                                                                                                                              'Dropout']},\n",
            "                                                                                                                                                                                                                                                                                                                                                                                              'Enrolled']}]}]}]}]},\n",
            "                                                                                                                                                                        {'Curricular units 2nd sem (approved) = 1': [{\"Mother's occupation = 4\": ['Enrolled',\n",
            "                                                                                                                                                                                                                                                  {'Course = 9070': ['Enrolled',\n",
            "                                                                                                                                                                                                                                                                     {'Previous qualification (grade) = 139.0': ['Enrolled',\n",
            "                                                                                                                                                                                                                                                                                                                 'Dropout']}]}]},\n",
            "                                                                                                                                                                                                                     {'Curricular units 2nd sem (approved) = 4': [{'Curricular units 1st sem (approved) = 3': [{'Curricular units 1st sem (evaluations) = 11': ['Graduate',\n",
            "                                                                                                                                                                                                                                                                                                                                                                {'Previous qualification (grade) = 130.0': ['Graduate',\n",
            "                                                                                                                                                                                                                                                                                                                                                                                                            {'Previous qualification (grade) = 126.0': ['Graduate',\n",
            "                                                                                                                                                                                                                                                                                                                                                                                                                                                        'Enrolled']}]}]},\n",
            "                                                                                                                                                                                                                                                                                                               {\"Mother's occupation = 7\": [{\"Father's qualification = 19\": ['Graduate',\n",
            "                                                                                                                                                                                                                                                                                                                                                                             'Dropout']},\n",
            "                                                                                                                                                                                                                                                                                                                                            {'Course = 9773': ['Graduate',\n",
            "                                                                                                                                                                                                                                                                                                                                                               {'Curricular units 2nd sem (grade) = 13.75': ['Dropout',\n",
            "                                                                                                                                                                                                                                                                                                                                                                                                             'Enrolled']}]}]}]},\n",
            "                                                                                                                                                                                                                                                                  {'Scholarship holder = 0': [{'Curricular units 1st sem (evaluations) = 7': [{'Curricular units 2nd sem (grade) = 12.333333333333334': ['Dropout',\n",
            "                                                                                                                                                                                                                                                                                                                                                                                                         'Graduate']},\n",
            "                                                                                                                                                                                                                                                                                                                                              {'Curricular units 1st sem (enrolled) = 7': [{'Curricular units 2nd sem (approved) = 6': ['Enrolled',\n",
            "                                                                                                                                                                                                                                                                                                                                                                                                                                        'Graduate']},\n",
            "                                                                                                                                                                                                                                                                                                                                                                                           {'Curricular units 1st sem (approved) = 13': ['Dropout',\n",
            "                                                                                                                                                                                                                                                                                                                                                                                                                                         'Graduate']}]}]},\n",
            "                                                                                                                                                                                                                                                                                              {'Curricular units 2nd sem (approved) = 5': [{'Unemployment rate = 7.6': ['Enrolled',\n",
            "                                                                                                                                                                                                                                                                                                                                                                        'Graduate']},\n",
            "                                                                                                                                                                                                                                                                                                                                           {'Course = 9773': [{'Previous qualification (grade) = 134.0': ['Dropout',\n",
            "                                                                                                                                                                                                                                                                                                                                                                                                          'Graduate']},\n",
            "                                                                                                                                                                                                                                                                                                                                                              'Graduate']}]}]}]}]}]}]}]}]}\n"
          ]
        }
      ]
    },
    {
      "cell_type": "code",
      "source": [
        "calculate_accuracy(test, tree)"
      ],
      "metadata": {
        "colab": {
          "base_uri": "https://localhost:8080/"
        },
        "id": "JeomauEozxap",
        "outputId": "38a223ee-db36-424e-96af-fa73ef0b706d"
      },
      "execution_count": null,
      "outputs": [
        {
          "output_type": "execute_result",
          "data": {
            "text/plain": [
              "0.774679728711379"
            ]
          },
          "metadata": {},
          "execution_count": 38
        }
      ]
    },
    {
      "cell_type": "markdown",
      "source": [
        "Gini index model"
      ],
      "metadata": {
        "id": "tdM4fwVM0GmR"
      }
    },
    {
      "cell_type": "code",
      "source": [
        "def decision_tree_classifier2(df, max_depth, min_samples, counter=0):\n",
        "\n",
        "    ##initialize variables at the start\n",
        "    if counter == 0:\n",
        "        global COLUMN_HEADERS\n",
        "        COLUMN_HEADERS = df.columns\n",
        "        data = df.values\n",
        "    else:\n",
        "        data = df\n",
        "\n",
        "    # early stopping conditions:\n",
        "    if (check_leaf(data)) or (len(data) < min_samples) or (counter == max_depth):\n",
        "        classification = classify_data(data)\n",
        "\n",
        "        return classification\n",
        "    else:\n",
        "        counter += 1\n",
        "        possible_splits = get_possible_splits(data)\n",
        "\n",
        "        ##use determine_best_split2 - which uses gini index as a split condition\n",
        "        split_column, split_value = determine_best_split2(data, possible_splits)\n",
        "\n",
        "        #split data using best feature as decided by gini index\n",
        "        left, right = split_data(data, split_column, split_value)\n",
        "\n",
        "        # determine question\n",
        "        feature_name = COLUMN_HEADERS[split_column]\n",
        "\n",
        "        #format question\n",
        "        question = \"{} = {}\".format(feature_name, split_value)\n",
        "\n",
        "        #initialise dictionary for storing tree\n",
        "        sub_tree = {question: []}\n",
        "\n",
        "        #recursive call with left and right branches\n",
        "        yes_answer = decision_tree_classifier(left, max_depth, min_samples, counter)\n",
        "        no_answer = decision_tree_classifier(right, max_depth, min_samples, counter)\n",
        "\n",
        "        if yes_answer == no_answer:\n",
        "            sub_tree = yes_answer\n",
        "        else:\n",
        "            sub_tree[question].append(yes_answer)\n",
        "            sub_tree[question].append(no_answer)\n",
        "\n",
        "    return sub_tree"
      ],
      "metadata": {
        "id": "QjGKh_ba0PM9"
      },
      "execution_count": null,
      "outputs": []
    },
    {
      "cell_type": "code",
      "source": [
        "tree2 = decision_tree_classifier2(train, max_depth = 15, min_samples = 2)\n",
        "\n",
        "output2 = predict(test, tree2)"
      ],
      "metadata": {
        "id": "swW8EviH0SPz"
      },
      "execution_count": null,
      "outputs": []
    },
    {
      "cell_type": "code",
      "source": [
        "pprint(tree2)"
      ],
      "metadata": {
        "colab": {
          "base_uri": "https://localhost:8080/"
        },
        "id": "VgqyvFDP0X7e",
        "outputId": "53a91c72-7782-4582-fe77-890b360ae765"
      },
      "execution_count": null,
      "outputs": [
        {
          "output_type": "stream",
          "name": "stdout",
          "text": [
            "{'Curricular units 2nd sem (approved) = 0': [{'Course = 171': [{\"Mother's occupation = 1\": ['Enrolled',\n",
            "                                                                                            {'Unemployment rate = 12.4': [{'Gender = 0': [{'Previous qualification (grade) = 162.0': ['Graduate',\n",
            "                                                                                                                                                                                      'Enrolled']},\n",
            "                                                                                                                                          'Graduate']},\n",
            "                                                                                                                          {'Previous qualification (grade) = 125.0': ['Enrolled',\n",
            "                                                                                                                                                                      {'Previous qualification (grade) = 124.0': [{\"Mother's qualification = 1\": ['Dropout',\n",
            "                                                                                                                                                                                                                                                  'Enrolled']},\n",
            "                                                                                                                                                                                                                  {'Age at enrollment = 21': [{'Application mode = 44': ['Enrolled',\n",
            "                                                                                                                                                                                                                                                                         'Dropout']},\n",
            "                                                                                                                                                                                                                                              {'Admission grade = 121.7': ['Enrolled',\n",
            "                                                                                                                                                                                                                                                                           {\"Father's occupation = 9\": [{'Gender = 0': [{'Admission grade = 124.0': ['Graduate',\n",
            "                                                                                                                                                                                                                                                                                                                                                     'Dropout']},\n",
            "                                                                                                                                                                                                                                                                                                                        {'Scholarship holder = 0': [{'Previous qualification (grade) = 142.0': ['Graduate',\n",
            "                                                                                                                                                                                                                                                                                                                                                                                                {'Previous qualification (grade) = 161.0': ['Graduate',\n",
            "                                                                                                                                                                                                                                                                                                                                                                                                                                            'Dropout']}]},\n",
            "                                                                                                                                                                                                                                                                                                                                                    'Graduate']}]},\n",
            "                                                                                                                                                                                                                                                                                                        {\"Mother's qualification = 38\": ['Dropout',\n",
            "                                                                                                                                                                                                                                                                                                                                         {\"Father's qualification = 38\": ['Graduate',\n",
            "                                                                                                                                                                                                                                                                                                                                                                          {'Application mode = 39': ['Dropout',\n",
            "                                                                                                                                                                                                                                                                                                                                                                                                     {'Previous qualification (grade) = 159.0': ['Dropout',\n",
            "                                                                                                                                                                                                                                                                                                                                                                                                                                                 {\"Father's occupation = 1\": ['Dropout',\n",
            "                                                                                                                                                                                                                                                                                                                                                                                                                                                                              'Graduate']}]}]}]}]}]}]}]}]}]}]}]},\n",
            "                                                               {\"Mother's occupation = 191\": ['Enrolled',\n",
            "                                                                                              {'Curricular units 2nd sem (evaluations) = 0': ['Dropout',\n",
            "                                                                                                                                              {\"Father's qualification = 37\": ['Dropout',\n",
            "                                                                                                                                                                               {'Previous qualification (grade) = 127.0': ['Enrolled',\n",
            "                                                                                                                                                                                                                           {'Previous qualification (grade) = 124.0': ['Enrolled',\n",
            "                                                                                                                                                                                                                                                                       {\"Mother's occupation = 134\": ['Enrolled',\n",
            "                                                                                                                                                                                                                                                                                                      {'Admission grade = 105.0': ['Enrolled',\n",
            "                                                                                                                                                                                                                                                                                                                                   {'Admission grade = 112.8': ['Enrolled',\n",
            "                                                                                                                                                                                                                                                                                                                                                                {'Age at enrollment = 20': [{'Course = 9238': ['Enrolled',\n",
            "                                                                                                                                                                                                                                                                                                                                                                                                               {'Previous qualification (grade) = 140.0': ['Enrolled',\n",
            "                                                                                                                                                                                                                                                                                                                                                                                                                                                           'Dropout']}]},\n",
            "                                                                                                                                                                                                                                                                                                                                                                                            {'Admission grade = 128.0': ['Enrolled',\n",
            "                                                                                                                                                                                                                                                                                                                                                                                                                         {'Curricular units 1st sem (grade) = 13.06': ['Enrolled',\n",
            "                                                                                                                                                                                                                                                                                                                                                                                                                                                                       'Dropout']}]}]}]}]}]}]}]}]}]}]}]},\n",
            "                                             {'Tuition fees up to date = 0': [{'Application mode = 15': ['Graduate',\n",
            "                                                                                                         {'Unemployment rate = 8.9': [{'Debtor = 0': ['Enrolled',\n",
            "                                                                                                                                                      {\"Father's qualification = 19\": [{'Application mode = 51': ['Dropout',\n",
            "                                                                                                                                                                                                                  'Enrolled']},\n",
            "                                                                                                                                                                                       'Dropout']}]},\n",
            "                                                                                                                                      {'Unemployment rate = 11.1': [{'Previous qualification = 1': [{\"Father's occupation = 9\": ['Dropout',\n",
            "                                                                                                                                                                                                                                 {'Previous qualification (grade) = 121.0': ['Dropout',\n",
            "                                                                                                                                                                                                                                                                             'Enrolled']}]},\n",
            "                                                                                                                                                                                                    'Dropout']},\n",
            "                                                                                                                                                                    {'Curricular units 2nd sem (approved) = 6': [{'Curricular units 2nd sem (enrolled) = 6': ['Graduate',\n",
            "                                                                                                                                                                                                                                                              'Dropout']},\n",
            "                                                                                                                                                                                                                 {'Admission grade = 132.0': ['Enrolled',\n",
            "                                                                                                                                                                                                                                              {'Admission grade = 120.4': ['Graduate',\n",
            "                                                                                                                                                                                                                                                                           {'Curricular units 1st sem (grade) = 13.4': ['Graduate',\n",
            "                                                                                                                                                                                                                                                                                                                        'Dropout']}]}]}]}]}]}]},\n",
            "                                                                              {'Curricular units 2nd sem (approved) = 3': [{'Application mode = 1': [{'Age at enrollment = 23': ['Dropout',\n",
            "                                                                                                                                                                                 {'Curricular units 2nd sem (grade) = 12.666666666666666': ['Graduate',\n",
            "                                                                                                                                                                                                                                            {'Unemployment rate = 9.4': [{'Course = 9254': ['Enrolled',\n",
            "                                                                                                                                                                                                                                                                                            'Graduate']},\n",
            "                                                                                                                                                                                                                                                                         {'Previous qualification (grade) = 142.0': ['Graduate',\n",
            "                                                                                                                                                                                                                                                                                                                     {'Application order = 5': ['Dropout',\n",
            "                                                                                                                                                                                                                                                                                                                                                {\"Mother's qualification = 1\": [{'Application order = 1': ['Dropout',\n",
            "                                                                                                                                                                                                                                                                                                                                                                                                           'Enrolled']},\n",
            "                                                                                                                                                                                                                                                                                                                                                                                'Enrolled']}]}]}]}]}]},\n",
            "                                                                                                                                                     {'Curricular units 1st sem (credited) = 0': [{\"Father's occupation = 9\": [{'Curricular units 2nd sem (evaluations) = 8': [{'Course = 9085': ['Graduate',\n",
            "                                                                                                                                                                                                                                                                                                  'Dropout']},\n",
            "                                                                                                                                                                                                                                                                               {'Course = 9119': ['Graduate',\n",
            "                                                                                                                                                                                                                                                                                                  'Enrolled']}]},\n",
            "                                                                                                                                                                                                                               {\"Father's qualification = 38\": ['Enrolled',\n",
            "                                                                                                                                                                                                                                                                {\"Mother's occupation = 3\": ['Enrolled',\n",
            "                                                                                                                                                                                                                                                                                             {'Age at enrollment = 21': [{'Application mode = 17': ['Dropout',\n",
            "                                                                                                                                                                                                                                                                                                                                                    'Enrolled']},\n",
            "                                                                                                                                                                                                                                                                                                                         {'Curricular units 2nd sem (grade) = 13.0': [{'Marital status = 2': ['Dropout',\n",
            "                                                                                                                                                                                                                                                                                                                                                                                              'Enrolled']},\n",
            "                                                                                                                                                                                                                                                                                                                                                                      {'Unemployment rate = 11.1': [{'Course = 9500': ['Enrolled',\n",
            "                                                                                                                                                                                                                                                                                                                                                                                                                       'Dropout']},\n",
            "                                                                                                                                                                                                                                                                                                                                                                                                    {'Application mode = 15': ['Enrolled',\n",
            "                                                                                                                                                                                                                                                                                                                                                                                                                               'Dropout']}]}]}]}]}]}]},\n",
            "                                                                                                                                                                                                  {'Curricular units 2nd sem (evaluations) = 10': ['Graduate',\n",
            "                                                                                                                                                                                                                                                   'Dropout']}]}]},\n",
            "                                                                                                                           {'Curricular units 2nd sem (approved) = 2': [{'Curricular units 1st sem (approved) = 4': [{'Course = 9119': ['Enrolled',\n",
            "                                                                                                                                                                                                                                        'Dropout']},\n",
            "                                                                                                                                                                                                                     {'Curricular units 2nd sem (evaluations) = 15': [{'Course = 8014': ['Graduate',\n",
            "                                                                                                                                                                                                                                                                                         'Dropout']},\n",
            "                                                                                                                                                                                                                                                                      {'Unemployment rate = 7.6': [{'Application mode = 1': [{'Previous qualification (grade) = 127.0': ['Dropout',\n",
            "                                                                                                                                                                                                                                                                                                                                                                         'Enrolled']},\n",
            "                                                                                                                                                                                                                                                                                                                             'Dropout']},\n",
            "                                                                                                                                                                                                                                                                                                   {'Curricular units 2nd sem (grade) = 12.5': [{'Course = 9119': ['Dropout',\n",
            "                                                                                                                                                                                                                                                                                                                                                                   {'Application mode = 1': ['Dropout',\n",
            "                                                                                                                                                                                                                                                                                                                                                                                             'Enrolled']}]},\n",
            "                                                                                                                                                                                                                                                                                                                                                {'Previous qualification (grade) = 132.0': ['Dropout',\n",
            "                                                                                                                                                                                                                                                                                                                                                                                            'Enrolled']}]}]}]}]},\n",
            "                                                                                                                                                                        {'Curricular units 2nd sem (approved) = 1': [{'Inflation rate = 1.4': [{'Gender = 0': [{'Course = 9556': ['Enrolled',\n",
            "                                                                                                                                                                                                                                                                                  'Dropout']},\n",
            "                                                                                                                                                                                                                                                               'Enrolled']},\n",
            "                                                                                                                                                                                                                                               {'Curricular units 2nd sem (evaluations) = 12': [{'Application mode = 1': ['Enrolled',\n",
            "                                                                                                                                                                                                                                                                                                                          {'Application mode = 44': ['Enrolled',\n",
            "                                                                                                                                                                                                                                                                                                                                                     'Dropout']}]},\n",
            "                                                                                                                                                                                                                                                                                                {'Application order = 6': ['Enrolled',\n",
            "                                                                                                                                                                                                                                                                                                                           'Dropout']}]}]},\n",
            "                                                                                                                                                                                                                     {'Curricular units 2nd sem (approved) = 4': [{'Curricular units 1st sem (credited) = 4': ['Dropout',\n",
            "                                                                                                                                                                                                                                                                                                               {'Curricular units 1st sem (approved) = 6': [{'Inflation rate = 1.4': [{'Application mode = 17': ['Dropout',\n",
            "                                                                                                                                                                                                                                                                                                                                                                                                                 'Enrolled']},\n",
            "                                                                                                                                                                                                                                                                                                                                                                                      {'Curricular units 2nd sem (grade) = 12.75': ['Enrolled',\n",
            "                                                                                                                                                                                                                                                                                                                                                                                                                                    {'Previous qualification = 12': ['Enrolled',\n",
            "                                                                                                                                                                                                                                                                                                                                                                                                                                                                     'Graduate']}]}]},\n",
            "                                                                                                                                                                                                                                                                                                                                                            {'Previous qualification = 19': ['Dropout',\n",
            "                                                                                                                                                                                                                                                                                                                                                                                             {\"Father's occupation = 4\": [{'Course = 9670': ['Dropout',\n",
            "                                                                                                                                                                                                                                                                                                                                                                                                                                             {'Application mode = 1': ['Dropout',\n",
            "                                                                                                                                                                                                                                                                                                                                                                                                                                                                       {'Application order = 3': ['Dropout',\n",
            "                                                                                                                                                                                                                                                                                                                                                                                                                                                                                                  'Enrolled']}]}]},\n",
            "                                                                                                                                                                                                                                                                                                                                                                                                                          {'Curricular units 1st sem (without evaluations) = 0': [{'Curricular units 1st sem (approved) = 3': [{'Previous qualification (grade) = 126.0': ['Graduate',\n",
            "                                                                                                                                                                                                                                                                                                                                                                                                                                                                                                                                                                           {'Previous qualification (grade) = 129.0': ['Dropout',\n",
            "                                                                                                                                                                                                                                                                                                                                                                                                                                                                                                                                                                                                                       {'Admission grade = 124.0': ['Dropout',\n",
            "                                                                                                                                                                                                                                                                                                                                                                                                                                                                                                                                                                                                                                                    'Enrolled']}]}]},\n",
            "                                                                                                                                                                                                                                                                                                                                                                                                                                                                                                                               {'Curricular units 2nd sem (enrolled) = 7': ['Dropout',\n",
            "                                                                                                                                                                                                                                                                                                                                                                                                                                                                                                                                                                            {'Application order = 1': ['Enrolled',\n",
            "                                                                                                                                                                                                                                                                                                                                                                                                                                                                                                                                                                                                       {'Curricular units 1st sem (grade) = 11.75': ['Dropout',\n",
            "                                                                                                                                                                                                                                                                                                                                                                                                                                                                                                                                                                                                                                                     'Graduate']}]}]}]},\n",
            "                                                                                                                                                                                                                                                                                                                                                                                                                                                                                  {'Previous qualification (grade) = 138.0': ['Enrolled',\n",
            "                                                                                                                                                                                                                                                                                                                                                                                                                                                                                                                              {\"Father's occupation = 5\": ['Enrolled',\n",
            "                                                                                                                                                                                                                                                                                                                                                                                                                                                                                                                                                           'Graduate']}]}]}]}]}]}]},\n",
            "                                                                                                                                                                                                                                                                  {'Curricular units 2nd sem (approved) = 5': [{'Course = 9500': [{'Age at enrollment = 20': ['Dropout',\n",
            "                                                                                                                                                                                                                                                                                                                                                              {'Marital status = 2': ['Dropout',\n",
            "                                                                                                                                                                                                                                                                                                                                                                                      'Enrolled']}]},\n",
            "                                                                                                                                                                                                                                                                                                                                  {\"Mother's occupation = 0\": [{'Course = 9238': ['Graduate',\n",
            "                                                                                                                                                                                                                                                                                                                                                                                  'Dropout']},\n",
            "                                                                                                                                                                                                                                                                                                                                                               {'Course = 9853': [{'Curricular units 2nd sem (evaluations) = 7': [{'Previous qualification (grade) = 146.0': ['Enrolled',\n",
            "                                                                                                                                                                                                                                                                                                                                                                                                                                                                              {\"Mother's qualification = 1\": ['Graduate',\n",
            "                                                                                                                                                                                                                                                                                                                                                                                                                                                                                                              {'Unemployment rate = 7.6': [{'Marital status = 1': ['Graduate',\n",
            "                                                                                                                                                                                                                                                                                                                                                                                                                                                                                                                                                                   'Dropout']},\n",
            "                                                                                                                                                                                                                                                                                                                                                                                                                                                                                                                                           'Dropout']}]}]},\n",
            "                                                                                                                                                                                                                                                                                                                                                                                                                                  {'Unemployment rate = 12.7': ['Dropout',\n",
            "                                                                                                                                                                                                                                                                                                                                                                                                                                                                {'Previous qualification (grade) = 133.0': ['Graduate',\n",
            "                                                                                                                                                                                                                                                                                                                                                                                                                                                                                                            'Enrolled']}]}]},\n",
            "                                                                                                                                                                                                                                                                                                                                                                                  {'Curricular units 1st sem (evaluations) = 5': [{'Unemployment rate = 12.7': ['Dropout',\n",
            "                                                                                                                                                                                                                                                                                                                                                                                                                                                                {'Admission grade = 117.7': ['Dropout',\n",
            "                                                                                                                                                                                                                                                                                                                                                                                                                                                                                             'Graduate']}]},\n",
            "                                                                                                                                                                                                                                                                                                                                                                                                                                  {'Previous qualification (grade) = 133.1': [{'Curricular units 1st sem (enrolled) = 6': [{'Curricular units 1st sem (evaluations) = 8': ['Enrolled',\n",
            "                                                                                                                                                                                                                                                                                                                                                                                                                                                                                                                                                                           {\"Father's occupation = 10\": ['Enrolled',\n",
            "                                                                                                                                                                                                                                                                                                                                                                                                                                                                                                                                                                                                         'Dropout']}]},\n",
            "                                                                                                                                                                                                                                                                                                                                                                                                                                                                                                                           {'Previous qualification = 19': ['Graduate',\n",
            "                                                                                                                                                                                                                                                                                                                                                                                                                                                                                                                                                            {'Application mode = 39': ['Enrolled',\n",
            "                                                                                                                                                                                                                                                                                                                                                                                                                                                                                                                                                                                       'Graduate']}]}]},\n",
            "                                                                                                                                                                                                                                                                                                                                                                                                                                                                              {\"Father's qualification = 2\": [{'Curricular units 1st sem (approved) = 6': [{'Application mode = 1': ['Graduate',\n",
            "                                                                                                                                                                                                                                                                                                                                                                                                                                                                                                                                                                                     'Dropout']},\n",
            "                                                                                                                                                                                                                                                                                                                                                                                                                                                                                                                                                           {'Marital status = 1': ['Enrolled',\n",
            "                                                                                                                                                                                                                                                                                                                                                                                                                                                                                                                                                                                   'Dropout']}]},\n",
            "                                                                                                                                                                                                                                                                                                                                                                                                                                                                                                              {'Curricular units 1st sem (grade) = 10.6': [{'Previous qualification (grade) = 130.0': ['Dropout',\n",
            "                                                                                                                                                                                                                                                                                                                                                                                                                                                                                                                                                                                                       'Enrolled']},\n",
            "                                                                                                                                                                                                                                                                                                                                                                                                                                                                                                                                                           'Graduate']}]}]}]}]}]}]},\n",
            "                                                                                                                                                                                                                                                                                                               {'Scholarship holder = 0': [{'Curricular units 1st sem (approved) = 5': [{'Course = 9773': [{\"Mother's qualification = 38\": ['Graduate',\n",
            "                                                                                                                                                                                                                                                                                                                                                                                                                                            'Dropout']},\n",
            "                                                                                                                                                                                                                                                                                                                                                                                                           {'Curricular units 2nd sem (credited) = 0': [{\"Father's qualification = 1\": [{'Course = 9238': ['Graduate',\n",
            "                                                                                                                                                                                                                                                                                                                                                                                                                                                                                                           'Enrolled']},\n",
            "                                                                                                                                                                                                                                                                                                                                                                                                                                                                                        {'Gender = 0': ['Graduate',\n",
            "                                                                                                                                                                                                                                                                                                                                                                                                                                                                                                        {\"Father's qualification = 38\": ['Graduate',\n",
            "                                                                                                                                                                                                                                                                                                                                                                                                                                                                                                                                         'Enrolled']}]}]},\n",
            "                                                                                                                                                                                                                                                                                                                                                                                                                                                        {'Course = 9119': ['Enrolled',\n",
            "                                                                                                                                                                                                                                                                                                                                                                                                                                                                           'Dropout']}]}]},\n",
            "                                                                                                                                                                                                                                                                                                                                                                                        {'Age at enrollment = 25': [{'Gender = 0': ['Graduate',\n",
            "                                                                                                                                                                                                                                                                                                                                                                                                                                    {'Application mode = 7': ['Graduate',\n",
            "                                                                                                                                                                                                                                                                                                                                                                                                                                                              'Dropout']}]},\n",
            "                                                                                                                                                                                                                                                                                                                                                                                                                    {'Course = 9853': [{'Curricular units 2nd sem (evaluations) = 8': [{'Previous qualification (grade) = 111.0': ['Graduate',\n",
            "                                                                                                                                                                                                                                                                                                                                                                                                                                                                                                                                   'Enrolled']},\n",
            "                                                                                                                                                                                                                                                                                                                                                                                                                                                                                       {'Age at enrollment = 18': [{\"Father's occupation = 7\": [{'Previous qualification (grade) = 135.0': ['Graduate',\n",
            "                                                                                                                                                                                                                                                                                                                                                                                                                                                                                                                                                                                            'Dropout']},\n",
            "                                                                                                                                                                                                                                                                                                                                                                                                                                                                                                                                                'Graduate']},\n",
            "                                                                                                                                                                                                                                                                                                                                                                                                                                                                                                                   'Dropout']}]},\n",
            "                                                                                                                                                                                                                                                                                                                                                                                                                                       {'Course = 9991': [{'Curricular units 2nd sem (approved) = 10': ['Graduate',\n",
            "                                                                                                                                                                                                                                                                                                                                                                                                                                                                                                        {'Marital status = 2': [{'Previous qualification (grade) = 130.0': ['Dropout',\n",
            "                                                                                                                                                                                                                                                                                                                                                                                                                                                                                                                                                                            'Enrolled']},\n",
            "                                                                                                                                                                                                                                                                                                                                                                                                                                                                                                                                {'Marital status = 1': ['Dropout',\n",
            "                                                                                                                                                                                                                                                                                                                                                                                                                                                                                                                                                        'Graduate']}]}]},\n",
            "                                                                                                                                                                                                                                                                                                                                                                                                                                                          {'Curricular units 2nd sem (evaluations) = 10': [{\"Mother's occupation = 3\": [{'Curricular units 1st sem (evaluations) = 8': ['Dropout',\n",
            "                                                                                                                                                                                                                                                                                                                                                                                                                                                                                                                                                                                        'Enrolled']},\n",
            "                                                                                                                                                                                                                                                                                                                                                                                                                                                                                                                                        {'Previous qualification (grade) = 120.0': ['Dropout',\n",
            "                                                                                                                                                                                                                                                                                                                                                                                                                                                                                                                                                                                    'Graduate']}]},\n",
            "                                                                                                                                                                                                                                                                                                                                                                                                                                                                                                           {'Curricular units 1st sem (credited) = 7': [{\"Father's occupation = 9\": ['Enrolled',\n",
            "                                                                                                                                                                                                                                                                                                                                                                                                                                                                                                                                                                                     'Graduate']},\n",
            "                                                                                                                                                                                                                                                                                                                                                                                                                                                                                                                                                        'Graduate']}]}]}]}]}]},\n",
            "                                                                                                                                                                                                                                                                                                                                           {'Course = 9119': ['Enrolled',\n",
            "                                                                                                                                                                                                                                                                                                                                                              {'Curricular units 1st sem (enrolled) = 7': [{'Curricular units 1st sem (approved) = 5': [{'Application order = 2': ['Enrolled',\n",
            "                                                                                                                                                                                                                                                                                                                                                                                                                                                                                   {'Curricular units 1st sem (evaluations) = 9': ['Graduate',\n",
            "                                                                                                                                                                                                                                                                                                                                                                                                                                                                                                                                   'Dropout']}]},\n",
            "                                                                                                                                                                                                                                                                                                                                                                                                                                                        {'Displaced = 0': [{'Gender = 0': [{\"Father's occupation = 6\": ['Enrolled',\n",
            "                                                                                                                                                                                                                                                                                                                                                                                                                                                                                                                        'Graduate']},\n",
            "                                                                                                                                                                                                                                                                                                                                                                                                                                                                                           {'Application mode = 1': ['Graduate',\n",
            "                                                                                                                                                                                                                                                                                                                                                                                                                                                                                                                     'Enrolled']}]},\n",
            "                                                                                                                                                                                                                                                                                                                                                                                                                                                                           {'Previous qualification (grade) = 131.0': ['Dropout',\n",
            "                                                                                                                                                                                                                                                                                                                                                                                                                                                                                                                       {'Admission grade = 124.9': ['Dropout',\n",
            "                                                                                                                                                                                                                                                                                                                                                                                                                                                                                                                                                    {'Curricular units 1st sem (grade) = 12.718571428571428': ['Dropout',\n",
            "                                                                                                                                                                                                                                                                                                                                                                                                                                                                                                                                                                                                               'Graduate']}]}]}]}]},\n",
            "                                                                                                                                                                                                                                                                                                                                                                                                           {'Admission grade = 129.8': ['Dropout',\n",
            "                                                                                                                                                                                                                                                                                                                                                                                                                                        {'Curricular units 2nd sem (without evaluations) = 0': [{'Previous qualification (grade) = 145.0': [{'Age at enrollment = 18': ['Graduate',\n",
            "                                                                                                                                                                                                                                                                                                                                                                                                                                                                                                                                                                        {'Application order = 2': ['Graduate',\n",
            "                                                                                                                                                                                                                                                                                                                                                                                                                                                                                                                                                                                                   'Enrolled']}]},\n",
            "                                                                                                                                                                                                                                                                                                                                                                                                                                                                                                                                            {'Admission grade = 98.0': ['Enrolled',\n",
            "                                                                                                                                                                                                                                                                                                                                                                                                                                                                                                                                                                        {'Admission grade = 118.0': ['Enrolled',\n",
            "                                                                                                                                                                                                                                                                                                                                                                                                                                                                                                                                                                                                     'Graduate']}]}]},\n",
            "                                                                                                                                                                                                                                                                                                                                                                                                                                                                                                {'Application mode = 18': ['Graduate',\n",
            "                                                                                                                                                                                                                                                                                                                                                                                                                                                                                                                           'Enrolled']}]}]}]}]}]}]}]}]}]}]}]}]}\n"
          ]
        }
      ]
    },
    {
      "cell_type": "code",
      "source": [
        "calculate_accuracy(test, tree2)"
      ],
      "metadata": {
        "colab": {
          "base_uri": "https://localhost:8080/"
        },
        "id": "r8AOCJ8a0WKd",
        "outputId": "8981b231-ddd9-4c5c-8e5a-2c453e041622"
      },
      "execution_count": null,
      "outputs": [
        {
          "output_type": "execute_result",
          "data": {
            "text/plain": [
              "0.7143933685003768"
            ]
          },
          "metadata": {},
          "execution_count": 42
        }
      ]
    },
    {
      "cell_type": "markdown",
      "source": [
        "Gain Ratio model"
      ],
      "metadata": {
        "id": "3JDYZuc00ifu"
      }
    },
    {
      "cell_type": "code",
      "source": [
        "def decision_tree_classifier3(df, max_depth, min_samples, counter=0):\n",
        "\n",
        "    ##initialize variables at the start\n",
        "    if counter == 0:\n",
        "        global COLUMN_HEADERS\n",
        "        COLUMN_HEADERS = df.columns\n",
        "        data = df.values\n",
        "    else:\n",
        "        data = df\n",
        "\n",
        "    # early stopping conditions:\n",
        "    if (check_leaf(data)) or (len(data) < min_samples) or (counter == max_depth):\n",
        "        classification = classify_data(data)\n",
        "\n",
        "        return classification\n",
        "    else:\n",
        "        counter += 1\n",
        "        possible_splits = get_possible_splits(data)\n",
        "\n",
        "        ##use determine_best_split2 - which uses gini index as a split condition\n",
        "        split_column, split_value = determine_best_split3(data, possible_splits)\n",
        "\n",
        "        #split data using best feature as decided by gini index\n",
        "        left, right = split_data(data, split_column, split_value)\n",
        "\n",
        "        # determine question\n",
        "        feature_name = COLUMN_HEADERS[split_column]\n",
        "\n",
        "        #format question\n",
        "        question = \"{} = {}\".format(feature_name, split_value)\n",
        "\n",
        "        #initialise dictionary for storing tree\n",
        "        sub_tree = {question: []}\n",
        "\n",
        "        #recursive call with left and right branches\n",
        "        yes_answer = decision_tree_classifier(left, max_depth, min_samples, counter)\n",
        "        no_answer = decision_tree_classifier(right, max_depth, min_samples, counter)\n",
        "\n",
        "        if yes_answer == no_answer:\n",
        "            sub_tree = yes_answer\n",
        "        else:\n",
        "            sub_tree[question].append(yes_answer)\n",
        "            sub_tree[question].append(no_answer)\n",
        "\n",
        "    return sub_tree"
      ],
      "metadata": {
        "id": "VnvKGKFF0hdq"
      },
      "execution_count": null,
      "outputs": []
    },
    {
      "cell_type": "code",
      "source": [
        "tree3 = decision_tree_classifier3(train, max_depth = 8, min_samples = 10)\n",
        "\n",
        "output3 = predict(test, tree3)"
      ],
      "metadata": {
        "id": "wRdXy6wl0mYP"
      },
      "execution_count": null,
      "outputs": []
    },
    {
      "cell_type": "code",
      "source": [
        "calculate_accuracy(test, tree3)"
      ],
      "metadata": {
        "colab": {
          "base_uri": "https://localhost:8080/"
        },
        "id": "BBGIOWAw0s69",
        "outputId": "44fb5633-3fee-4df3-d08a-320ef5a97a48"
      },
      "execution_count": null,
      "outputs": [
        {
          "output_type": "execute_result",
          "data": {
            "text/plain": [
              "0.7294649585531273"
            ]
          },
          "metadata": {},
          "execution_count": 45
        }
      ]
    },
    {
      "cell_type": "code",
      "source": [
        "pprint(tree3)"
      ],
      "metadata": {
        "colab": {
          "base_uri": "https://localhost:8080/"
        },
        "id": "-5U7ivBV0vTJ",
        "outputId": "55c4ad36-5e3f-4d60-cd9a-e4555d2c4af4"
      },
      "execution_count": null,
      "outputs": [
        {
          "output_type": "stream",
          "name": "stdout",
          "text": [
            "{'Tuition fees up to date = 0': [{'Application mode = 15': ['Graduate',\n",
            "                                                            {'Unemployment rate = 8.9': [{'Age at enrollment = 18': ['Enrolled',\n",
            "                                                                                                                     {'Curricular units 2nd sem (approved) = 4': ['Enrolled',\n",
            "                                                                                                                                                                  {'Marital status = 4': ['Enrolled',\n",
            "                                                                                                                                                                                          'Dropout']}]}]},\n",
            "                                                                                         {'Unemployment rate = 11.1': [{'Curricular units 1st sem (approved) = 0': ['Dropout',\n",
            "                                                                                                                                                                    {\"Father's occupation = 9\": ['Dropout',\n",
            "                                                                                                                                                                                                 'Enrolled']}]},\n",
            "                                                                                                                       {'Curricular units 2nd sem (approved) = 6': ['Graduate',\n",
            "                                                                                                                                                                    {'Admission grade = 120.4': ['Dropout',\n",
            "                                                                                                                                                                                                 {'Unemployment rate = 13.9': ['Dropout',\n",
            "                                                                                                                                                                                                                               {'Admission grade = 137.5': ['Graduate',\n",
            "                                                                                                                                                                                                                                                            'Dropout']}]}]}]}]}]}]},\n",
            "                                 {'Curricular units 2nd sem (approved) = 0': [{'Course = 171': [{\"Mother's occupation = 1\": ['Enrolled',\n",
            "                                                                                                                             {'Unemployment rate = 12.4': ['Enrolled',\n",
            "                                                                                                                                                           {'Previous qualification (grade) = 125.0': ['Enrolled',\n",
            "                                                                                                                                                                                                       {'Previous qualification (grade) = 124.0': ['Enrolled',\n",
            "                                                                                                                                                                                                                                                   {'Age at enrollment = 21': ['Dropout',\n",
            "                                                                                                                                                                                                                                                                               'Graduate']}]}]}]}]},\n",
            "                                                                                                {\"Mother's occupation = 191\": ['Enrolled',\n",
            "                                                                                                                               {'Curricular units 2nd sem (evaluations) = 0': ['Dropout',\n",
            "                                                                                                                                                                               {'Previous qualification (grade) = 124.0': ['Enrolled',\n",
            "                                                                                                                                                                                                                           {'Course = 9238': ['Dropout',\n",
            "                                                                                                                                                                                                                                              {'Nacionality = 25': ['Enrolled',\n",
            "                                                                                                                                                                                                                                                                    'Dropout']}]}]}]}]}]},\n",
            "                                                                              {'Curricular units 2nd sem (approved) = 3': [{'Application mode = 1': [{'Age at enrollment = 23': ['Dropout',\n",
            "                                                                                                                                                                                 {'Curricular units 2nd sem (grade) = 12.666666666666666': ['Graduate',\n",
            "                                                                                                                                                                                                                                            {'Unemployment rate = 9.4': ['Graduate',\n",
            "                                                                                                                                                                                                                                                                         {'Previous qualification (grade) = 142.0': ['Graduate',\n",
            "                                                                                                                                                                                                                                                                                                                     'Enrolled']}]}]}]},\n",
            "                                                                                                                                                     {'Curricular units 1st sem (credited) = 0': [{\"Father's occupation = 9\": [{'Curricular units 2nd sem (evaluations) = 8': ['Dropout',\n",
            "                                                                                                                                                                                                                                                                               'Enrolled']},\n",
            "                                                                                                                                                                                                                               {\"Father's qualification = 38\": ['Enrolled',\n",
            "                                                                                                                                                                                                                                                                {\"Mother's occupation = 3\": ['Enrolled',\n",
            "                                                                                                                                                                                                                                                                                             'Dropout']}]}]},\n",
            "                                                                                                                                                                                                  'Dropout']}]},\n",
            "                                                                                                                           {'Curricular units 2nd sem (approved) = 2': [{'Curricular units 1st sem (approved) = 4': [{'Course = 9119': ['Enrolled',\n",
            "                                                                                                                                                                                                                                        'Dropout']},\n",
            "                                                                                                                                                                                                                     {'Curricular units 2nd sem (evaluations) = 15': ['Dropout',\n",
            "                                                                                                                                                                                                                                                                      {'Unemployment rate = 7.6': [{'Application mode = 1': ['Enrolled',\n",
            "                                                                                                                                                                                                                                                                                                                             'Dropout']},\n",
            "                                                                                                                                                                                                                                                                                                   {'Curricular units 2nd sem (grade) = 12.5': ['Dropout',\n",
            "                                                                                                                                                                                                                                                                                                                                                'Enrolled']}]}]}]},\n",
            "                                                                                                                                                                        {'Curricular units 2nd sem (approved) = 1': [{'Inflation rate = 1.4': [{'Gender = 0': ['Dropout',\n",
            "                                                                                                                                                                                                                                                               'Enrolled']},\n",
            "                                                                                                                                                                                                                                               {'Curricular units 2nd sem (evaluations) = 12': ['Enrolled',\n",
            "                                                                                                                                                                                                                                                                                                {'Application order = 6': ['Enrolled',\n",
            "                                                                                                                                                                                                                                                                                                                           'Dropout']}]}]},\n",
            "                                                                                                                                                                                                                     {'Curricular units 2nd sem (approved) = 4': [{'Curricular units 1st sem (credited) = 4': ['Dropout',\n",
            "                                                                                                                                                                                                                                                                                                               {'Curricular units 1st sem (approved) = 6': ['Graduate',\n",
            "                                                                                                                                                                                                                                                                                                                                                            'Enrolled']}]},\n",
            "                                                                                                                                                                                                                                                                  {'Curricular units 2nd sem (approved) = 5': [{'Course = 9500': ['Enrolled',\n",
            "                                                                                                                                                                                                                                                                                                                                  'Graduate']},\n",
            "                                                                                                                                                                                                                                                                                                               'Graduate']}]}]}]}]}]}]}\n"
          ]
        }
      ]
    },
    {
      "cell_type": "markdown",
      "source": [
        "Accuracy of info gain model:0.774679728711379"
      ],
      "metadata": {
        "id": "ZT-GDhcYcgBb"
      }
    },
    {
      "cell_type": "markdown",
      "source": [
        "Accuracy of Gini index model: 0.7143933685003768"
      ],
      "metadata": {
        "id": "Zi-ND42wczZG"
      }
    },
    {
      "cell_type": "markdown",
      "source": [
        "Accuracy of gain info model: 0.7294649585531273"
      ],
      "metadata": {
        "id": "NjHncgExcwbz"
      }
    }
  ]
}